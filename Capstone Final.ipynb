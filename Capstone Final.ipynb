{
    "nbformat_minor": 1, 
    "cells": [
        {
            "source": "# Australian Suburb and Town recommendation engine", 
            "cell_type": "markdown", 
            "metadata": {
                "collapsed": true
            }
        }, 
        {
            "source": "This project utilizes publicly available data to recommend 10 similar suburbs in Australia to a given suburb. This could be useful for people trying to decide where to work, rent or buy property. For example, it could be used on property search websites; a person searches for property in a given suburb and is provided a list of similar suburbs to consider buying in.\nThere are three primary data points used to determine how similar other suburbs are to the given suburb;\n\n1.\tFoursquare Places API -  current data on the venues (cafes, restaurants, parks, amenities etc) most often found in the suburb\n2.\tAustralian Bureau of Statistics API \u2013 data on the cultural background (i.e. ancestry) of the people in the suburb\n3.\tRealestateVIEW.com.au \u2013 Age and income demographics of the suburb\n\nFor example, given the suburb \u2018Brunswick West\u2019 (my home suburb in Melbourne) the engine provides 10 suburbs which have similar venues (typically cafes, pubs and Middle Eastern restaurants), similar age and income residents (older middle class), and similar cultural heritage (English, Italian, Greek).\n\nIt utilizes K-Means clustering from Scikit-learn to cluster venue and cultural data, the pandasdmx package to interface with the Australian Bureau of Statistics API, and the Beautiful Soup package to scrape demographic information from the web.\n", 
            "cell_type": "markdown", 
            "metadata": {}
        }, 
        {
            "execution_count": 9, 
            "cell_type": "code", 
            "metadata": {}, 
            "outputs": [
                {
                    "output_type": "stream", 
                    "name": "stdout", 
                    "text": "Collecting pandasdmx\n\u001b[?25l  Downloading https://files.pythonhosted.org/packages/e7/5d/7e29616b0376d0a15eb3013c909c4e9021b6c6e244ef1b48817b4d0c4d46/pandaSDMX-0.9-py2.py3-none-any.whl (45kB)\n\u001b[K     |\u2588\u2588\u2588\u2588\u2588\u2588\u2588\u2588\u2588\u2588\u2588\u2588\u2588\u2588\u2588\u2588\u2588\u2588\u2588\u2588\u2588\u2588\u2588\u2588\u2588\u2588\u2588\u2588\u2588\u2588\u2588\u2588| 51kB 13.8MB/s eta 0:00:01\n\u001b[?25hRequirement already satisfied: lxml in /opt/conda/envs/Python36/lib/python3.6/site-packages (from pandasdmx) (4.3.1)\nRequirement already satisfied: pandas in /opt/conda/envs/Python36/lib/python3.6/site-packages (from pandasdmx) (0.24.1)\nCollecting jsonpath-rw (from pandasdmx)\n  Downloading https://files.pythonhosted.org/packages/71/7c/45001b1f19af8c4478489fbae4fc657b21c4c669d7a5a036a86882581d85/jsonpath-rw-1.4.0.tar.gz\nRequirement already satisfied: setuptools in /opt/conda/envs/Python36/lib/python3.6/site-packages (from pandasdmx) (40.8.0)\nRequirement already satisfied: requests in /opt/conda/envs/Python36/lib/python3.6/site-packages (from pandasdmx) (2.21.0)\nRequirement already satisfied: python-dateutil>=2.5.0 in /opt/conda/envs/Python36/lib/python3.6/site-packages (from pandas->pandasdmx) (2.7.5)\nRequirement already satisfied: numpy>=1.12.0 in /opt/conda/envs/Python36/lib/python3.6/site-packages (from pandas->pandasdmx) (1.15.4)\nRequirement already satisfied: pytz>=2011k in /opt/conda/envs/Python36/lib/python3.6/site-packages (from pandas->pandasdmx) (2018.9)\nRequirement already satisfied: ply in /opt/conda/envs/Python36/lib/python3.6/site-packages (from jsonpath-rw->pandasdmx) (3.11)\nRequirement already satisfied: decorator in /opt/conda/envs/Python36/lib/python3.6/site-packages (from jsonpath-rw->pandasdmx) (4.3.2)\nRequirement already satisfied: six in /opt/conda/envs/Python36/lib/python3.6/site-packages (from jsonpath-rw->pandasdmx) (1.12.0)\nRequirement already satisfied: idna<2.9,>=2.5 in /opt/conda/envs/Python36/lib/python3.6/site-packages (from requests->pandasdmx) (2.8)\nRequirement already satisfied: certifi>=2017.4.17 in /opt/conda/envs/Python36/lib/python3.6/site-packages (from requests->pandasdmx) (2019.6.16)\nRequirement already satisfied: chardet<3.1.0,>=3.0.2 in /opt/conda/envs/Python36/lib/python3.6/site-packages (from requests->pandasdmx) (3.0.4)\nRequirement already satisfied: urllib3<1.25,>=1.21.1 in /opt/conda/envs/Python36/lib/python3.6/site-packages (from requests->pandasdmx) (1.24.1)\nBuilding wheels for collected packages: jsonpath-rw\n  Building wheel for jsonpath-rw (setup.py) ... \u001b[?25ldone\n\u001b[?25h  Stored in directory: /home/dsxuser/.cache/pip/wheels/5c/00/9a/82822db383c2d96dcebf839786665a185f92d37e5026f9806f\nSuccessfully built jsonpath-rw\nInstalling collected packages: jsonpath-rw, pandasdmx\nSuccessfully installed jsonpath-rw-1.4.0 pandasdmx-0.9\n"
                }
            ], 
            "source": "#pandasdmx is used when calling the Australian Bureau of Statistics API\n!pip install pandasdmx"
        }, 
        {
            "execution_count": 10, 
            "cell_type": "code", 
            "metadata": {}, 
            "outputs": [], 
            "source": "import pandas as pd\nimport numpy as np\nimport json # library to handle JSON files\nfrom pandas.io.json import json_normalize # tranform JSON file into a pandas dataframe\nimport requests\nfrom sklearn.cluster import KMeans\nfrom pandasdmx import Request\nfrom bs4 import BeautifulSoup"
        }, 
        {
            "source": "## Get suburb and postcode data\nList of Australian postcodes and suburbs are available online on many websites. I've replicated the file from http://www.corra.com.au/australian-postcode-location-data/ on Github\n", 
            "cell_type": "markdown", 
            "metadata": {}
        }, 
        {
            "execution_count": 11, 
            "cell_type": "code", 
            "metadata": {}, 
            "outputs": [
                {
                    "output_type": "stream", 
                    "name": "stdout", 
                    "text": "Postcodes shape:  (16080, 7)\n"
                }, 
                {
                    "execution_count": 11, 
                    "metadata": {}, 
                    "data": {
                        "text/html": "<div>\n<style scoped>\n    .dataframe tbody tr th:only-of-type {\n        vertical-align: middle;\n    }\n\n    .dataframe tbody tr th {\n        vertical-align: top;\n    }\n\n    .dataframe thead th {\n        text-align: right;\n    }\n</style>\n<table border=\"1\" class=\"dataframe\">\n  <thead>\n    <tr style=\"text-align: right;\">\n      <th></th>\n      <th>postcode</th>\n      <th>suburb</th>\n      <th>state</th>\n      <th>dc</th>\n      <th>type</th>\n      <th>lat</th>\n      <th>lon</th>\n    </tr>\n  </thead>\n  <tbody>\n    <tr>\n      <th>0</th>\n      <td>200</td>\n      <td>AUSTRALIAN NATIONAL UNIVERSITY</td>\n      <td>ACT</td>\n      <td>AUSTRALIAN NATIONAL UNI LPO</td>\n      <td>Post Office Boxes</td>\n      <td>-35.277272</td>\n      <td>149.117136</td>\n    </tr>\n    <tr>\n      <th>1</th>\n      <td>221</td>\n      <td>BARTON</td>\n      <td>ACT</td>\n      <td>NaN</td>\n      <td>LVR</td>\n      <td>-35.201372</td>\n      <td>149.095065</td>\n    </tr>\n    <tr>\n      <th>2</th>\n      <td>800</td>\n      <td>DARWIN</td>\n      <td>NT</td>\n      <td>DARWIN DELIVERY CENTRE</td>\n      <td>Delivery Area</td>\n      <td>-12.801028</td>\n      <td>130.955789</td>\n    </tr>\n    <tr>\n      <th>3</th>\n      <td>801</td>\n      <td>DARWIN</td>\n      <td>NT</td>\n      <td>DARWIN DELIVERY CENTRE</td>\n      <td>Post Office Boxes</td>\n      <td>-12.801028</td>\n      <td>130.955789</td>\n    </tr>\n    <tr>\n      <th>4</th>\n      <td>804</td>\n      <td>PARAP</td>\n      <td>NT</td>\n      <td>PARAP</td>\n      <td>Post Office Boxes</td>\n      <td>-12.432181</td>\n      <td>130.843310</td>\n    </tr>\n  </tbody>\n</table>\n</div>", 
                        "text/plain": "   postcode                          suburb state  \\\n0       200  AUSTRALIAN NATIONAL UNIVERSITY   ACT   \n1       221                          BARTON   ACT   \n2       800                          DARWIN    NT   \n3       801                          DARWIN    NT   \n4       804                           PARAP    NT   \n\n                            dc                                           type  \\\n0  AUSTRALIAN NATIONAL UNI LPO  Post Office Boxes                               \n1                          NaN  LVR                                             \n2       DARWIN DELIVERY CENTRE  Delivery Area                                   \n3       DARWIN DELIVERY CENTRE  Post Office Boxes                               \n4                        PARAP  Post Office Boxes                               \n\n         lat         lon  \n0 -35.277272  149.117136  \n1 -35.201372  149.095065  \n2 -12.801028  130.955789  \n3 -12.801028  130.955789  \n4 -12.432181  130.843310  "
                    }, 
                    "output_type": "execute_result"
                }
            ], 
            "source": "filename = \"https://raw.githubusercontent.com/DataistDogma/Coursera_Capstone/master/Australian_Post_Codes_Lat_Lon/Australian_Post_Codes_Lat_Lon.csv\"\npostcodes = pd.read_csv(filename)\nprint(\"Postcodes shape: \", postcodes.shape)\npostcodes.head()"
        }, 
        {
            "source": "Each row represents a Distribution Centre (dc) rather than a suburb or postcode. We're looking for a list of unique suburbs, so we'll filter the dataframe for unique suburbs and remove the 'dc' and 'type' column, which we don't need", 
            "cell_type": "markdown", 
            "metadata": {}
        }, 
        {
            "execution_count": 12, 
            "cell_type": "code", 
            "metadata": {}, 
            "outputs": [
                {
                    "execution_count": 12, 
                    "metadata": {}, 
                    "data": {
                        "text/plain": "(14269, 5)"
                    }, 
                    "output_type": "execute_result"
                }
            ], 
            "source": "postcodes.drop_duplicates(subset='suburb', inplace=True)\npostcodes.drop(['dc', 'type'],axis=1,inplace=True )\npostcodes.dropna(inplace=True) #drop the trailing row which has no data\npostcodes.reset_index(inplace=True, drop=True) #reinex after having removed some rows above\npostcodes.shape"
        }, 
        {
            "source": "For simplicity we'll also create a smaller subset of suburbs, being those in Metropolitan Melbourne, the second-largest city in Australia. The postcode range for Melbourne are postcode between 3000-3207 & 8000-8499", 
            "cell_type": "markdown", 
            "metadata": {}
        }, 
        {
            "execution_count": 13, 
            "cell_type": "code", 
            "metadata": {}, 
            "outputs": [
                {
                    "execution_count": 13, 
                    "metadata": {}, 
                    "data": {
                        "text/html": "<div>\n<style scoped>\n    .dataframe tbody tr th:only-of-type {\n        vertical-align: middle;\n    }\n\n    .dataframe tbody tr th {\n        vertical-align: top;\n    }\n\n    .dataframe thead th {\n        text-align: right;\n    }\n</style>\n<table border=\"1\" class=\"dataframe\">\n  <thead>\n    <tr style=\"text-align: right;\">\n      <th></th>\n      <th>postcode</th>\n      <th>suburb</th>\n      <th>state</th>\n      <th>lat</th>\n      <th>lon</th>\n    </tr>\n  </thead>\n  <tbody>\n    <tr>\n      <th>4901</th>\n      <td>3000</td>\n      <td>MELBOURNE</td>\n      <td>VIC</td>\n      <td>-37.814563</td>\n      <td>144.970267</td>\n    </tr>\n    <tr>\n      <th>4902</th>\n      <td>3002</td>\n      <td>EAST MELBOURNE</td>\n      <td>VIC</td>\n      <td>-37.816640</td>\n      <td>144.987811</td>\n    </tr>\n    <tr>\n      <th>4903</th>\n      <td>3003</td>\n      <td>WEST MELBOURNE</td>\n      <td>VIC</td>\n      <td>-37.806255</td>\n      <td>144.941123</td>\n    </tr>\n    <tr>\n      <th>4904</th>\n      <td>3005</td>\n      <td>WORLD TRADE CENTRE</td>\n      <td>VIC</td>\n      <td>-37.822262</td>\n      <td>144.954856</td>\n    </tr>\n    <tr>\n      <th>4905</th>\n      <td>3006</td>\n      <td>SOUTHBANK</td>\n      <td>VIC</td>\n      <td>-37.823258</td>\n      <td>144.965926</td>\n    </tr>\n  </tbody>\n</table>\n</div>", 
                        "text/plain": "      postcode              suburb state        lat         lon\n4901      3000           MELBOURNE   VIC -37.814563  144.970267\n4902      3002      EAST MELBOURNE   VIC -37.816640  144.987811\n4903      3003      WEST MELBOURNE   VIC -37.806255  144.941123\n4904      3005  WORLD TRADE CENTRE   VIC -37.822262  144.954856\n4905      3006           SOUTHBANK   VIC -37.823258  144.965926"
                    }, 
                    "output_type": "execute_result"
                }
            ], 
            "source": "melb_postcodes = postcodes[(postcodes['postcode']>=3000)&(postcodes['postcode']<=3207)|(postcodes['postcode']>=8000)&(postcodes['postcode']<=8499)]\nmelb_postcodes.head()"
        }, 
        {
            "source": "## Assign venue clusters\nUse the Foursquare API to get venue recommendations for each suburb and then use K-means to assign a venue cluster to the suburb based on the recommendations returned", 
            "cell_type": "markdown", 
            "metadata": {}
        }, 
        {
            "execution_count": 14, 
            "cell_type": "code", 
            "metadata": {}, 
            "outputs": [], 
            "source": "#intialise Foursquare API credentials\nCLIENT_ID = 'EKC0OWGJC1SY1AE1UHB4PUPH2JGARZTQK1U5C1USTUNA43JF' # your Foursquare ID\nCLIENT_SECRET = 'CHH0EPUEN2PH4WBDV4XHTDT5NWTUZ2SYVIQALUOZXWYNABRO' # your Foursquare Secret\nVERSION = '20180605' # Foursquare API version"
        }, 
        {
            "execution_count": 15, 
            "cell_type": "code", 
            "metadata": {}, 
            "outputs": [], 
            "source": "#Use the function to extract the category from the dataframe (because the column name could be either 'categories' or 'venue.categories')\ndef get_category_type(row):\n    try:\n        categories_list = row['categories']\n    except:\n        categories_list = row['venue.categories']\n        \n    if len(categories_list) == 0:\n        return None\n    else:\n        return categories_list[0]['name']"
        }, 
        {
            "execution_count": 16, 
            "cell_type": "code", 
            "metadata": {}, 
            "outputs": [], 
            "source": "#define a function to return all the venues for a given neighborhood\n\n#pass the neighborhood (nb), the latitude (la), the radius and the limit \ndef get_venues(nb, la, lo, radius, limit):\n    \n    #print(nb)\n    \n    #form the request url and request only the items (which are the venues)\n    url = 'https://api.foursquare.com/v2/venues/explore?client_id={}&client_secret={}&ll={},{}&v={}&limit={}'.format(CLIENT_ID, CLIENT_SECRET, la, lo, VERSION, limit)\n    items = requests.get(url).json()[\"response\"]['groups'][0]['items']\n    \n    #include exception handling where Foursquare request fails for a particular Neighbourhood\n    if items == []:\n        print(\" -- Foursquare request for \",nb,\"returned no results --\")\n        return None\n    else:\n        # flatten JSON, filter for only wanted columns then use the get_category_type funtion to replace the category list with just the category.\n        venues1 = json_normalize(items)\n        filtered_columns = ['venue.name', 'venue.categories', 'venue.location.lat', 'venue.location.lng']\n        venues1 =venues1.loc[:, filtered_columns]\n        venues1['venue.categories'] = venues1.apply(get_category_type, axis=1)\n\n        #define a new dataframe with the Neighbourhood information\n        venues2 = pd.DataFrame(columns=['Suburb','Suburb Latitude', \n                      'Suburb Longitude']) \n\n        #for each of the venues returned, add the venue dataframe to the (empty) neighbourhood dataframe and fill all rows in the the neighbourhood columns with the neighborhood name, the neighbourhood latitude and longitude\n        i=0\n        for row in venues1:\n            venues2[row]=venues1[row]\n            venues2['Suburb']=nb\n            venues2['Suburb Latitude']=la\n            venues2['Suburb Longitude']=lo\n            i=i+1\n\n        #rename the columns\n        venues2.rename(index=str,columns={\"venue.name\":\"Venue\",\"venue.categories\":\"Venue Category\",\"venue.location.lat\":\"Venue Latitude\",\"venue.location.lng\":\"Venue Longitude\"}, inplace=True)\n    \n    return venues2"
        }, 
        {
            "execution_count": 17, 
            "cell_type": "code", 
            "metadata": {}, 
            "outputs": [
                {
                    "execution_count": 17, 
                    "metadata": {}, 
                    "data": {
                        "text/html": "<div>\n<style scoped>\n    .dataframe tbody tr th:only-of-type {\n        vertical-align: middle;\n    }\n\n    .dataframe tbody tr th {\n        vertical-align: top;\n    }\n\n    .dataframe thead th {\n        text-align: right;\n    }\n</style>\n<table border=\"1\" class=\"dataframe\">\n  <thead>\n    <tr style=\"text-align: right;\">\n      <th></th>\n      <th>Suburb</th>\n      <th>Suburb Latitude</th>\n      <th>Suburb Longitude</th>\n      <th>Venue</th>\n      <th>Venue Category</th>\n      <th>Venue Latitude</th>\n      <th>Venue Longitude</th>\n    </tr>\n  </thead>\n  <tbody>\n    <tr>\n      <th>0</th>\n      <td>LANE COVE WEST</td>\n      <td>-33.806246</td>\n      <td>151.153281</td>\n      <td>Lane Cove Aquatic Centre</td>\n      <td>Pool</td>\n      <td>-33.813591</td>\n      <td>151.171442</td>\n    </tr>\n    <tr>\n      <th>1</th>\n      <td>LANE COVE WEST</td>\n      <td>-33.806246</td>\n      <td>151.153281</td>\n      <td>Via Napoli Pizzeria</td>\n      <td>Pizza Place</td>\n      <td>-33.815597</td>\n      <td>151.169879</td>\n    </tr>\n    <tr>\n      <th>2</th>\n      <td>LANE COVE WEST</td>\n      <td>-33.806246</td>\n      <td>151.153281</td>\n      <td>Lane Cove National Park</td>\n      <td>Park</td>\n      <td>-33.792008</td>\n      <td>151.152327</td>\n    </tr>\n    <tr>\n      <th>3</th>\n      <td>LANE COVE WEST</td>\n      <td>-33.806246</td>\n      <td>151.153281</td>\n      <td>North Shore Gym</td>\n      <td>Gym</td>\n      <td>-33.814679</td>\n      <td>151.169105</td>\n    </tr>\n    <tr>\n      <th>4</th>\n      <td>LANE COVE WEST</td>\n      <td>-33.806246</td>\n      <td>151.153281</td>\n      <td>Fourno</td>\n      <td>Caf\u00e9</td>\n      <td>-33.795317</td>\n      <td>151.143533</td>\n    </tr>\n  </tbody>\n</table>\n</div>", 
                        "text/plain": "           Suburb  Suburb Latitude  Suburb Longitude  \\\n0  LANE COVE WEST       -33.806246        151.153281   \n1  LANE COVE WEST       -33.806246        151.153281   \n2  LANE COVE WEST       -33.806246        151.153281   \n3  LANE COVE WEST       -33.806246        151.153281   \n4  LANE COVE WEST       -33.806246        151.153281   \n\n                      Venue Venue Category  Venue Latitude  Venue Longitude  \n0  Lane Cove Aquatic Centre           Pool      -33.813591       151.171442  \n1       Via Napoli Pizzeria    Pizza Place      -33.815597       151.169879  \n2   Lane Cove National Park           Park      -33.792008       151.152327  \n3           North Shore Gym            Gym      -33.814679       151.169105  \n4                    Fourno           Caf\u00e9      -33.795317       151.143533  "
                    }, 
                    "output_type": "execute_result"
                }
            ], 
            "source": "#test out the get_venues function\nrow = 300\nn = postcodes.loc[row]['suburb']\nn_lat = postcodes.loc[row]['lat']\nn_long = postcodes.loc[row]['lon']\n\ndf2=get_venues(n, n_lat, n_long, 500, 100)\ndf2.head()"
        }, 
        {
            "execution_count": 18, 
            "cell_type": "code", 
            "metadata": {}, 
            "outputs": [
                {
                    "output_type": "stream", 
                    "name": "stdout", 
                    "text": "Getting venue recommendations, please wait......\n...... Complete\n"
                }
            ], 
            "source": "#Iterate thorough all the suburbs of the dataframe df, adding each set of venues to the df_suburb_venues dataframe\ndf=melb_postcodes\ndf_suburb_venues=pd.DataFrame()\nradius = 500\nlimit = 100\nprint(\"Getting venue recommendations, please wait......\")\nfor i, row in enumerate(df['suburb']):\n        df_suburb_venues=df_suburb_venues.append(get_venues(df.iloc[i]['suburb'], df.iloc[i]['lat'], df.iloc[i]['lon'], radius, limit),ignore_index=True)\nprint(\"...... Complete\")"
        }, 
        {
            "execution_count": 19, 
            "cell_type": "code", 
            "metadata": {}, 
            "outputs": [
                {
                    "execution_count": 19, 
                    "metadata": {}, 
                    "data": {
                        "text/plain": "Caf\u00e9                    6132\nFast Food Restaurant    1723\nGrocery Store           1455\nSupermarket             1426\nSandwich Place          1018\nCoffee Shop              917\nShopping Mall            800\nPark                     794\nPizza Place              774\nPub                      773\nName: Venue Category, dtype: int64"
                    }, 
                    "output_type": "execute_result"
                }
            ], 
            "source": "counts = df_suburb_venues['Venue Category'].value_counts()\ncounts.head(10)"
        }, 
        {
            "execution_count": 20, 
            "cell_type": "code", 
            "metadata": {}, 
            "outputs": [
                {
                    "execution_count": 20, 
                    "metadata": {}, 
                    "data": {
                        "text/html": "<div>\n<style scoped>\n    .dataframe tbody tr th:only-of-type {\n        vertical-align: middle;\n    }\n\n    .dataframe tbody tr th {\n        vertical-align: top;\n    }\n\n    .dataframe thead th {\n        text-align: right;\n    }\n</style>\n<table border=\"1\" class=\"dataframe\">\n  <thead>\n    <tr style=\"text-align: right;\">\n      <th></th>\n      <th>Suburb</th>\n      <th>Accessories Store</th>\n      <th>Adult Boutique</th>\n      <th>Afghan Restaurant</th>\n      <th>African Restaurant</th>\n      <th>Airport</th>\n      <th>Airport Lounge</th>\n      <th>Airport Service</th>\n      <th>Airport Terminal</th>\n      <th>American Restaurant</th>\n      <th>...</th>\n      <th>Wine Bar</th>\n      <th>Wine Shop</th>\n      <th>Winery</th>\n      <th>Wings Joint</th>\n      <th>Women's Store</th>\n      <th>Xinjiang Restaurant</th>\n      <th>Yoga Studio</th>\n      <th>Yunnan Restaurant</th>\n      <th>Zoo</th>\n      <th>Zoo Exhibit</th>\n    </tr>\n  </thead>\n  <tbody>\n    <tr>\n      <th>0</th>\n      <td>ABECKETT STREET</td>\n      <td>0.0</td>\n      <td>0.0</td>\n      <td>0.000000</td>\n      <td>0.0</td>\n      <td>0.00000</td>\n      <td>0.0</td>\n      <td>0.0</td>\n      <td>0.0</td>\n      <td>0.0</td>\n      <td>...</td>\n      <td>0.010000</td>\n      <td>0.00</td>\n      <td>0.0</td>\n      <td>0.0</td>\n      <td>0.0</td>\n      <td>0.0</td>\n      <td>0.0</td>\n      <td>0.0</td>\n      <td>0.0</td>\n      <td>0.0</td>\n    </tr>\n    <tr>\n      <th>1</th>\n      <td>ABERFELDIE</td>\n      <td>0.0</td>\n      <td>0.0</td>\n      <td>0.000000</td>\n      <td>0.0</td>\n      <td>0.00000</td>\n      <td>0.0</td>\n      <td>0.0</td>\n      <td>0.0</td>\n      <td>0.0</td>\n      <td>...</td>\n      <td>0.000000</td>\n      <td>0.00</td>\n      <td>0.0</td>\n      <td>0.0</td>\n      <td>0.0</td>\n      <td>0.0</td>\n      <td>0.0</td>\n      <td>0.0</td>\n      <td>0.0</td>\n      <td>0.0</td>\n    </tr>\n    <tr>\n      <th>2</th>\n      <td>AIRPORT WEST</td>\n      <td>0.0</td>\n      <td>0.0</td>\n      <td>0.000000</td>\n      <td>0.0</td>\n      <td>0.01087</td>\n      <td>0.0</td>\n      <td>0.0</td>\n      <td>0.0</td>\n      <td>0.0</td>\n      <td>...</td>\n      <td>0.000000</td>\n      <td>0.00</td>\n      <td>0.0</td>\n      <td>0.0</td>\n      <td>0.0</td>\n      <td>0.0</td>\n      <td>0.0</td>\n      <td>0.0</td>\n      <td>0.0</td>\n      <td>0.0</td>\n    </tr>\n    <tr>\n      <th>3</th>\n      <td>ALBANVALE</td>\n      <td>0.0</td>\n      <td>0.0</td>\n      <td>0.010417</td>\n      <td>0.0</td>\n      <td>0.00000</td>\n      <td>0.0</td>\n      <td>0.0</td>\n      <td>0.0</td>\n      <td>0.0</td>\n      <td>...</td>\n      <td>0.010417</td>\n      <td>0.00</td>\n      <td>0.0</td>\n      <td>0.0</td>\n      <td>0.0</td>\n      <td>0.0</td>\n      <td>0.0</td>\n      <td>0.0</td>\n      <td>0.0</td>\n      <td>0.0</td>\n    </tr>\n    <tr>\n      <th>4</th>\n      <td>ALBERT PARK</td>\n      <td>0.0</td>\n      <td>0.0</td>\n      <td>0.000000</td>\n      <td>0.0</td>\n      <td>0.00000</td>\n      <td>0.0</td>\n      <td>0.0</td>\n      <td>0.0</td>\n      <td>0.0</td>\n      <td>...</td>\n      <td>0.010000</td>\n      <td>0.01</td>\n      <td>0.0</td>\n      <td>0.0</td>\n      <td>0.0</td>\n      <td>0.0</td>\n      <td>0.0</td>\n      <td>0.0</td>\n      <td>0.0</td>\n      <td>0.0</td>\n    </tr>\n  </tbody>\n</table>\n<p>5 rows \u00d7 338 columns</p>\n</div>", 
                        "text/plain": "            Suburb  Accessories Store  Adult Boutique  Afghan Restaurant  \\\n0  ABECKETT STREET                0.0             0.0           0.000000   \n1       ABERFELDIE                0.0             0.0           0.000000   \n2     AIRPORT WEST                0.0             0.0           0.000000   \n3        ALBANVALE                0.0             0.0           0.010417   \n4      ALBERT PARK                0.0             0.0           0.000000   \n\n   African Restaurant  Airport  Airport Lounge  Airport Service  \\\n0                 0.0  0.00000             0.0              0.0   \n1                 0.0  0.00000             0.0              0.0   \n2                 0.0  0.01087             0.0              0.0   \n3                 0.0  0.00000             0.0              0.0   \n4                 0.0  0.00000             0.0              0.0   \n\n   Airport Terminal  American Restaurant  ...  Wine Bar  Wine Shop  Winery  \\\n0               0.0                  0.0  ...  0.010000       0.00     0.0   \n1               0.0                  0.0  ...  0.000000       0.00     0.0   \n2               0.0                  0.0  ...  0.000000       0.00     0.0   \n3               0.0                  0.0  ...  0.010417       0.00     0.0   \n4               0.0                  0.0  ...  0.010000       0.01     0.0   \n\n   Wings Joint  Women's Store  Xinjiang Restaurant  Yoga Studio  \\\n0          0.0            0.0                  0.0          0.0   \n1          0.0            0.0                  0.0          0.0   \n2          0.0            0.0                  0.0          0.0   \n3          0.0            0.0                  0.0          0.0   \n4          0.0            0.0                  0.0          0.0   \n\n   Yunnan Restaurant  Zoo  Zoo Exhibit  \n0                0.0  0.0          0.0  \n1                0.0  0.0          0.0  \n2                0.0  0.0          0.0  \n3                0.0  0.0          0.0  \n4                0.0  0.0          0.0  \n\n[5 rows x 338 columns]"
                    }, 
                    "output_type": "execute_result"
                }
            ], 
            "source": "#Prepare the data for clustering using one-hot encoding\ndf_onehot = pd.get_dummies(df_suburb_venues['Venue Category'])\n#insert a new column for the Neighbourhood values (note that immediately reusing the 'Neighborhood' name causes as error as you can't add a Neighourhood column that already exists, so renamed the column post the insert)\ndf_onehot.insert(0,\"New\",df_suburb_venues['Suburb'])\ndf_onehot.rename(columns={'New':'Suburb'}, inplace=True)\n\n#get the mean frequency occurance\ndf_onehot = df_onehot.groupby(\"Suburb\").mean().reset_index()\ndf_onehot.head()"
        }, 
        {
            "execution_count": 21, 
            "cell_type": "code", 
            "metadata": {}, 
            "outputs": [
                {
                    "execution_count": 21, 
                    "metadata": {}, 
                    "data": {
                        "text/html": "<div>\n<style scoped>\n    .dataframe tbody tr th:only-of-type {\n        vertical-align: middle;\n    }\n\n    .dataframe tbody tr th {\n        vertical-align: top;\n    }\n\n    .dataframe thead th {\n        text-align: right;\n    }\n</style>\n<table border=\"1\" class=\"dataframe\">\n  <thead>\n    <tr style=\"text-align: right;\">\n      <th></th>\n      <th>Suburb</th>\n      <th>#1</th>\n      <th>#2</th>\n      <th>#3</th>\n      <th>#4</th>\n      <th>#5</th>\n      <th>#6</th>\n      <th>#7</th>\n      <th>#8</th>\n      <th>#9</th>\n      <th>#10</th>\n    </tr>\n  </thead>\n  <tbody>\n    <tr>\n      <th>0</th>\n      <td>ABECKETT STREET</td>\n      <td>Korean Restaurant</td>\n      <td>Caf\u00e9</td>\n      <td>Coffee Shop</td>\n      <td>Japanese Restaurant</td>\n      <td>Bar</td>\n      <td>Bubble Tea Shop</td>\n      <td>Indonesian Restaurant</td>\n      <td>Donut Shop</td>\n      <td>Burger Joint</td>\n      <td>Fast Food Restaurant</td>\n    </tr>\n    <tr>\n      <th>1</th>\n      <td>ABERFELDIE</td>\n      <td>Caf\u00e9</td>\n      <td>Electronics Store</td>\n      <td>Grocery Store</td>\n      <td>Gym</td>\n      <td>Bakery</td>\n      <td>Coffee Shop</td>\n      <td>Shopping Mall</td>\n      <td>Pub</td>\n      <td>Japanese Restaurant</td>\n      <td>Pizza Place</td>\n    </tr>\n    <tr>\n      <th>2</th>\n      <td>AIRPORT WEST</td>\n      <td>Fast Food Restaurant</td>\n      <td>Supermarket</td>\n      <td>Caf\u00e9</td>\n      <td>Sandwich Place</td>\n      <td>Grocery Store</td>\n      <td>Portuguese Restaurant</td>\n      <td>Convenience Store</td>\n      <td>Middle Eastern Restaurant</td>\n      <td>Shopping Mall</td>\n      <td>Electronics Store</td>\n    </tr>\n    <tr>\n      <th>3</th>\n      <td>ALBANVALE</td>\n      <td>Fast Food Restaurant</td>\n      <td>Portuguese Restaurant</td>\n      <td>Caf\u00e9</td>\n      <td>Supermarket</td>\n      <td>Grocery Store</td>\n      <td>Bakery</td>\n      <td>Shopping Mall</td>\n      <td>Vietnamese Restaurant</td>\n      <td>Pizza Place</td>\n      <td>Chinese Restaurant</td>\n    </tr>\n    <tr>\n      <th>4</th>\n      <td>ALBERT PARK</td>\n      <td>Caf\u00e9</td>\n      <td>Pub</td>\n      <td>Japanese Restaurant</td>\n      <td>Gastropub</td>\n      <td>Burger Joint</td>\n      <td>Coffee Shop</td>\n      <td>Beach</td>\n      <td>Bakery</td>\n      <td>Fish &amp; Chips Shop</td>\n      <td>Breakfast Spot</td>\n    </tr>\n  </tbody>\n</table>\n</div>", 
                        "text/plain": "            Suburb                    #1                     #2  \\\n0  ABECKETT STREET     Korean Restaurant                   Caf\u00e9   \n1       ABERFELDIE                  Caf\u00e9      Electronics Store   \n2     AIRPORT WEST  Fast Food Restaurant            Supermarket   \n3        ALBANVALE  Fast Food Restaurant  Portuguese Restaurant   \n4      ALBERT PARK                  Caf\u00e9                    Pub   \n\n                    #3                   #4             #5  \\\n0          Coffee Shop  Japanese Restaurant            Bar   \n1        Grocery Store                  Gym         Bakery   \n2                 Caf\u00e9       Sandwich Place  Grocery Store   \n3                 Caf\u00e9          Supermarket  Grocery Store   \n4  Japanese Restaurant            Gastropub   Burger Joint   \n\n                      #6                     #7                         #8  \\\n0        Bubble Tea Shop  Indonesian Restaurant                 Donut Shop   \n1            Coffee Shop          Shopping Mall                        Pub   \n2  Portuguese Restaurant      Convenience Store  Middle Eastern Restaurant   \n3                 Bakery          Shopping Mall      Vietnamese Restaurant   \n4            Coffee Shop                  Beach                     Bakery   \n\n                    #9                   #10  \n0         Burger Joint  Fast Food Restaurant  \n1  Japanese Restaurant           Pizza Place  \n2        Shopping Mall     Electronics Store  \n3          Pizza Place    Chinese Restaurant  \n4    Fish & Chips Shop        Breakfast Spot  "
                    }, 
                    "output_type": "execute_result"
                }
            ], 
            "source": "#put the top10 into a dataframe\ndf_topvenues=pd.DataFrame(columns=['Suburb','#1','#2','#3','#4','#5','#6','#7','#8','#9','#10'])\n\nfor row in range(0,len(df_onehot)):\n    suburb = df_onehot.iloc[row][0]\n    topten = df_onehot.iloc[row][1:].sort_values(ascending=False).head(10)\n    temp=pd.DataFrame([[suburb,topten.index[0],topten.index[1],topten.index[2],topten.index[3],topten.index[4],topten.index[5],topten.index[6],topten.index[7],topten.index[8],topten.index[9]]],columns=['Suburb','#1','#2','#3','#4','#5','#6','#7','#8','#9','#10'])\n    df_topvenues=df_topvenues.append(temp)\ndf_topvenues.reset_index(inplace=True, drop=True)\ndf_topvenues.head()"
        }, 
        {
            "source": "### Assign a cluster based on the recommendations using the k-means clustering algorithm from Scikit Learn", 
            "cell_type": "markdown", 
            "metadata": {}
        }, 
        {
            "execution_count": 22, 
            "cell_type": "code", 
            "metadata": {}, 
            "outputs": [
                {
                    "execution_count": 22, 
                    "metadata": {}, 
                    "data": {
                        "text/plain": "array([0, 3, 4, 4, 3, 4, 3, 1, 3, 3, 2, 3, 4, 3, 3, 3, 3, 1, 1, 1, 2, 4,\n       3, 4, 3, 3, 3, 3, 4, 1, 1, 2, 2, 3, 2, 1, 1, 1, 1, 1, 2, 1, 1, 3,\n       1, 3, 3, 1, 1, 1, 2, 2, 1, 1, 3, 1, 1, 1, 1, 1, 3, 3, 3, 3, 4, 0,\n       0, 0, 3, 0, 0, 1, 2, 3, 3, 4, 4, 2, 4, 4, 3, 3, 3, 3, 4, 0, 0, 1,\n       4, 2, 2, 3, 3, 2, 3, 3, 3, 1, 1, 3], dtype=int32)"
                    }, 
                    "output_type": "execute_result"
                }
            ], 
            "source": "# import k-means\nfrom sklearn.cluster import KMeans\n\ndf_clustering = df_onehot.drop('Suburb',axis=1)\n\n# set number of clusters\nk = 5\n\n# run k-means clustering\nkmeans = KMeans(n_clusters=k, random_state=0).fit(df_clustering)\n\n# check cluster labels generated for each row in the dataframe\nkmeans.labels_[0:100]"
        }, 
        {
            "execution_count": 23, 
            "cell_type": "code", 
            "metadata": {}, 
            "outputs": [], 
            "source": "df_topvenues.insert(0,'Venues Cluster',kmeans.labels_)"
        }, 
        {
            "execution_count": 24, 
            "cell_type": "code", 
            "metadata": {}, 
            "outputs": [
                {
                    "execution_count": 24, 
                    "metadata": {}, 
                    "data": {
                        "text/html": "<div>\n<style scoped>\n    .dataframe tbody tr th:only-of-type {\n        vertical-align: middle;\n    }\n\n    .dataframe tbody tr th {\n        vertical-align: top;\n    }\n\n    .dataframe thead th {\n        text-align: right;\n    }\n</style>\n<table border=\"1\" class=\"dataframe\">\n  <thead>\n    <tr style=\"text-align: right;\">\n      <th></th>\n      <th>postcode</th>\n      <th>suburb</th>\n      <th>state</th>\n      <th>lat</th>\n      <th>lon</th>\n      <th>Venues Cluster</th>\n      <th>#1</th>\n      <th>#2</th>\n      <th>#3</th>\n      <th>#4</th>\n      <th>#5</th>\n      <th>#6</th>\n      <th>#7</th>\n      <th>#8</th>\n      <th>#9</th>\n      <th>#10</th>\n    </tr>\n  </thead>\n  <tbody>\n    <tr>\n      <th>4901</th>\n      <td>3000</td>\n      <td>MELBOURNE</td>\n      <td>VIC</td>\n      <td>-37.814563</td>\n      <td>144.970267</td>\n      <td>0.0</td>\n      <td>Cocktail Bar</td>\n      <td>Italian Restaurant</td>\n      <td>Coffee Shop</td>\n      <td>Caf\u00e9</td>\n      <td>Japanese Restaurant</td>\n      <td>Hotel</td>\n      <td>Asian Restaurant</td>\n      <td>Sandwich Place</td>\n      <td>French Restaurant</td>\n      <td>BBQ Joint</td>\n    </tr>\n    <tr>\n      <th>4902</th>\n      <td>3002</td>\n      <td>EAST MELBOURNE</td>\n      <td>VIC</td>\n      <td>-37.816640</td>\n      <td>144.987811</td>\n      <td>0.0</td>\n      <td>Caf\u00e9</td>\n      <td>Vietnamese Restaurant</td>\n      <td>Cricket Ground</td>\n      <td>Tennis Stadium</td>\n      <td>Park</td>\n      <td>Breakfast Spot</td>\n      <td>Bakery</td>\n      <td>Vegetarian / Vegan Restaurant</td>\n      <td>Football Stadium</td>\n      <td>Thai Restaurant</td>\n    </tr>\n    <tr>\n      <th>4903</th>\n      <td>3003</td>\n      <td>WEST MELBOURNE</td>\n      <td>VIC</td>\n      <td>-37.806255</td>\n      <td>144.941123</td>\n      <td>0.0</td>\n      <td>Caf\u00e9</td>\n      <td>Korean Restaurant</td>\n      <td>Bar</td>\n      <td>Hotel</td>\n      <td>Middle Eastern Restaurant</td>\n      <td>Sandwich Place</td>\n      <td>Shopping Mall</td>\n      <td>Bakery</td>\n      <td>Burger Joint</td>\n      <td>Asian Restaurant</td>\n    </tr>\n    <tr>\n      <th>4904</th>\n      <td>3005</td>\n      <td>WORLD TRADE CENTRE</td>\n      <td>VIC</td>\n      <td>-37.822262</td>\n      <td>144.954856</td>\n      <td>0.0</td>\n      <td>Caf\u00e9</td>\n      <td>Japanese Restaurant</td>\n      <td>Coffee Shop</td>\n      <td>Hotel</td>\n      <td>Bar</td>\n      <td>French Restaurant</td>\n      <td>Steakhouse</td>\n      <td>Restaurant</td>\n      <td>Italian Restaurant</td>\n      <td>Australian Restaurant</td>\n    </tr>\n    <tr>\n      <th>4905</th>\n      <td>3006</td>\n      <td>SOUTHBANK</td>\n      <td>VIC</td>\n      <td>-37.823258</td>\n      <td>144.965926</td>\n      <td>0.0</td>\n      <td>Bar</td>\n      <td>Theater</td>\n      <td>Hotel</td>\n      <td>Italian Restaurant</td>\n      <td>Performing Arts Venue</td>\n      <td>Park</td>\n      <td>Japanese Restaurant</td>\n      <td>Caf\u00e9</td>\n      <td>Australian Restaurant</td>\n      <td>Burger Joint</td>\n    </tr>\n  </tbody>\n</table>\n</div>", 
                        "text/plain": "      postcode              suburb state        lat         lon  \\\n4901      3000           MELBOURNE   VIC -37.814563  144.970267   \n4902      3002      EAST MELBOURNE   VIC -37.816640  144.987811   \n4903      3003      WEST MELBOURNE   VIC -37.806255  144.941123   \n4904      3005  WORLD TRADE CENTRE   VIC -37.822262  144.954856   \n4905      3006           SOUTHBANK   VIC -37.823258  144.965926   \n\n      Venues Cluster            #1                     #2              #3  \\\n4901             0.0  Cocktail Bar     Italian Restaurant     Coffee Shop   \n4902             0.0          Caf\u00e9  Vietnamese Restaurant  Cricket Ground   \n4903             0.0          Caf\u00e9      Korean Restaurant             Bar   \n4904             0.0          Caf\u00e9    Japanese Restaurant     Coffee Shop   \n4905             0.0           Bar                Theater           Hotel   \n\n                      #4                         #5                 #6  \\\n4901                Caf\u00e9        Japanese Restaurant              Hotel   \n4902      Tennis Stadium                       Park     Breakfast Spot   \n4903               Hotel  Middle Eastern Restaurant     Sandwich Place   \n4904               Hotel                        Bar  French Restaurant   \n4905  Italian Restaurant      Performing Arts Venue               Park   \n\n                       #7                             #8  \\\n4901     Asian Restaurant                 Sandwich Place   \n4902               Bakery  Vegetarian / Vegan Restaurant   \n4903        Shopping Mall                         Bakery   \n4904           Steakhouse                     Restaurant   \n4905  Japanese Restaurant                           Caf\u00e9   \n\n                         #9                    #10  \n4901      French Restaurant              BBQ Joint  \n4902       Football Stadium        Thai Restaurant  \n4903           Burger Joint       Asian Restaurant  \n4904     Italian Restaurant  Australian Restaurant  \n4905  Australian Restaurant           Burger Joint  "
                    }, 
                    "output_type": "execute_result"
                }
            ], 
            "source": "df_merged = postcodes\n\ndf_merged = df_merged.join(df_topvenues.set_index('Suburb'), on='suburb')\n\n#drop rows with no clusters\ndf_melbourne_merged = df_merged.dropna(subset=['Venues Cluster'])\ndf_melbourne_merged.head()"
        }, 
        {
            "source": "# Assign cultural clusters\nUse the Australian Beaureu of Statistics API to get a breakdown on the ancestry for the suburb suburb and then use K-means to assign a venue cluster suburbs with similar ancestry", 
            "cell_type": "markdown", 
            "metadata": {}
        }, 
        {
            "execution_count": 25, 
            "cell_type": "code", 
            "metadata": {}, 
            "outputs": [], 
            "source": "#create the url which returns the ABS cencus data for the year 2011 for the question T09 - Ancestry by birthplace of parents\nallvic_url='ABS_CENSUS2011_T09/TOT+1+2+3+4+Z.TOT+TOTP+1101+1102+6101+3204+2303+2101+5201+2305+2306+3205+3304+7106+2201+3103+6902+4106+3206+3104+1201+1202+3307+3308+2102+3213+7115+9215+3106+4907+5107+2103+OTH+Z.2.SA2..A/all?detail=Full&dimensionAtObservation=AllDimensions'"
        }, 
        {
            "execution_count": 26, 
            "cell_type": "code", 
            "metadata": {}, 
            "outputs": [
                {
                    "execution_count": 26, 
                    "metadata": {}, 
                    "data": {
                        "text/plain": "MEASURE  ANCP  STATE  REGIONTYPE  REGION     FREQUENCY  TIME_PERIOD\nTOT      TOT   2      SA2         201011001  A          2001            7543.0\n                                                        2006           10219.0\n                                                        2011           10969.0\n                                  205051101  A          2001           15263.0\n                                                        2006           16144.0\ndtype: float64"
                    }, 
                    "output_type": "execute_result"
                }
            ], 
            "source": "#create request object\nabs = Request('ABS')\n#create response object\nresponse = abs.data(allvic_url)\n#create dataset object\ndataset=response.data\n##create top level series\ndata=response.write()\ndata.head()"
        }, 
        {
            "source": "The data above is arranged in a single multi index column (with region being the postcode code and ANCP being the ancestry country code), so we need to pull the indexes into columns and then we can access the columns we need more easily:", 
            "cell_type": "markdown", 
            "metadata": {}
        }, 
        {
            "execution_count": 27, 
            "cell_type": "code", 
            "metadata": {}, 
            "outputs": [
                {
                    "output_type": "stream", 
                    "name": "stdout", 
                    "text": "(265608, 8)\n"
                }, 
                {
                    "execution_count": 27, 
                    "metadata": {}, 
                    "data": {
                        "text/html": "<div>\n<style scoped>\n    .dataframe tbody tr th:only-of-type {\n        vertical-align: middle;\n    }\n\n    .dataframe tbody tr th {\n        vertical-align: top;\n    }\n\n    .dataframe thead th {\n        text-align: right;\n    }\n</style>\n<table border=\"1\" class=\"dataframe\">\n  <thead>\n    <tr style=\"text-align: right;\">\n      <th></th>\n      <th>MEASURE</th>\n      <th>ANCP</th>\n      <th>STATE</th>\n      <th>REGIONTYPE</th>\n      <th>REGION</th>\n      <th>FREQUENCY</th>\n      <th>TIME_PERIOD</th>\n      <th>Value</th>\n    </tr>\n  </thead>\n  <tbody>\n    <tr>\n      <th>0</th>\n      <td>TOT</td>\n      <td>TOT</td>\n      <td>2</td>\n      <td>SA2</td>\n      <td>201011001</td>\n      <td>A</td>\n      <td>2001</td>\n      <td>7543.0</td>\n    </tr>\n    <tr>\n      <th>1</th>\n      <td>TOT</td>\n      <td>TOT</td>\n      <td>2</td>\n      <td>SA2</td>\n      <td>201011001</td>\n      <td>A</td>\n      <td>2006</td>\n      <td>10219.0</td>\n    </tr>\n    <tr>\n      <th>2</th>\n      <td>TOT</td>\n      <td>TOT</td>\n      <td>2</td>\n      <td>SA2</td>\n      <td>201011001</td>\n      <td>A</td>\n      <td>2011</td>\n      <td>10969.0</td>\n    </tr>\n    <tr>\n      <th>3</th>\n      <td>TOT</td>\n      <td>TOT</td>\n      <td>2</td>\n      <td>SA2</td>\n      <td>205051101</td>\n      <td>A</td>\n      <td>2001</td>\n      <td>15263.0</td>\n    </tr>\n    <tr>\n      <th>4</th>\n      <td>TOT</td>\n      <td>TOT</td>\n      <td>2</td>\n      <td>SA2</td>\n      <td>205051101</td>\n      <td>A</td>\n      <td>2006</td>\n      <td>16144.0</td>\n    </tr>\n  </tbody>\n</table>\n</div>", 
                        "text/plain": "  MEASURE ANCP STATE REGIONTYPE     REGION FREQUENCY TIME_PERIOD    Value\n0     TOT  TOT     2        SA2  201011001         A        2001   7543.0\n1     TOT  TOT     2        SA2  201011001         A        2006  10219.0\n2     TOT  TOT     2        SA2  201011001         A        2011  10969.0\n3     TOT  TOT     2        SA2  205051101         A        2001  15263.0\n4     TOT  TOT     2        SA2  205051101         A        2006  16144.0"
                    }, 
                    "output_type": "execute_result"
                }
            ], 
            "source": "#using reset_index removes all the levels of a multi-index column by default\ndf_ancestry = data.reset_index(name='Value')\nprint(df_ancestry.shape)\ndf_ancestry.head()"
        }, 
        {
            "execution_count": 28, 
            "cell_type": "code", 
            "metadata": {}, 
            "outputs": [
                {
                    "execution_count": 28, 
                    "metadata": {}, 
                    "data": {
                        "text/html": "<div>\n<style scoped>\n    .dataframe tbody tr th:only-of-type {\n        vertical-align: middle;\n    }\n\n    .dataframe tbody tr th {\n        vertical-align: top;\n    }\n\n    .dataframe thead th {\n        text-align: right;\n    }\n</style>\n<table border=\"1\" class=\"dataframe\">\n  <thead>\n    <tr style=\"text-align: right;\">\n      <th>ANCP</th>\n      <th>1101</th>\n      <th>1102</th>\n      <th>1201</th>\n      <th>1202</th>\n      <th>2101</th>\n      <th>2102</th>\n      <th>2103</th>\n      <th>2201</th>\n      <th>2303</th>\n      <th>2305</th>\n      <th>...</th>\n      <th>5107</th>\n      <th>5201</th>\n      <th>6101</th>\n      <th>6902</th>\n      <th>7106</th>\n      <th>7115</th>\n      <th>9215</th>\n      <th>OTH</th>\n      <th>TOTP</th>\n      <th>Z</th>\n    </tr>\n    <tr>\n      <th>REGION</th>\n      <th></th>\n      <th></th>\n      <th></th>\n      <th></th>\n      <th></th>\n      <th></th>\n      <th></th>\n      <th></th>\n      <th></th>\n      <th></th>\n      <th></th>\n      <th></th>\n      <th></th>\n      <th></th>\n      <th></th>\n      <th></th>\n      <th></th>\n      <th></th>\n      <th></th>\n      <th></th>\n      <th></th>\n    </tr>\n  </thead>\n  <tbody>\n    <tr>\n      <th>201011001</th>\n      <td>3340.0</td>\n      <td>6.0</td>\n      <td>13.0</td>\n      <td>46.0</td>\n      <td>3387.0</td>\n      <td>940.0</td>\n      <td>54.0</td>\n      <td>1167.0</td>\n      <td>253.0</td>\n      <td>17.0</td>\n      <td>...</td>\n      <td>0.0</td>\n      <td>30.0</td>\n      <td>109.0</td>\n      <td>3.0</td>\n      <td>97.0</td>\n      <td>4.0</td>\n      <td>33.0</td>\n      <td>319.0</td>\n      <td>8195.0</td>\n      <td>373.0</td>\n    </tr>\n    <tr>\n      <th>201011002</th>\n      <td>4643.0</td>\n      <td>11.0</td>\n      <td>20.0</td>\n      <td>38.0</td>\n      <td>4979.0</td>\n      <td>1609.0</td>\n      <td>86.0</td>\n      <td>2201.0</td>\n      <td>293.0</td>\n      <td>43.0</td>\n      <td>...</td>\n      <td>4.0</td>\n      <td>36.0</td>\n      <td>201.0</td>\n      <td>9.0</td>\n      <td>159.0</td>\n      <td>5.0</td>\n      <td>35.0</td>\n      <td>583.0</td>\n      <td>12398.0</td>\n      <td>848.0</td>\n    </tr>\n    <tr>\n      <th>201011003</th>\n      <td>8635.0</td>\n      <td>32.0</td>\n      <td>22.0</td>\n      <td>70.0</td>\n      <td>8847.0</td>\n      <td>2535.0</td>\n      <td>137.0</td>\n      <td>3537.0</td>\n      <td>571.0</td>\n      <td>83.0</td>\n      <td>...</td>\n      <td>12.0</td>\n      <td>53.0</td>\n      <td>216.0</td>\n      <td>7.0</td>\n      <td>102.0</td>\n      <td>9.0</td>\n      <td>39.0</td>\n      <td>757.0</td>\n      <td>21516.0</td>\n      <td>1276.0</td>\n    </tr>\n    <tr>\n      <th>201011004</th>\n      <td>9146.0</td>\n      <td>48.0</td>\n      <td>36.0</td>\n      <td>107.0</td>\n      <td>9169.0</td>\n      <td>2531.0</td>\n      <td>147.0</td>\n      <td>2969.0</td>\n      <td>683.0</td>\n      <td>98.0</td>\n      <td>...</td>\n      <td>22.0</td>\n      <td>74.0</td>\n      <td>308.0</td>\n      <td>0.0</td>\n      <td>156.0</td>\n      <td>0.0</td>\n      <td>35.0</td>\n      <td>912.0</td>\n      <td>22579.0</td>\n      <td>1713.0</td>\n    </tr>\n    <tr>\n      <th>201011005</th>\n      <td>2554.0</td>\n      <td>6.0</td>\n      <td>8.0</td>\n      <td>39.0</td>\n      <td>2939.0</td>\n      <td>861.0</td>\n      <td>36.0</td>\n      <td>1103.0</td>\n      <td>236.0</td>\n      <td>41.0</td>\n      <td>...</td>\n      <td>0.0</td>\n      <td>19.0</td>\n      <td>52.0</td>\n      <td>4.0</td>\n      <td>40.0</td>\n      <td>9.0</td>\n      <td>27.0</td>\n      <td>240.0</td>\n      <td>6583.0</td>\n      <td>279.0</td>\n    </tr>\n  </tbody>\n</table>\n<p>5 rows \u00d7 33 columns</p>\n</div>", 
                        "text/plain": "ANCP         1101  1102  1201   1202    2101    2102   2103    2201   2303  \\\nREGION                                                                       \n201011001  3340.0   6.0  13.0   46.0  3387.0   940.0   54.0  1167.0  253.0   \n201011002  4643.0  11.0  20.0   38.0  4979.0  1609.0   86.0  2201.0  293.0   \n201011003  8635.0  32.0  22.0   70.0  8847.0  2535.0  137.0  3537.0  571.0   \n201011004  9146.0  48.0  36.0  107.0  9169.0  2531.0  147.0  2969.0  683.0   \n201011005  2554.0   6.0   8.0   39.0  2939.0   861.0   36.0  1103.0  236.0   \n\nANCP       2305  ...  5107  5201   6101  6902   7106  7115  9215    OTH  \\\nREGION           ...                                                      \n201011001  17.0  ...   0.0  30.0  109.0   3.0   97.0   4.0  33.0  319.0   \n201011002  43.0  ...   4.0  36.0  201.0   9.0  159.0   5.0  35.0  583.0   \n201011003  83.0  ...  12.0  53.0  216.0   7.0  102.0   9.0  39.0  757.0   \n201011004  98.0  ...  22.0  74.0  308.0   0.0  156.0   0.0  35.0  912.0   \n201011005  41.0  ...   0.0  19.0   52.0   4.0   40.0   9.0  27.0  240.0   \n\nANCP          TOTP       Z  \nREGION                      \n201011001   8195.0   373.0  \n201011002  12398.0   848.0  \n201011003  21516.0  1276.0  \n201011004  22579.0  1713.0  \n201011005   6583.0   279.0  \n\n[5 rows x 33 columns]"
                    }, 
                    "output_type": "execute_result"
                }
            ], 
            "source": "#Take only 2011 data\ndf_ancestry = df_ancestry[(df_ancestry['TIME_PERIOD']=='2011')]\n\n#The data includes six different measures of ancestry (father only, mother only, both).\n#in this case the only measure i'm interested in the totals for each ancestry\ndf_ancestry = df_ancestry[(df_ancestry['MEASURE']=='TOT')&(df_ancestry['ANCP']!='TOT')]\n\n#pivot the Ancestry to columns in preparation for k-means analysis\ndf_ancestry = df_ancestry.pivot(index='REGION',columns='ANCP', values='Value')\n\ndf_ancestry.head()"
        }, 
        {
            "execution_count": 29, 
            "cell_type": "code", 
            "metadata": {}, 
            "outputs": [
                {
                    "execution_count": 29, 
                    "metadata": {}, 
                    "data": {
                        "text/plain": "array([5, 2, 0, 0, 1, 1, 8, 2, 1, 1, 5, 1, 8, 8, 8, 1, 1, 2, 5, 2, 5, 4,\n       8, 1, 5, 1, 5, 5, 8, 5, 1, 8, 1, 8, 1, 1, 2, 0, 2, 4, 4, 4, 2, 5,\n       2, 5, 2, 5, 1, 4, 1, 8, 2, 1, 1, 2, 5, 8, 1, 8, 8, 8, 5, 8, 8, 4,\n       5, 8, 2, 8, 8, 1, 2, 0, 8, 2, 1, 1, 4, 8, 2, 1, 8, 5, 1, 1, 5, 8,\n       5, 5, 5, 8, 0, 5, 4, 2, 0, 8, 8, 8], dtype=int32)"
                    }, 
                    "output_type": "execute_result"
                }
            ], 
            "source": "# set number of clusters\nk = 10\n\n# run k-means clustering\nkmeans = KMeans(n_clusters=k, random_state=0).fit(df_ancestry)\n\n# check cluster labels generated for each row in the dataframe\nkmeans.labels_[0:100]"
        }, 
        {
            "execution_count": 30, 
            "cell_type": "code", 
            "metadata": {}, 
            "outputs": [
                {
                    "execution_count": 30, 
                    "metadata": {}, 
                    "data": {
                        "text/html": "<div>\n<style scoped>\n    .dataframe tbody tr th:only-of-type {\n        vertical-align: middle;\n    }\n\n    .dataframe tbody tr th {\n        vertical-align: top;\n    }\n\n    .dataframe thead th {\n        text-align: right;\n    }\n</style>\n<table border=\"1\" class=\"dataframe\">\n  <thead>\n    <tr style=\"text-align: right;\">\n      <th>ANCP</th>\n      <th>Ancestry Cluster</th>\n      <th>1101</th>\n      <th>1102</th>\n      <th>1201</th>\n      <th>1202</th>\n      <th>2101</th>\n      <th>2102</th>\n      <th>2103</th>\n      <th>2201</th>\n      <th>2303</th>\n      <th>...</th>\n      <th>5107</th>\n      <th>5201</th>\n      <th>6101</th>\n      <th>6902</th>\n      <th>7106</th>\n      <th>7115</th>\n      <th>9215</th>\n      <th>OTH</th>\n      <th>TOTP</th>\n      <th>Z</th>\n    </tr>\n    <tr>\n      <th>REGION</th>\n      <th></th>\n      <th></th>\n      <th></th>\n      <th></th>\n      <th></th>\n      <th></th>\n      <th></th>\n      <th></th>\n      <th></th>\n      <th></th>\n      <th></th>\n      <th></th>\n      <th></th>\n      <th></th>\n      <th></th>\n      <th></th>\n      <th></th>\n      <th></th>\n      <th></th>\n      <th></th>\n      <th></th>\n    </tr>\n  </thead>\n  <tbody>\n    <tr>\n      <th>201011001</th>\n      <td>5</td>\n      <td>3340.0</td>\n      <td>6.0</td>\n      <td>13.0</td>\n      <td>46.0</td>\n      <td>3387.0</td>\n      <td>940.0</td>\n      <td>54.0</td>\n      <td>1167.0</td>\n      <td>253.0</td>\n      <td>...</td>\n      <td>0.0</td>\n      <td>30.0</td>\n      <td>109.0</td>\n      <td>3.0</td>\n      <td>97.0</td>\n      <td>4.0</td>\n      <td>33.0</td>\n      <td>319.0</td>\n      <td>8195.0</td>\n      <td>373.0</td>\n    </tr>\n    <tr>\n      <th>201011002</th>\n      <td>2</td>\n      <td>4643.0</td>\n      <td>11.0</td>\n      <td>20.0</td>\n      <td>38.0</td>\n      <td>4979.0</td>\n      <td>1609.0</td>\n      <td>86.0</td>\n      <td>2201.0</td>\n      <td>293.0</td>\n      <td>...</td>\n      <td>4.0</td>\n      <td>36.0</td>\n      <td>201.0</td>\n      <td>9.0</td>\n      <td>159.0</td>\n      <td>5.0</td>\n      <td>35.0</td>\n      <td>583.0</td>\n      <td>12398.0</td>\n      <td>848.0</td>\n    </tr>\n    <tr>\n      <th>201011003</th>\n      <td>0</td>\n      <td>8635.0</td>\n      <td>32.0</td>\n      <td>22.0</td>\n      <td>70.0</td>\n      <td>8847.0</td>\n      <td>2535.0</td>\n      <td>137.0</td>\n      <td>3537.0</td>\n      <td>571.0</td>\n      <td>...</td>\n      <td>12.0</td>\n      <td>53.0</td>\n      <td>216.0</td>\n      <td>7.0</td>\n      <td>102.0</td>\n      <td>9.0</td>\n      <td>39.0</td>\n      <td>757.0</td>\n      <td>21516.0</td>\n      <td>1276.0</td>\n    </tr>\n    <tr>\n      <th>201011004</th>\n      <td>0</td>\n      <td>9146.0</td>\n      <td>48.0</td>\n      <td>36.0</td>\n      <td>107.0</td>\n      <td>9169.0</td>\n      <td>2531.0</td>\n      <td>147.0</td>\n      <td>2969.0</td>\n      <td>683.0</td>\n      <td>...</td>\n      <td>22.0</td>\n      <td>74.0</td>\n      <td>308.0</td>\n      <td>0.0</td>\n      <td>156.0</td>\n      <td>0.0</td>\n      <td>35.0</td>\n      <td>912.0</td>\n      <td>22579.0</td>\n      <td>1713.0</td>\n    </tr>\n    <tr>\n      <th>201011005</th>\n      <td>1</td>\n      <td>2554.0</td>\n      <td>6.0</td>\n      <td>8.0</td>\n      <td>39.0</td>\n      <td>2939.0</td>\n      <td>861.0</td>\n      <td>36.0</td>\n      <td>1103.0</td>\n      <td>236.0</td>\n      <td>...</td>\n      <td>0.0</td>\n      <td>19.0</td>\n      <td>52.0</td>\n      <td>4.0</td>\n      <td>40.0</td>\n      <td>9.0</td>\n      <td>27.0</td>\n      <td>240.0</td>\n      <td>6583.0</td>\n      <td>279.0</td>\n    </tr>\n  </tbody>\n</table>\n<p>5 rows \u00d7 34 columns</p>\n</div>", 
                        "text/plain": "ANCP       Ancestry Cluster    1101  1102  1201   1202    2101    2102   2103  \\\nREGION                                                                          \n201011001                 5  3340.0   6.0  13.0   46.0  3387.0   940.0   54.0   \n201011002                 2  4643.0  11.0  20.0   38.0  4979.0  1609.0   86.0   \n201011003                 0  8635.0  32.0  22.0   70.0  8847.0  2535.0  137.0   \n201011004                 0  9146.0  48.0  36.0  107.0  9169.0  2531.0  147.0   \n201011005                 1  2554.0   6.0   8.0   39.0  2939.0   861.0   36.0   \n\nANCP         2201   2303  ...  5107  5201   6101  6902   7106  7115  9215  \\\nREGION                    ...                                               \n201011001  1167.0  253.0  ...   0.0  30.0  109.0   3.0   97.0   4.0  33.0   \n201011002  2201.0  293.0  ...   4.0  36.0  201.0   9.0  159.0   5.0  35.0   \n201011003  3537.0  571.0  ...  12.0  53.0  216.0   7.0  102.0   9.0  39.0   \n201011004  2969.0  683.0  ...  22.0  74.0  308.0   0.0  156.0   0.0  35.0   \n201011005  1103.0  236.0  ...   0.0  19.0   52.0   4.0   40.0   9.0  27.0   \n\nANCP         OTH     TOTP       Z  \nREGION                             \n201011001  319.0   8195.0   373.0  \n201011002  583.0  12398.0   848.0  \n201011003  757.0  21516.0  1276.0  \n201011004  912.0  22579.0  1713.0  \n201011005  240.0   6583.0   279.0  \n\n[5 rows x 34 columns]"
                    }, 
                    "output_type": "execute_result"
                }
            ], 
            "source": "df_ancestry.insert(0,'Ancestry Cluster',kmeans.labels_)\ndf_ancestry.head()"
        }, 
        {
            "source": "The table above refers to REGION  and ANCP (ancestry) by codes. We need to get the xml from the ABS which describes what each code value is and and use it to merge the name of the suburb back into the data.", 
            "cell_type": "markdown", 
            "metadata": {}
        }, 
        {
            "execution_count": 31, 
            "cell_type": "code", 
            "metadata": {}, 
            "outputs": [], 
            "source": "#an xml parser is required to get the codes from the Australian Bureau of Statistics xml file\nimport xml.etree.ElementTree as ET"
        }, 
        {
            "execution_count": 32, 
            "cell_type": "code", 
            "metadata": {}, 
            "outputs": [], 
            "source": "#the xml file of codes from the ABS\nuser_agent_url = 'http://stat.data.abs.gov.au/restsdmx/sdmx.ashx/GetDataStructure/ABS_CENSUS2011_T09'\nxml_data = requests.get(user_agent_url).content\n\n#create the xml tree from the file\ntree = ET.fromstring(xml_data)"
        }, 
        {
            "execution_count": 33, 
            "cell_type": "code", 
            "metadata": {}, 
            "outputs": [
                {
                    "execution_count": 33, 
                    "metadata": {}, 
                    "data": {
                        "text/html": "<div>\n<style scoped>\n    .dataframe tbody tr th:only-of-type {\n        vertical-align: middle;\n    }\n\n    .dataframe tbody tr th {\n        vertical-align: top;\n    }\n\n    .dataframe thead th {\n        text-align: right;\n    }\n</style>\n<table border=\"1\" class=\"dataframe\">\n  <thead>\n    <tr style=\"text-align: right;\">\n      <th></th>\n      <th>value</th>\n    </tr>\n    <tr>\n      <th>code</th>\n      <th></th>\n    </tr>\n  </thead>\n  <tbody>\n    <tr>\n      <th>TOT</th>\n      <td>Total responses(c)</td>\n    </tr>\n    <tr>\n      <th>1</th>\n      <td>Both parents born overseas</td>\n    </tr>\n    <tr>\n      <th>2</th>\n      <td>Father only born overseas</td>\n    </tr>\n    <tr>\n      <th>3</th>\n      <td>Mother only born overseas</td>\n    </tr>\n    <tr>\n      <th>4</th>\n      <td>Both parents born in Australia</td>\n    </tr>\n    <tr>\n      <th>Z</th>\n      <td>Birthplace not stated(b)</td>\n    </tr>\n    <tr>\n      <th>TOT</th>\n      <td>Total responses(c)</td>\n    </tr>\n    <tr>\n      <th>TOTP</th>\n      <td>Total persons(c)</td>\n    </tr>\n    <tr>\n      <th>1101</th>\n      <td>Australian</td>\n    </tr>\n    <tr>\n      <th>1102</th>\n      <td>Australian Aboriginal</td>\n    </tr>\n    <tr>\n      <th>6101</th>\n      <td>Chinese</td>\n    </tr>\n    <tr>\n      <th>3204</th>\n      <td>Croatian</td>\n    </tr>\n  </tbody>\n</table>\n</div>", 
                        "text/plain": "                               value\ncode                                \nTOT               Total responses(c)\n1         Both parents born overseas\n2          Father only born overseas\n3          Mother only born overseas\n4     Both parents born in Australia\nZ           Birthplace not stated(b)\nTOT               Total responses(c)\nTOTP                Total persons(c)\n1101                      Australian\n1102           Australian Aboriginal\n6101                         Chinese\n3204                        Croatian"
                    }, 
                    "output_type": "execute_result"
                }
            ], 
            "source": "#Create a dataframe which will include all the codes\ndf_codes = pd.DataFrame(columns=['code','value'])\n\n#parse the structure xml to get the codes:\nfor child in tree:\n    for lower in child:\n        for codelist in lower:\n            for description in codelist:\n                if(description.attrib.get('{http://www.w3.org/XML/1998/namespace}lang')=='en'):\n                    code = codelist.attrib.get('value')\n                    value = description.text\n                    temp_df = pd.DataFrame([[code,value]],columns=['code','value'])\n                    df_codes=pd.concat([df_codes,temp_df])\n\n#set the code as the index of the table\ndf_codes.set_index('code', inplace=True)\n\n#strip whitespaces from the values column\ndf_codes['value'] = df_codes['value'].str.strip()\ndf_codes.head(12)"
        }, 
        {
            "execution_count": 34, 
            "cell_type": "code", 
            "metadata": {}, 
            "outputs": [], 
            "source": "#merge the codes back into the Ancestrt dataframe\ndf_ancestry = df_ancestry.join(df_codes)"
        }, 
        {
            "source": "We now have a dataframe of Suburbs with Ancestry clusters. We'll clean this dataframe up as well as the original dataframe containing the Venue Cluster so that we can merge them in the subsequent step on suburb name.", 
            "cell_type": "markdown", 
            "metadata": {}
        }, 
        {
            "execution_count": 35, 
            "cell_type": "code", 
            "metadata": {}, 
            "outputs": [
                {
                    "output_type": "stream", 
                    "name": "stderr", 
                    "text": "/opt/conda/envs/Python36/lib/python3.6/site-packages/ipykernel/__main__.py:7: SettingWithCopyWarning: \nA value is trying to be set on a copy of a slice from a DataFrame.\nTry using .loc[row_indexer,col_indexer] = value instead\n\nSee the caveats in the documentation: http://pandas.pydata.org/pandas-docs/stable/indexing.html#indexing-view-versus-copy\n/opt/conda/envs/Python36/lib/python3.6/site-packages/ipykernel/__main__.py:9: SettingWithCopyWarning: \nA value is trying to be set on a copy of a slice from a DataFrame\n\nSee the caveats in the documentation: http://pandas.pydata.org/pandas-docs/stable/indexing.html#indexing-view-versus-copy\n"
                }
            ], 
            "source": "# select only the required columns, fix the names and make suburb lowercase for searching\ndf_ancestry = df_ancestry[['value','Ancestry Cluster']]\ndf_ancestry.rename(columns={\"value\":\"suburb\"}, inplace=True)\n\n#strip out whitespace, change to lowercase\ndf_ancestry['suburb'] = df_ancestry['suburb'].str.lower()\ndf_melbourne_merged['suburb']=df_melbourne_merged['suburb'].str.lower()\ndf_ancestry.sort_values(by=['suburb'], inplace=True)\ndf_melbourne_merged.sort_values(by=['suburb'], inplace=True)"
        }, 
        {
            "execution_count": 36, 
            "cell_type": "code", 
            "metadata": {}, 
            "outputs": [
                {
                    "execution_count": 36, 
                    "metadata": {}, 
                    "data": {
                        "text/plain": "(296,)"
                    }, 
                    "output_type": "execute_result"
                }
            ], 
            "source": "#merge on suburb\ndf_complete = df_melbourne_merged.merge(df_ancestry, how='left', on='suburb')\n\n#and pick only relevant columns\ndf_complete = df_complete[['postcode','suburb','state','Venues Cluster','Ancestry Cluster']]\n\n#and see how many suburbs didn't find a matching Ancestry Cluster\ndf_complete[pd.isnull(df_complete['Ancestry Cluster'])]['suburb'].shape"
        }, 
        {
            "source": "The above shows that 296 of our suburbs did not have a entry in the Ancestry dataframe when we merge directly on Suburb name. We'll need to do some looser matching which gets this number down to 93. Note that the remaining 93 are not really suburbs - they are standalone postcodes used by Australia Post", 
            "cell_type": "markdown", 
            "metadata": {}
        }, 
        {
            "execution_count": 37, 
            "cell_type": "code", 
            "metadata": {}, 
            "outputs": [
                {
                    "execution_count": 37, 
                    "metadata": {}, 
                    "data": {
                        "text/plain": "(93,)"
                    }, 
                    "output_type": "execute_result"
                }
            ], 
            "source": "#where suburb couldn't be matched directly, try to find the suburb name as a substing in df_ancestry:\nfor suburb in df_complete[pd.isnull(df_complete['Ancestry Cluster'])]['suburb']:\n    if(len(df_ancestry.loc[df_ancestry['suburb'].str.contains(suburb)]['Ancestry Cluster'])>0):\n        df_complete.loc[df_complete[df_complete['suburb']==suburb].index,'Ancestry Cluster']=df_ancestry.loc[df_ancestry['suburb'].str.contains(suburb)]['Ancestry Cluster'][0]\n\n# where there is still no macth, try to split the suburb and find the sub string. This will allow, for example, 'Altona North' to get the cluster for 'Altona'\nfor suburb in df_complete[pd.isnull(df_complete['Ancestry Cluster'])]['suburb']:\n    suburb2 = suburb.split()[0].strip()\n    if(len(df_ancestry.loc[df_ancestry['suburb'].str.contains(suburb2)]['Ancestry Cluster'])>0):\n        df_complete.loc[df_complete[df_complete['suburb']==suburb].index,'Ancestry Cluster']=df_ancestry.loc[df_ancestry['suburb'].str.contains(suburb2)]['Ancestry Cluster'][0]\n\n\n#and see how many suburbs didn't find a matching Ancestry Cluster\ndf_complete[pd.isnull(df_complete['Ancestry Cluster'])]['suburb'].shape"
        }, 
        {
            "execution_count": 38, 
            "cell_type": "code", 
            "metadata": {}, 
            "outputs": [], 
            "source": "#all the suburbs without an Ancestry Cluster are not actually recognisable suburbs, so we can drop these:\ndf_complete.dropna(inplace=True)"
        }, 
        {
            "execution_count": 39, 
            "cell_type": "code", 
            "metadata": {}, 
            "outputs": [
                {
                    "execution_count": 39, 
                    "metadata": {}, 
                    "data": {
                        "text/html": "<div>\n<style scoped>\n    .dataframe tbody tr th:only-of-type {\n        vertical-align: middle;\n    }\n\n    .dataframe tbody tr th {\n        vertical-align: top;\n    }\n\n    .dataframe thead th {\n        text-align: right;\n    }\n</style>\n<table border=\"1\" class=\"dataframe\">\n  <thead>\n    <tr style=\"text-align: right;\">\n      <th></th>\n      <th>postcode</th>\n      <th>suburb</th>\n      <th>state</th>\n      <th>Venues Cluster</th>\n      <th>Ancestry Cluster</th>\n    </tr>\n  </thead>\n  <tbody>\n    <tr>\n      <th>1</th>\n      <td>3040</td>\n      <td>aberfeldie</td>\n      <td>VIC</td>\n      <td>3.0</td>\n      <td>0.0</td>\n    </tr>\n    <tr>\n      <th>2</th>\n      <td>3042</td>\n      <td>airport west</td>\n      <td>VIC</td>\n      <td>4.0</td>\n      <td>1.0</td>\n    </tr>\n    <tr>\n      <th>4</th>\n      <td>3206</td>\n      <td>albert park</td>\n      <td>VIC</td>\n      <td>3.0</td>\n      <td>2.0</td>\n    </tr>\n    <tr>\n      <th>5</th>\n      <td>3020</td>\n      <td>albion</td>\n      <td>VIC</td>\n      <td>4.0</td>\n      <td>1.0</td>\n    </tr>\n    <tr>\n      <th>6</th>\n      <td>3078</td>\n      <td>alphington</td>\n      <td>VIC</td>\n      <td>3.0</td>\n      <td>1.0</td>\n    </tr>\n  </tbody>\n</table>\n</div>", 
                        "text/plain": "   postcode        suburb state  Venues Cluster  Ancestry Cluster\n1      3040    aberfeldie   VIC             3.0               0.0\n2      3042  airport west   VIC             4.0               1.0\n4      3206   albert park   VIC             3.0               2.0\n5      3020        albion   VIC             4.0               1.0\n6      3078    alphington   VIC             3.0               1.0"
                    }, 
                    "output_type": "execute_result"
                }
            ], 
            "source": "df_complete.head()"
        }, 
        {
            "source": "# Assign age and income brackets\n", 
            "cell_type": "markdown", 
            "metadata": {}
        }, 
        {
            "source": "Most real estate search tools offer suburb profiles which include information prospective buyers/renters would typically be interested in, such as recent sold prices as well as demographic information. This project will utilize limited demographic information scraped from RealestateVIEW.com.au; Median Age and Median Weekly Income.", 
            "cell_type": "markdown", 
            "metadata": {}
        }, 
        {
            "execution_count": 40, 
            "cell_type": "code", 
            "metadata": {}, 
            "outputs": [], 
            "source": "#define a function which takes a suburb name and scrapes the web for median age and household income statistics\ndef get_age_income(state,suburb):\n    \n    #Format the url\n    url='https://propertydata.realestateview.com.au/propertydata/suburb-profile/'+state+'/'\n    suburb = suburb.split()\n    i=0\n    for i in suburb:\n        url=url+i+\"+\"\n    \n    age = 0\n    income = 0\n\n    #get the page text for the suburb\n    page = requests.get(url).text\n    soup = BeautifulSoup(page, 'lxml')\n    \n    #find all the important elements\n    sp = soup.find_all('b')\n    \n    #get the median age and income for the suburb\n    for element in sp:\n        if element.text=='Median Age':\n            age = element.next_sibling.next_sibling.translate({ord(i): None for i in '\\n\\t'})\n        if element.text=='Weekly Household Income':\n            income = element.next_sibling.next_sibling.translate({ord(i): None for i in '\\n\\t'})\n        \n    return age, income"
        }, 
        {
            "execution_count": 41, 
            "cell_type": "code", 
            "metadata": {}, 
            "outputs": [], 
            "source": "#insert columns for median age and weekly income\ndf_complete.insert(4,'Age',0)\ndf_complete.insert(4,'Income',0)"
        }, 
        {
            "execution_count": 42, 
            "cell_type": "code", 
            "metadata": {}, 
            "outputs": [
                {
                    "output_type": "stream", 
                    "name": "stdout", 
                    "text": "Getting Median Age and Weekly Income from https://propertydata.realestateview.com.au/, please wait...\n...complete\n"
                }
            ], 
            "source": "#fetch Median Age and Weekly Income from https://propertydata.realestateview.com.au/\nprint('Getting Median Age and Weekly Income from https://propertydata.realestateview.com.au/, please wait...')\nfor row in df_complete.itertuples():\n    result = get_age_income('victoria',row.suburb)\n    df_complete.loc[df_complete['suburb']==row.suburb,'Age']=result[0]\n    df_complete.loc[df_complete['suburb']==row.suburb,'Income']=result[1]\nprint('...complete')"
        }, 
        {
            "execution_count": 43, 
            "cell_type": "code", 
            "metadata": {}, 
            "outputs": [
                {
                    "execution_count": 43, 
                    "metadata": {}, 
                    "data": {
                        "text/html": "<div>\n<style scoped>\n    .dataframe tbody tr th:only-of-type {\n        vertical-align: middle;\n    }\n\n    .dataframe tbody tr th {\n        vertical-align: top;\n    }\n\n    .dataframe thead th {\n        text-align: right;\n    }\n</style>\n<table border=\"1\" class=\"dataframe\">\n  <thead>\n    <tr style=\"text-align: right;\">\n      <th></th>\n      <th>postcode</th>\n      <th>suburb</th>\n      <th>state</th>\n      <th>Venues Cluster</th>\n      <th>Income</th>\n      <th>Age</th>\n      <th>Ancestry Cluster</th>\n    </tr>\n  </thead>\n  <tbody>\n    <tr>\n      <th>1</th>\n      <td>3040</td>\n      <td>aberfeldie</td>\n      <td>VIC</td>\n      <td>3.0</td>\n      <td>2200.00</td>\n      <td>40</td>\n      <td>0.0</td>\n    </tr>\n    <tr>\n      <th>2</th>\n      <td>3042</td>\n      <td>airport west</td>\n      <td>VIC</td>\n      <td>4.0</td>\n      <td>1375.00</td>\n      <td>40</td>\n      <td>1.0</td>\n    </tr>\n    <tr>\n      <th>4</th>\n      <td>3206</td>\n      <td>albert park</td>\n      <td>VIC</td>\n      <td>3.0</td>\n      <td>2263.00</td>\n      <td>43</td>\n      <td>2.0</td>\n    </tr>\n    <tr>\n      <th>5</th>\n      <td>3020</td>\n      <td>albion</td>\n      <td>VIC</td>\n      <td>4.0</td>\n      <td>1010.00</td>\n      <td>33</td>\n      <td>1.0</td>\n    </tr>\n    <tr>\n      <th>6</th>\n      <td>3078</td>\n      <td>alphington</td>\n      <td>VIC</td>\n      <td>3.0</td>\n      <td>2123.00</td>\n      <td>38</td>\n      <td>1.0</td>\n    </tr>\n  </tbody>\n</table>\n</div>", 
                        "text/plain": "   postcode        suburb state  Venues Cluster   Income Age  Ancestry Cluster\n1      3040    aberfeldie   VIC             3.0  2200.00  40               0.0\n2      3042  airport west   VIC             4.0  1375.00  40               1.0\n4      3206   albert park   VIC             3.0  2263.00  43               2.0\n5      3020        albion   VIC             4.0  1010.00  33               1.0\n6      3078    alphington   VIC             3.0  2123.00  38               1.0"
                    }, 
                    "output_type": "execute_result"
                }
            ], 
            "source": "df_complete.head()"
        }, 
        {
            "source": "We now have a complete list of suburbs with clusters assigned based on the venues in the area and the ancestry of the people, as well as the relative age and income of the inhabitants", 
            "cell_type": "markdown", 
            "metadata": {}
        }, 
        {
            "source": "# Recommend a Suburb", 
            "cell_type": "markdown", 
            "metadata": {}
        }, 
        {
            "execution_count": 44, 
            "cell_type": "code", 
            "metadata": {}, 
            "outputs": [], 
            "source": "#postcode and state are not required for the recommendation calculation\nsimilar_sort = df_complete.drop(['postcode','state'], axis=1)\n\n#Update the index and clean up the column types\nsimilar_sort.set_index('suburb', inplace=True)\nsimilar_sort['Age']=similar_sort.Age.astype(float)\nsimilar_sort['Income']=similar_sort.Income.astype(float)\n\n#normalize the data into a new dataframe\nfrom sklearn.preprocessing import MinMaxScaler\nx = similar_sort.values #returns a numpy array\nmin_max_scaler = MinMaxScaler()\nfeature_mtx = min_max_scaler.fit_transform(x)\nfeature_mtx [0:5]\n\ndf_normal = pd.DataFrame(feature_mtx, index=similar_sort.index, columns=similar_sort.columns)"
        }, 
        {
            "execution_count": 45, 
            "cell_type": "code", 
            "metadata": {}, 
            "outputs": [], 
            "source": "# The following function takes in a suburb and returns the top 10 similar suburbs\ndef subrec(suburb):\n    \n    try:\n        #choose a suburb for comparison\n        new_suburb = suburb.lower()\n        new_suburb_df = list(df_normal.loc[new_suburb])\n\n        #get the absolute difference between the new suburb and all other suburbs\n        temp_df = df_normal-new_suburb_df\n        temp_df = temp_df.abs()\n        recommendations = temp_df.sum(axis=1).sort_values().head(10)\n\n        return recommendations\n\n    except:\n        print(\"Error: Suburb not found\")\n    "
        }, 
        {
            "source": "Using the function for a given suburb gives the similarity scores for the top 10 similar suburbs", 
            "cell_type": "markdown", 
            "metadata": {}
        }, 
        {
            "execution_count": 46, 
            "cell_type": "code", 
            "metadata": {}, 
            "outputs": [
                {
                    "execution_count": 46, 
                    "metadata": {}, 
                    "data": {
                        "text/plain": "suburb\nprahran           0.000000\nfitzroy north     0.194010\nsouth yarra       0.254777\nhawthorn east     0.286826\nyallambie         0.296024\nclifton hill      0.320766\ncoburg            0.337025\nmalvern east      0.339021\nprinces hill      0.393546\nbrunswick east    0.397217\ndtype: float64"
                    }, 
                    "output_type": "execute_result"
                }
            ], 
            "source": "suburb = 'Prahran'\nresults = subrec(suburb)\nresults"
        }, 
        {
            "source": "We can see more details for the top 10 including their feature values:", 
            "cell_type": "markdown", 
            "metadata": {}
        }, 
        {
            "execution_count": 47, 
            "cell_type": "code", 
            "metadata": {}, 
            "outputs": [
                {
                    "execution_count": 47, 
                    "metadata": {}, 
                    "data": {
                        "text/html": "<div>\n<style scoped>\n    .dataframe tbody tr th:only-of-type {\n        vertical-align: middle;\n    }\n\n    .dataframe tbody tr th {\n        vertical-align: top;\n    }\n\n    .dataframe thead th {\n        text-align: right;\n    }\n</style>\n<table border=\"1\" class=\"dataframe\">\n  <thead>\n    <tr style=\"text-align: right;\">\n      <th></th>\n      <th>postcode</th>\n      <th>suburb</th>\n      <th>state</th>\n      <th>Venues Cluster</th>\n      <th>Income</th>\n      <th>Age</th>\n      <th>Ancestry Cluster</th>\n    </tr>\n  </thead>\n  <tbody>\n    <tr>\n      <th>66</th>\n      <td>3057</td>\n      <td>brunswick east</td>\n      <td>VIC</td>\n      <td>0.0</td>\n      <td>1726.00</td>\n      <td>32</td>\n      <td>1.0</td>\n    </tr>\n    <tr>\n      <th>108</th>\n      <td>3068</td>\n      <td>clifton hill</td>\n      <td>VIC</td>\n      <td>0.0</td>\n      <td>2272.00</td>\n      <td>36</td>\n      <td>5.0</td>\n    </tr>\n    <tr>\n      <th>110</th>\n      <td>3058</td>\n      <td>coburg</td>\n      <td>VIC</td>\n      <td>0.0</td>\n      <td>1638.00</td>\n      <td>35</td>\n      <td>6.0</td>\n    </tr>\n    <tr>\n      <th>159</th>\n      <td>3068</td>\n      <td>fitzroy north</td>\n      <td>VIC</td>\n      <td>0.0</td>\n      <td>1920.00</td>\n      <td>36</td>\n      <td>5.0</td>\n    </tr>\n    <tr>\n      <th>185</th>\n      <td>3123</td>\n      <td>hawthorn east</td>\n      <td>VIC</td>\n      <td>0.0</td>\n      <td>1976.00</td>\n      <td>34</td>\n      <td>2.0</td>\n    </tr>\n    <tr>\n      <th>247</th>\n      <td>3145</td>\n      <td>malvern east</td>\n      <td>VIC</td>\n      <td>1.0</td>\n      <td>1937.00</td>\n      <td>36</td>\n      <td>4.0</td>\n    </tr>\n    <tr>\n      <th>311</th>\n      <td>3181</td>\n      <td>prahran</td>\n      <td>VIC</td>\n      <td>0.0</td>\n      <td>1850.00</td>\n      <td>33</td>\n      <td>4.0</td>\n    </tr>\n    <tr>\n      <th>317</th>\n      <td>3054</td>\n      <td>princes hill</td>\n      <td>VIC</td>\n      <td>0.0</td>\n      <td>1857.00</td>\n      <td>36</td>\n      <td>1.0</td>\n    </tr>\n    <tr>\n      <th>350</th>\n      <td>3141</td>\n      <td>south yarra</td>\n      <td>VIC</td>\n      <td>0.0</td>\n      <td>1813.00</td>\n      <td>32</td>\n      <td>2.0</td>\n    </tr>\n    <tr>\n      <th>414</th>\n      <td>3085</td>\n      <td>yallambie</td>\n      <td>VIC</td>\n      <td>1.0</td>\n      <td>1871.00</td>\n      <td>35</td>\n      <td>4.0</td>\n    </tr>\n  </tbody>\n</table>\n</div>", 
                        "text/plain": "     postcode          suburb state  Venues Cluster   Income Age  \\\n66       3057  brunswick east   VIC             0.0  1726.00  32   \n108      3068    clifton hill   VIC             0.0  2272.00  36   \n110      3058          coburg   VIC             0.0  1638.00  35   \n159      3068   fitzroy north   VIC             0.0  1920.00  36   \n185      3123   hawthorn east   VIC             0.0  1976.00  34   \n247      3145    malvern east   VIC             1.0  1937.00  36   \n311      3181         prahran   VIC             0.0  1850.00  33   \n317      3054    princes hill   VIC             0.0  1857.00  36   \n350      3141     south yarra   VIC             0.0  1813.00  32   \n414      3085       yallambie   VIC             1.0  1871.00  35   \n\n     Ancestry Cluster  \n66                1.0  \n108               5.0  \n110               6.0  \n159               5.0  \n185               2.0  \n247               4.0  \n311               4.0  \n317               1.0  \n350               2.0  \n414               4.0  "
                    }, 
                    "output_type": "execute_result"
                }
            ], 
            "source": "detailed_results = df_complete[df_complete['suburb'].isin(results.index)]\ndetailed_results"
        }, 
        {
            "source": "## Map the results", 
            "cell_type": "markdown", 
            "metadata": {}
        }, 
        {
            "execution_count": 2, 
            "cell_type": "code", 
            "metadata": {}, 
            "outputs": [
                {
                    "output_type": "stream", 
                    "name": "stdout", 
                    "text": "Collecting folium\n\u001b[?25l  Downloading https://files.pythonhosted.org/packages/4f/86/1ab30184cb60bc2b95deffe2bd86b8ddbab65a4fac9f7313c278c6e8d049/folium-0.9.1-py2.py3-none-any.whl (91kB)\n\u001b[K     |\u2588\u2588\u2588\u2588\u2588\u2588\u2588\u2588\u2588\u2588\u2588\u2588\u2588\u2588\u2588\u2588\u2588\u2588\u2588\u2588\u2588\u2588\u2588\u2588\u2588\u2588\u2588\u2588\u2588\u2588\u2588\u2588| 92kB 14.3MB/s eta 0:00:01\n\u001b[?25hRequirement already satisfied: requests in /opt/conda/envs/Python36/lib/python3.6/site-packages (from folium) (2.21.0)\nRequirement already satisfied: jinja2>=2.9 in /opt/conda/envs/Python36/lib/python3.6/site-packages (from folium) (2.10)\nRequirement already satisfied: numpy in /opt/conda/envs/Python36/lib/python3.6/site-packages (from folium) (1.15.4)\nCollecting branca>=0.3.0 (from folium)\n  Downloading https://files.pythonhosted.org/packages/63/36/1c93318e9653f4e414a2e0c3b98fc898b4970e939afeedeee6075dd3b703/branca-0.3.1-py3-none-any.whl\nRequirement already satisfied: idna<2.9,>=2.5 in /opt/conda/envs/Python36/lib/python3.6/site-packages (from requests->folium) (2.8)\nRequirement already satisfied: certifi>=2017.4.17 in /opt/conda/envs/Python36/lib/python3.6/site-packages (from requests->folium) (2019.6.16)\nRequirement already satisfied: chardet<3.1.0,>=3.0.2 in /opt/conda/envs/Python36/lib/python3.6/site-packages (from requests->folium) (3.0.4)\nRequirement already satisfied: urllib3<1.25,>=1.21.1 in /opt/conda/envs/Python36/lib/python3.6/site-packages (from requests->folium) (1.24.1)\nRequirement already satisfied: MarkupSafe>=0.23 in /opt/conda/envs/Python36/lib/python3.6/site-packages (from jinja2>=2.9->folium) (1.1.0)\nRequirement already satisfied: six in /opt/conda/envs/Python36/lib/python3.6/site-packages (from branca>=0.3.0->folium) (1.12.0)\nInstalling collected packages: branca, folium\nSuccessfully installed branca-0.3.1 folium-0.9.1\n"
                }
            ], 
            "source": "!pip install folium"
        }, 
        {
            "execution_count": 3, 
            "cell_type": "code", 
            "metadata": {}, 
            "outputs": [], 
            "source": "import folium # map rendering library"
        }, 
        {
            "execution_count": 5, 
            "cell_type": "code", 
            "metadata": {}, 
            "outputs": [
                {
                    "output_type": "stream", 
                    "name": "stdout", 
                    "text": "-37.814563 144.970267\n"
                }
            ], 
            "source": "latitude=-37.814563\nlongitude=144.970267\nprint(latitude,longitude)"
        }, 
        {
            "execution_count": 54, 
            "cell_type": "code", 
            "metadata": {}, 
            "outputs": [], 
            "source": "detailed_results = df_melbourne_merged[df_melbourne_merged['suburb'].isin(results.index)]"
        }, 
        {
            "execution_count": 55, 
            "cell_type": "code", 
            "metadata": {}, 
            "outputs": [
                {
                    "execution_count": 55, 
                    "metadata": {}, 
                    "data": {
                        "text/html": "<div>\n<style scoped>\n    .dataframe tbody tr th:only-of-type {\n        vertical-align: middle;\n    }\n\n    .dataframe tbody tr th {\n        vertical-align: top;\n    }\n\n    .dataframe thead th {\n        text-align: right;\n    }\n</style>\n<table border=\"1\" class=\"dataframe\">\n  <thead>\n    <tr style=\"text-align: right;\">\n      <th></th>\n      <th>postcode</th>\n      <th>suburb</th>\n      <th>state</th>\n      <th>lat</th>\n      <th>lon</th>\n      <th>Venues Cluster</th>\n      <th>#1</th>\n      <th>#2</th>\n      <th>#3</th>\n      <th>#4</th>\n      <th>#5</th>\n      <th>#6</th>\n      <th>#7</th>\n      <th>#8</th>\n      <th>#9</th>\n      <th>#10</th>\n    </tr>\n  </thead>\n  <tbody>\n    <tr>\n      <th>5016</th>\n      <td>3057</td>\n      <td>brunswick east</td>\n      <td>VIC</td>\n      <td>-37.764910</td>\n      <td>144.979567</td>\n      <td>0.0</td>\n      <td>Caf\u00e9</td>\n      <td>Bar</td>\n      <td>Bakery</td>\n      <td>Pizza Place</td>\n      <td>Mexican Restaurant</td>\n      <td>Beer Garden</td>\n      <td>Vietnamese Restaurant</td>\n      <td>Italian Restaurant</td>\n      <td>Grocery Store</td>\n      <td>Gastropub</td>\n    </tr>\n    <tr>\n      <th>5036</th>\n      <td>3068</td>\n      <td>clifton hill</td>\n      <td>VIC</td>\n      <td>-37.788118</td>\n      <td>144.992067</td>\n      <td>0.0</td>\n      <td>Caf\u00e9</td>\n      <td>Bakery</td>\n      <td>Pub</td>\n      <td>Vegetarian / Vegan Restaurant</td>\n      <td>Italian Restaurant</td>\n      <td>Bar</td>\n      <td>Coffee Shop</td>\n      <td>Gastropub</td>\n      <td>Cocktail Bar</td>\n      <td>Ice Cream Shop</td>\n    </tr>\n    <tr>\n      <th>5018</th>\n      <td>3058</td>\n      <td>coburg</td>\n      <td>VIC</td>\n      <td>-37.743188</td>\n      <td>144.966279</td>\n      <td>0.0</td>\n      <td>Caf\u00e9</td>\n      <td>Bar</td>\n      <td>Bakery</td>\n      <td>Middle Eastern Restaurant</td>\n      <td>Grocery Store</td>\n      <td>Vietnamese Restaurant</td>\n      <td>Beer Garden</td>\n      <td>Thai Restaurant</td>\n      <td>Pizza Place</td>\n      <td>Mexican Restaurant</td>\n    </tr>\n    <tr>\n      <th>5037</th>\n      <td>3068</td>\n      <td>fitzroy north</td>\n      <td>VIC</td>\n      <td>-37.783400</td>\n      <td>144.984688</td>\n      <td>0.0</td>\n      <td>Caf\u00e9</td>\n      <td>Bar</td>\n      <td>Pub</td>\n      <td>Bakery</td>\n      <td>Italian Restaurant</td>\n      <td>Vegetarian / Vegan Restaurant</td>\n      <td>Coffee Shop</td>\n      <td>Ice Cream Shop</td>\n      <td>Gastropub</td>\n      <td>Wine Shop</td>\n    </tr>\n    <tr>\n      <th>5120</th>\n      <td>3123</td>\n      <td>hawthorn east</td>\n      <td>VIC</td>\n      <td>-37.782254</td>\n      <td>145.001811</td>\n      <td>0.0</td>\n      <td>Caf\u00e9</td>\n      <td>Bakery</td>\n      <td>Vegetarian / Vegan Restaurant</td>\n      <td>Pub</td>\n      <td>Pizza Place</td>\n      <td>Indian Restaurant</td>\n      <td>Gastropub</td>\n      <td>Italian Restaurant</td>\n      <td>Bar</td>\n      <td>Coffee Shop</td>\n    </tr>\n    <tr>\n      <th>5184</th>\n      <td>3145</td>\n      <td>malvern east</td>\n      <td>VIC</td>\n      <td>-37.878370</td>\n      <td>145.067892</td>\n      <td>1.0</td>\n      <td>Caf\u00e9</td>\n      <td>Korean Restaurant</td>\n      <td>Park</td>\n      <td>Supermarket</td>\n      <td>Electronics Store</td>\n      <td>Breakfast Spot</td>\n      <td>Chinese Restaurant</td>\n      <td>Thai Restaurant</td>\n      <td>Malay Restaurant</td>\n      <td>Fast Food Restaurant</td>\n    </tr>\n    <tr>\n      <th>5253</th>\n      <td>3181</td>\n      <td>prahran</td>\n      <td>VIC</td>\n      <td>-37.849577</td>\n      <td>144.993714</td>\n      <td>0.0</td>\n      <td>Caf\u00e9</td>\n      <td>Italian Restaurant</td>\n      <td>Japanese Restaurant</td>\n      <td>Bar</td>\n      <td>Coffee Shop</td>\n      <td>Pub</td>\n      <td>Deli / Bodega</td>\n      <td>Pizza Place</td>\n      <td>Clothing Store</td>\n      <td>French Restaurant</td>\n    </tr>\n    <tr>\n      <th>5008</th>\n      <td>3054</td>\n      <td>princes hill</td>\n      <td>VIC</td>\n      <td>-37.780995</td>\n      <td>144.962792</td>\n      <td>0.0</td>\n      <td>Caf\u00e9</td>\n      <td>Bar</td>\n      <td>Zoo Exhibit</td>\n      <td>Italian Restaurant</td>\n      <td>Bakery</td>\n      <td>Pub</td>\n      <td>Vietnamese Restaurant</td>\n      <td>Dog Run</td>\n      <td>Gastropub</td>\n      <td>Grocery Store</td>\n    </tr>\n    <tr>\n      <th>5173</th>\n      <td>3141</td>\n      <td>south yarra</td>\n      <td>VIC</td>\n      <td>-37.837883</td>\n      <td>144.991123</td>\n      <td>0.0</td>\n      <td>Caf\u00e9</td>\n      <td>Italian Restaurant</td>\n      <td>French Restaurant</td>\n      <td>Japanese Restaurant</td>\n      <td>Bakery</td>\n      <td>Hotel</td>\n      <td>Dessert Shop</td>\n      <td>Coffee Shop</td>\n      <td>Pub</td>\n      <td>Korean Restaurant</td>\n    </tr>\n    <tr>\n      <th>5071</th>\n      <td>3085</td>\n      <td>yallambie</td>\n      <td>VIC</td>\n      <td>-37.727482</td>\n      <td>145.102309</td>\n      <td>1.0</td>\n      <td>Caf\u00e9</td>\n      <td>Fast Food Restaurant</td>\n      <td>Grocery Store</td>\n      <td>Supermarket</td>\n      <td>Sandwich Place</td>\n      <td>Convenience Store</td>\n      <td>Pub</td>\n      <td>Art Gallery</td>\n      <td>Shopping Mall</td>\n      <td>Burger Joint</td>\n    </tr>\n  </tbody>\n</table>\n</div>", 
                        "text/plain": "      postcode          suburb state        lat         lon  Venues Cluster  \\\n5016      3057  brunswick east   VIC -37.764910  144.979567             0.0   \n5036      3068    clifton hill   VIC -37.788118  144.992067             0.0   \n5018      3058          coburg   VIC -37.743188  144.966279             0.0   \n5037      3068   fitzroy north   VIC -37.783400  144.984688             0.0   \n5120      3123   hawthorn east   VIC -37.782254  145.001811             0.0   \n5184      3145    malvern east   VIC -37.878370  145.067892             1.0   \n5253      3181         prahran   VIC -37.849577  144.993714             0.0   \n5008      3054    princes hill   VIC -37.780995  144.962792             0.0   \n5173      3141     south yarra   VIC -37.837883  144.991123             0.0   \n5071      3085       yallambie   VIC -37.727482  145.102309             1.0   \n\n        #1                    #2                             #3  \\\n5016  Caf\u00e9                   Bar                         Bakery   \n5036  Caf\u00e9                Bakery                            Pub   \n5018  Caf\u00e9                   Bar                         Bakery   \n5037  Caf\u00e9                   Bar                            Pub   \n5120  Caf\u00e9                Bakery  Vegetarian / Vegan Restaurant   \n5184  Caf\u00e9     Korean Restaurant                           Park   \n5253  Caf\u00e9    Italian Restaurant            Japanese Restaurant   \n5008  Caf\u00e9                   Bar                    Zoo Exhibit   \n5173  Caf\u00e9    Italian Restaurant              French Restaurant   \n5071  Caf\u00e9  Fast Food Restaurant                  Grocery Store   \n\n                                 #4                  #5  \\\n5016                    Pizza Place  Mexican Restaurant   \n5036  Vegetarian / Vegan Restaurant  Italian Restaurant   \n5018      Middle Eastern Restaurant       Grocery Store   \n5037                         Bakery  Italian Restaurant   \n5120                            Pub         Pizza Place   \n5184                    Supermarket   Electronics Store   \n5253                            Bar         Coffee Shop   \n5008             Italian Restaurant              Bakery   \n5173            Japanese Restaurant              Bakery   \n5071                    Supermarket      Sandwich Place   \n\n                                 #6                     #7  \\\n5016                    Beer Garden  Vietnamese Restaurant   \n5036                            Bar            Coffee Shop   \n5018          Vietnamese Restaurant            Beer Garden   \n5037  Vegetarian / Vegan Restaurant            Coffee Shop   \n5120              Indian Restaurant              Gastropub   \n5184                 Breakfast Spot     Chinese Restaurant   \n5253                            Pub          Deli / Bodega   \n5008                            Pub  Vietnamese Restaurant   \n5173                          Hotel           Dessert Shop   \n5071              Convenience Store                    Pub   \n\n                      #8                #9                   #10  \n5016  Italian Restaurant     Grocery Store             Gastropub  \n5036           Gastropub      Cocktail Bar        Ice Cream Shop  \n5018     Thai Restaurant       Pizza Place    Mexican Restaurant  \n5037      Ice Cream Shop         Gastropub             Wine Shop  \n5120  Italian Restaurant               Bar           Coffee Shop  \n5184     Thai Restaurant  Malay Restaurant  Fast Food Restaurant  \n5253         Pizza Place    Clothing Store     French Restaurant  \n5008             Dog Run         Gastropub         Grocery Store  \n5173         Coffee Shop               Pub     Korean Restaurant  \n5071         Art Gallery     Shopping Mall          Burger Joint  "
                    }, 
                    "output_type": "execute_result"
                }
            ], 
            "source": "detailed_results"
        }, 
        {
            "execution_count": 70, 
            "cell_type": "code", 
            "metadata": {}, 
            "outputs": [
                {
                    "execution_count": 70, 
                    "metadata": {}, 
                    "data": {
                        "text/html": "<div style=\"width:100%;\"><div style=\"position:relative;width:100%;height:0;padding-bottom:60%;\"><iframe src=\"data:text/html;charset=utf-8;base64,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\" style=\"position:absolute;width:100%;height:100%;left:0;top:0;border:none !important;\" allowfullscreen webkitallowfullscreen mozallowfullscreen></iframe></div></div>", 
                        "text/plain": "<folium.folium.Map at 0x7f5ab34c59b0>"
                    }, 
                    "output_type": "execute_result"
                }
            ], 
            "source": "# create map\nmap_clusters = folium.Map(location=[latitude, longitude], zoom_start=11)\n\ncolors_list = ['Red','Blue','Green','Yellow','Purple','Pink','Orange']\n\n#add markers to the map\nmarkers_colors = []\nfor lat, lon, suburb in zip(detailed_results['lat'], detailed_results['lon'], detailed_results['suburb']):\n    label = folium.Popup(str(suburb), parse_html=True)\n    folium.CircleMarker(\n        [lat, lon],\n        radius=5,\n        popup=label,\n        #color=colors_list[int(cluster)],\n        fill=True,\n       fill_opacity=0.7).add_to(map_clusters)\n\n       \nmap_clusters"
        }
    ], 
    "metadata": {
        "kernelspec": {
            "display_name": "Python 3.6", 
            "name": "python3", 
            "language": "python"
        }, 
        "language_info": {
            "mimetype": "text/x-python", 
            "nbconvert_exporter": "python", 
            "version": "3.6.8", 
            "name": "python", 
            "file_extension": ".py", 
            "pygments_lexer": "ipython3", 
            "codemirror_mode": {
                "version": 3, 
                "name": "ipython"
            }
        }
    }, 
    "nbformat": 4
}