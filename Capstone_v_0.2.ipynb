{
    "nbformat_minor": 1, 
    "cells": [
        {
            "source": "# Australian Suburb and Town recommendation engine\n\n", 
            "cell_type": "markdown", 
            "metadata": {}
        }, 
        {
            "source": "The first step is to import standard libraries", 
            "cell_type": "markdown", 
            "metadata": {}
        }, 
        {
            "source": "!pip install pandasdmx", 
            "cell_type": "code", 
            "metadata": {}, 
            "outputs": [
                {
                    "output_type": "stream", 
                    "name": "stdout", 
                    "text": "Collecting pandasdmx\n\u001b[?25l  Downloading https://files.pythonhosted.org/packages/e7/5d/7e29616b0376d0a15eb3013c909c4e9021b6c6e244ef1b48817b4d0c4d46/pandaSDMX-0.9-py2.py3-none-any.whl (45kB)\n\u001b[K    100% |\u2588\u2588\u2588\u2588\u2588\u2588\u2588\u2588\u2588\u2588\u2588\u2588\u2588\u2588\u2588\u2588\u2588\u2588\u2588\u2588\u2588\u2588\u2588\u2588\u2588\u2588\u2588\u2588\u2588\u2588\u2588\u2588| 51kB 13.9MB/s ta 0:00:01\n\u001b[?25hRequirement already satisfied: lxml in /opt/conda/envs/DSX-Python35/lib/python3.5/site-packages (from pandasdmx) (4.1.0)\nCollecting jsonpath-rw (from pandasdmx)\n  Downloading https://files.pythonhosted.org/packages/71/7c/45001b1f19af8c4478489fbae4fc657b21c4c669d7a5a036a86882581d85/jsonpath-rw-1.4.0.tar.gz\nRequirement already satisfied: setuptools in /opt/conda/envs/DSX-Python35/lib/python3.5/site-packages (from pandasdmx) (36.5.0.post20170921)\nRequirement already satisfied: pandas in /opt/conda/envs/DSX-Python35/lib/python3.5/site-packages (from pandasdmx) (0.21.0)\nRequirement already satisfied: requests in /opt/conda/envs/DSX-Python35/lib/python3.5/site-packages (from pandasdmx) (2.18.4)\nRequirement already satisfied: ply in /opt/conda/envs/DSX-Python35/lib/python3.5/site-packages (from jsonpath-rw->pandasdmx) (3.10)\nRequirement already satisfied: decorator in /opt/conda/envs/DSX-Python35/lib/python3.5/site-packages (from jsonpath-rw->pandasdmx) (4.1.2)\nRequirement already satisfied: six in /opt/conda/envs/DSX-Python35/lib/python3.5/site-packages (from jsonpath-rw->pandasdmx) (1.11.0)\nRequirement already satisfied: python-dateutil>=2 in /opt/conda/envs/DSX-Python35/lib/python3.5/site-packages (from pandas->pandasdmx) (2.6.1)\nRequirement already satisfied: pytz>=2011k in /opt/conda/envs/DSX-Python35/lib/python3.5/site-packages (from pandas->pandasdmx) (2018.3)\nRequirement already satisfied: numpy>=1.9.0 in /opt/conda/envs/DSX-Python35/lib/python3.5/site-packages (from pandas->pandasdmx) (1.13.3)\nRequirement already satisfied: chardet<3.1.0,>=3.0.2 in /opt/conda/envs/DSX-Python35/lib/python3.5/site-packages (from requests->pandasdmx) (3.0.4)\nRequirement already satisfied: idna<2.7,>=2.5 in /opt/conda/envs/DSX-Python35/lib/python3.5/site-packages (from requests->pandasdmx) (2.6)\nRequirement already satisfied: urllib3<1.23,>=1.21.1 in /opt/conda/envs/DSX-Python35/lib/python3.5/site-packages (from requests->pandasdmx) (1.22)\nRequirement already satisfied: certifi>=2017.4.17 in /opt/conda/envs/DSX-Python35/lib/python3.5/site-packages (from requests->pandasdmx) (2019.3.9)\nBuilding wheels for collected packages: jsonpath-rw\n  Running setup.py bdist_wheel for jsonpath-rw ... \u001b[?25ldone\n\u001b[?25h  Stored in directory: /home/dsxuser/.cache/pip/wheels/5c/00/9a/82822db383c2d96dcebf839786665a185f92d37e5026f9806f\nSuccessfully built jsonpath-rw\n\u001b[31mtensorflow 1.3.0 requires tensorflow-tensorboard<0.2.0,>=0.1.0, which is not installed.\u001b[0m\nInstalling collected packages: jsonpath-rw, pandasdmx\nSuccessfully installed jsonpath-rw-1.4.0 pandasdmx-0.9\n"
                }
            ], 
            "execution_count": 1
        }, 
        {
            "source": "# install and import the folium library to visualise the neighbourhood clusters on map\n!pip install folium", 
            "cell_type": "code", 
            "metadata": {}, 
            "outputs": [
                {
                    "output_type": "stream", 
                    "name": "stdout", 
                    "text": "Requirement already satisfied: folium in /opt/conda/envs/DSX-Python35/lib/python3.6/site-packages (0.5.0)\nRequirement already satisfied: branca in /opt/conda/envs/DSX-Python35/lib/python3.6/site-packages (from folium) (0.3.1)\nRequirement already satisfied: jinja2 in /opt/conda/envs/DSX-Python35/lib/python3.6/site-packages (from folium) (2.10.1)\nRequirement already satisfied: requests in /opt/conda/envs/DSX-Python35/lib/python3.6/site-packages (from folium) (2.22.0)\nRequirement already satisfied: six in /opt/conda/envs/DSX-Python35/lib/python3.6/site-packages (from folium) (1.12.0)\nRequirement already satisfied: MarkupSafe>=0.23 in /opt/conda/envs/DSX-Python35/lib/python3.6/site-packages (from jinja2->folium) (1.1.1)\nRequirement already satisfied: chardet<3.1.0,>=3.0.2 in /opt/conda/envs/DSX-Python35/lib/python3.6/site-packages (from requests->folium) (3.0.4)\nRequirement already satisfied: urllib3!=1.25.0,!=1.25.1,<1.26,>=1.21.1 in /opt/conda/envs/DSX-Python35/lib/python3.6/site-packages (from requests->folium) (1.24.3)\nRequirement already satisfied: certifi>=2017.4.17 in /opt/conda/envs/DSX-Python35/lib/python3.6/site-packages (from requests->folium) (2019.6.16)\nRequirement already satisfied: idna<2.9,>=2.5 in /opt/conda/envs/DSX-Python35/lib/python3.6/site-packages (from requests->folium) (2.8)\n"
                }
            ], 
            "execution_count": 6
        }, 
        {
            "source": "import pandas as pd\nimport numpy as np\nimport json # library to handle JSON files\nfrom pandas.io.json import json_normalize # tranform JSON file into a pandas dataframe\nimport requests\nfrom sklearn.cluster import KMeans\nfrom pandasdmx import Request\nfrom bs4 import BeautifulSoup", 
            "cell_type": "code", 
            "metadata": {}, 
            "outputs": [], 
            "execution_count": 2
        }, 
        {
            "source": "import folium # map rendering library", 
            "cell_type": "code", 
            "metadata": {}, 
            "outputs": [
                {
                    "output_type": "error", 
                    "evalue": "No module named 'folium'", 
                    "traceback": [
                        "\u001b[0;31m---------------------------------------------------------------------------\u001b[0m", 
                        "\u001b[0;31mImportError\u001b[0m                               Traceback (most recent call last)", 
                        "\u001b[0;32m<ipython-input-7-4fb75fedf264>\u001b[0m in \u001b[0;36m<module>\u001b[0;34m()\u001b[0m\n\u001b[0;32m----> 1\u001b[0;31m \u001b[0;32mimport\u001b[0m \u001b[0mfolium\u001b[0m \u001b[0;31m# map rendering library\u001b[0m\u001b[0;34m\u001b[0m\u001b[0m\n\u001b[0m", 
                        "\u001b[0;31mImportError\u001b[0m: No module named 'folium'"
                    ], 
                    "ename": "ImportError"
                }
            ], 
            "execution_count": 7
        }, 
        {
            "source": "## Get suburb and postcode data\nList of Australian postcodes and suburbs are available online on many websites. I've replicated the file from http://www.corra.com.au/australian-postcode-location-data/ on Github\n", 
            "cell_type": "markdown", 
            "metadata": {}
        }, 
        {
            "source": "filename = \"https://raw.githubusercontent.com/DataistDogma/Coursera_Capstone/master/Australian_Post_Codes_Lat_Lon/Australian_Post_Codes_Lat_Lon.csv\"\npostcodes = pd.read_csv(filename)\nprint(\"Postcodes shape: \", postcodes.shape)\npostcodes.head()", 
            "cell_type": "code", 
            "metadata": {}, 
            "outputs": [
                {
                    "output_type": "stream", 
                    "name": "stdout", 
                    "text": "Postcodes shape:  (16080, 7)\n"
                }, 
                {
                    "output_type": "execute_result", 
                    "data": {
                        "text/plain": "   postcode                          suburb state  \\\n0       200  AUSTRALIAN NATIONAL UNIVERSITY   ACT   \n1       221                          BARTON   ACT   \n2       800                          DARWIN    NT   \n3       801                          DARWIN    NT   \n4       804                           PARAP    NT   \n\n                            dc                                           type  \\\n0  AUSTRALIAN NATIONAL UNI LPO  Post Office Boxes                               \n1                          NaN  LVR                                             \n2       DARWIN DELIVERY CENTRE  Delivery Area                                   \n3       DARWIN DELIVERY CENTRE  Post Office Boxes                               \n4                        PARAP  Post Office Boxes                               \n\n         lat         lon  \n0 -35.277272  149.117136  \n1 -35.201372  149.095065  \n2 -12.801028  130.955789  \n3 -12.801028  130.955789  \n4 -12.432181  130.843310  ", 
                        "text/html": "<div>\n<style scoped>\n    .dataframe tbody tr th:only-of-type {\n        vertical-align: middle;\n    }\n\n    .dataframe tbody tr th {\n        vertical-align: top;\n    }\n\n    .dataframe thead th {\n        text-align: right;\n    }\n</style>\n<table border=\"1\" class=\"dataframe\">\n  <thead>\n    <tr style=\"text-align: right;\">\n      <th></th>\n      <th>postcode</th>\n      <th>suburb</th>\n      <th>state</th>\n      <th>dc</th>\n      <th>type</th>\n      <th>lat</th>\n      <th>lon</th>\n    </tr>\n  </thead>\n  <tbody>\n    <tr>\n      <th>0</th>\n      <td>200</td>\n      <td>AUSTRALIAN NATIONAL UNIVERSITY</td>\n      <td>ACT</td>\n      <td>AUSTRALIAN NATIONAL UNI LPO</td>\n      <td>Post Office Boxes</td>\n      <td>-35.277272</td>\n      <td>149.117136</td>\n    </tr>\n    <tr>\n      <th>1</th>\n      <td>221</td>\n      <td>BARTON</td>\n      <td>ACT</td>\n      <td>NaN</td>\n      <td>LVR</td>\n      <td>-35.201372</td>\n      <td>149.095065</td>\n    </tr>\n    <tr>\n      <th>2</th>\n      <td>800</td>\n      <td>DARWIN</td>\n      <td>NT</td>\n      <td>DARWIN DELIVERY CENTRE</td>\n      <td>Delivery Area</td>\n      <td>-12.801028</td>\n      <td>130.955789</td>\n    </tr>\n    <tr>\n      <th>3</th>\n      <td>801</td>\n      <td>DARWIN</td>\n      <td>NT</td>\n      <td>DARWIN DELIVERY CENTRE</td>\n      <td>Post Office Boxes</td>\n      <td>-12.801028</td>\n      <td>130.955789</td>\n    </tr>\n    <tr>\n      <th>4</th>\n      <td>804</td>\n      <td>PARAP</td>\n      <td>NT</td>\n      <td>PARAP</td>\n      <td>Post Office Boxes</td>\n      <td>-12.432181</td>\n      <td>130.843310</td>\n    </tr>\n  </tbody>\n</table>\n</div>"
                    }, 
                    "execution_count": 8, 
                    "metadata": {}
                }
            ], 
            "execution_count": 8
        }, 
        {
            "source": "We can see that each row represents a Distribution Centre (dc) rather than a suburb or postcode. We're looking for a list of unique suburbs, so we'll filter the dataframe for unique suburbs and remove the 'dc' and 'type' column, which we don't need", 
            "cell_type": "markdown", 
            "metadata": {}
        }, 
        {
            "source": "postcodes.drop_duplicates(subset='suburb', inplace=True)\npostcodes.drop(['dc', 'type'],axis=1,inplace=True )\npostcodes.shape", 
            "cell_type": "code", 
            "metadata": {}, 
            "outputs": [
                {
                    "output_type": "execute_result", 
                    "data": {
                        "text/plain": "(14270, 5)"
                    }, 
                    "execution_count": 9, 
                    "metadata": {}
                }
            ], 
            "execution_count": 9
        }, 
        {
            "source": "The code below checks for null values in each column of the dataframe. It looks like there is just one null in each column:", 
            "cell_type": "markdown", 
            "metadata": {}
        }, 
        {
            "source": "missing_data = postcodes.isnull()\nfor column in missing_data.columns.values.tolist():\n    print(column)\n    print (missing_data[column].value_counts())\n    print(\"\")    ", 
            "cell_type": "code", 
            "metadata": {}, 
            "outputs": [
                {
                    "output_type": "stream", 
                    "name": "stdout", 
                    "text": "postcode\nFalse    14270\nName: postcode, dtype: int64\n\nsuburb\nFalse    14269\nTrue         1\nName: suburb, dtype: int64\n\nstate\nFalse    14269\nTrue         1\nName: state, dtype: int64\n\nlat\nFalse    14269\nTrue         1\nName: lat, dtype: int64\n\nlon\nFalse    14269\nTrue         1\nName: lon, dtype: int64\n\n"
                }
            ], 
            "execution_count": 10
        }, 
        {
            "source": "We'll take a look at the row in question:", 
            "cell_type": "markdown", 
            "metadata": {}
        }, 
        {
            "source": "postcodes[postcodes['suburb'].isnull()]", 
            "cell_type": "code", 
            "metadata": {}, 
            "outputs": [
                {
                    "output_type": "execute_result", 
                    "data": {
                        "text/plain": "       postcode suburb state  lat  lon\n16079         0    NaN   NaN  NaN  NaN", 
                        "text/html": "<div>\n<style scoped>\n    .dataframe tbody tr th:only-of-type {\n        vertical-align: middle;\n    }\n\n    .dataframe tbody tr th {\n        vertical-align: top;\n    }\n\n    .dataframe thead th {\n        text-align: right;\n    }\n</style>\n<table border=\"1\" class=\"dataframe\">\n  <thead>\n    <tr style=\"text-align: right;\">\n      <th></th>\n      <th>postcode</th>\n      <th>suburb</th>\n      <th>state</th>\n      <th>lat</th>\n      <th>lon</th>\n    </tr>\n  </thead>\n  <tbody>\n    <tr>\n      <th>16079</th>\n      <td>0</td>\n      <td>NaN</td>\n      <td>NaN</td>\n      <td>NaN</td>\n      <td>NaN</td>\n    </tr>\n  </tbody>\n</table>\n</div>"
                    }, 
                    "execution_count": 11, 
                    "metadata": {}
                }
            ], 
            "execution_count": 11
        }, 
        {
            "source": "It's just the last row of the original csv with no data, so we'll drop it and reset the index", 
            "cell_type": "markdown", 
            "metadata": {}
        }, 
        {
            "source": "postcodes.dropna(inplace=True)\npostcodes.reset_index(inplace=True, drop=True)\npostcodes.head()", 
            "cell_type": "code", 
            "metadata": {}, 
            "outputs": [
                {
                    "output_type": "execute_result", 
                    "data": {
                        "text/plain": "   postcode                          suburb state        lat         lon\n0       200  AUSTRALIAN NATIONAL UNIVERSITY   ACT -35.277272  149.117136\n1       221                          BARTON   ACT -35.201372  149.095065\n2       800                          DARWIN    NT -12.801028  130.955789\n3       804                           PARAP    NT -12.432181  130.843310\n4       810                           ALAWA    NT -12.378451  130.877014", 
                        "text/html": "<div>\n<style scoped>\n    .dataframe tbody tr th:only-of-type {\n        vertical-align: middle;\n    }\n\n    .dataframe tbody tr th {\n        vertical-align: top;\n    }\n\n    .dataframe thead th {\n        text-align: right;\n    }\n</style>\n<table border=\"1\" class=\"dataframe\">\n  <thead>\n    <tr style=\"text-align: right;\">\n      <th></th>\n      <th>postcode</th>\n      <th>suburb</th>\n      <th>state</th>\n      <th>lat</th>\n      <th>lon</th>\n    </tr>\n  </thead>\n  <tbody>\n    <tr>\n      <th>0</th>\n      <td>200</td>\n      <td>AUSTRALIAN NATIONAL UNIVERSITY</td>\n      <td>ACT</td>\n      <td>-35.277272</td>\n      <td>149.117136</td>\n    </tr>\n    <tr>\n      <th>1</th>\n      <td>221</td>\n      <td>BARTON</td>\n      <td>ACT</td>\n      <td>-35.201372</td>\n      <td>149.095065</td>\n    </tr>\n    <tr>\n      <th>2</th>\n      <td>800</td>\n      <td>DARWIN</td>\n      <td>NT</td>\n      <td>-12.801028</td>\n      <td>130.955789</td>\n    </tr>\n    <tr>\n      <th>3</th>\n      <td>804</td>\n      <td>PARAP</td>\n      <td>NT</td>\n      <td>-12.432181</td>\n      <td>130.843310</td>\n    </tr>\n    <tr>\n      <th>4</th>\n      <td>810</td>\n      <td>ALAWA</td>\n      <td>NT</td>\n      <td>-12.378451</td>\n      <td>130.877014</td>\n    </tr>\n  </tbody>\n</table>\n</div>"
                    }, 
                    "execution_count": 12, 
                    "metadata": {}
                }
            ], 
            "execution_count": 12
        }, 
        {
            "source": "For the sake of testing the code throughout development, we'll also create a smaller subset of suburbs, being those in Metropolitan Melbourne, the second-largest city in Australia. The postcode range for Melbourne are postcode between 3000-3207 & 8000-8499", 
            "cell_type": "markdown", 
            "metadata": {}
        }, 
        {
            "source": "melb_postcodes = postcodes[(postcodes['postcode']>=3000)&(postcodes['postcode']<=3207)|(postcodes['postcode']>=8000)&(postcodes['postcode']<=8499)]\nmelb_postcodes.head()", 
            "cell_type": "code", 
            "metadata": {}, 
            "outputs": [
                {
                    "output_type": "execute_result", 
                    "data": {
                        "text/plain": "      postcode              suburb state        lat         lon\n4901      3000           MELBOURNE   VIC -37.814563  144.970267\n4902      3002      EAST MELBOURNE   VIC -37.816640  144.987811\n4903      3003      WEST MELBOURNE   VIC -37.806255  144.941123\n4904      3005  WORLD TRADE CENTRE   VIC -37.822262  144.954856\n4905      3006           SOUTHBANK   VIC -37.823258  144.965926", 
                        "text/html": "<div>\n<style scoped>\n    .dataframe tbody tr th:only-of-type {\n        vertical-align: middle;\n    }\n\n    .dataframe tbody tr th {\n        vertical-align: top;\n    }\n\n    .dataframe thead th {\n        text-align: right;\n    }\n</style>\n<table border=\"1\" class=\"dataframe\">\n  <thead>\n    <tr style=\"text-align: right;\">\n      <th></th>\n      <th>postcode</th>\n      <th>suburb</th>\n      <th>state</th>\n      <th>lat</th>\n      <th>lon</th>\n    </tr>\n  </thead>\n  <tbody>\n    <tr>\n      <th>4901</th>\n      <td>3000</td>\n      <td>MELBOURNE</td>\n      <td>VIC</td>\n      <td>-37.814563</td>\n      <td>144.970267</td>\n    </tr>\n    <tr>\n      <th>4902</th>\n      <td>3002</td>\n      <td>EAST MELBOURNE</td>\n      <td>VIC</td>\n      <td>-37.816640</td>\n      <td>144.987811</td>\n    </tr>\n    <tr>\n      <th>4903</th>\n      <td>3003</td>\n      <td>WEST MELBOURNE</td>\n      <td>VIC</td>\n      <td>-37.806255</td>\n      <td>144.941123</td>\n    </tr>\n    <tr>\n      <th>4904</th>\n      <td>3005</td>\n      <td>WORLD TRADE CENTRE</td>\n      <td>VIC</td>\n      <td>-37.822262</td>\n      <td>144.954856</td>\n    </tr>\n    <tr>\n      <th>4905</th>\n      <td>3006</td>\n      <td>SOUTHBANK</td>\n      <td>VIC</td>\n      <td>-37.823258</td>\n      <td>144.965926</td>\n    </tr>\n  </tbody>\n</table>\n</div>"
                    }, 
                    "execution_count": 13, 
                    "metadata": {}
                }
            ], 
            "execution_count": 13
        }, 
        {
            "source": "## Assign venue clusters\nUse the Foursquare API to get venue recommendations for each suburb and then use K-means to assign a venue cluster to the suburb based on the recommendations returned", 
            "cell_type": "markdown", 
            "metadata": {}
        }, 
        {
            "source": "### Get venue recommendations for the suburbs", 
            "cell_type": "markdown", 
            "metadata": {}
        }, 
        {
            "source": "#intialise Foursquare API credentials\nCLIENT_ID = 'EKC0OWGJC1SY1AE1UHB4PUPH2JGARZTQK1U5C1USTUNA43JF' # your Foursquare ID\nCLIENT_SECRET = 'CHH0EPUEN2PH4WBDV4XHTDT5NWTUZ2SYVIQALUOZXWYNABRO' # your Foursquare Secret\nVERSION = '20180605' # Foursquare API version", 
            "cell_type": "code", 
            "metadata": {}, 
            "outputs": [], 
            "execution_count": 14
        }, 
        {
            "source": "#Use the function to extract the category from the dataframe (because the column name could be either 'categories' or 'venue.categories')\ndef get_category_type(row):\n    try:\n        categories_list = row['categories']\n    except:\n        categories_list = row['venue.categories']\n        \n    if len(categories_list) == 0:\n        return None\n    else:\n        return categories_list[0]['name']", 
            "cell_type": "code", 
            "metadata": {}, 
            "outputs": [], 
            "execution_count": 15
        }, 
        {
            "source": "#define a function to return all the venues for a given neighborhood\n\n#pass the neighborhood (nb), the latitude (la), the radius and the limit \ndef get_venues(nb, la, lo, radius, limit):\n    \n    #print(nb)\n    \n    #form the request url and request only the items (which are the venues)\n    url = 'https://api.foursquare.com/v2/venues/explore?client_id={}&client_secret={}&ll={},{}&v={}&limit={}'.format(CLIENT_ID, CLIENT_SECRET, la, lo, VERSION, limit)\n    items = requests.get(url).json()[\"response\"]['groups'][0]['items']\n    \n    #include exception handling where Foursquare request fails for a particular Neighbourhood\n    if items == []:\n        print(\" -- Foursquare request for \",nb,\"returned no results --\")\n        return None\n    else:\n        # flatten JSON, filter for only wanted columns then use the get_category_type funtion to replace the category list with just the category.\n        venues1 = json_normalize(items)\n        filtered_columns = ['venue.name', 'venue.categories', 'venue.location.lat', 'venue.location.lng']\n        venues1 =venues1.loc[:, filtered_columns]\n        venues1['venue.categories'] = venues1.apply(get_category_type, axis=1)\n\n        #define a new dataframe with the Neighbourhood information\n        venues2 = pd.DataFrame(columns=['Suburb','Suburb Latitude', \n                      'Suburb Longitude']) \n\n        #for each of the venues returned, add the venue dataframe to the (empty) neighbourhood dataframe and fill all rows in the the neighbourhood columns with the neighborhood name, the neighbourhood latitude and longitude\n        i=0\n        for row in venues1:\n            venues2[row]=venues1[row]\n            venues2['Suburb']=nb\n            venues2['Suburb Latitude']=la\n            venues2['Suburb Longitude']=lo\n            i=i+1\n\n        #rename the columns\n        venues2.rename(index=str,columns={\"venue.name\":\"Venue\",\"venue.categories\":\"Venue Category\",\"venue.location.lat\":\"Venue Latitude\",\"venue.location.lng\":\"Venue Longitude\"}, inplace=True)\n    \n    return venues2", 
            "cell_type": "code", 
            "metadata": {}, 
            "outputs": [], 
            "execution_count": 16
        }, 
        {
            "source": "#test out the get_venues function\nrow = 300\nn = postcodes.loc[row]['suburb']\nn_lat = postcodes.loc[row]['lat']\nn_long = postcodes.loc[row]['lon']\n\ndf2=get_venues(n, n_lat, n_long, 500, 100)\ndf2.head()", 
            "cell_type": "code", 
            "metadata": {}, 
            "outputs": [
                {
                    "output_type": "error", 
                    "evalue": "Could not find a suitable TLS CA certificate bundle, invalid path: /opt/conda/envs/DSX-Python35/lib/python3.5/site-packages/certifi/cacert.pem", 
                    "traceback": [
                        "\u001b[0;31m---------------------------------------------------------------------------\u001b[0m", 
                        "\u001b[0;31mOSError\u001b[0m                                   Traceback (most recent call last)", 
                        "\u001b[0;32m<ipython-input-17-91d76d5deb1f>\u001b[0m in \u001b[0;36m<module>\u001b[0;34m()\u001b[0m\n\u001b[1;32m      5\u001b[0m \u001b[0mn_long\u001b[0m \u001b[0;34m=\u001b[0m \u001b[0mpostcodes\u001b[0m\u001b[0;34m.\u001b[0m\u001b[0mloc\u001b[0m\u001b[0;34m[\u001b[0m\u001b[0mrow\u001b[0m\u001b[0;34m]\u001b[0m\u001b[0;34m[\u001b[0m\u001b[0;34m'lon'\u001b[0m\u001b[0;34m]\u001b[0m\u001b[0;34m\u001b[0m\u001b[0m\n\u001b[1;32m      6\u001b[0m \u001b[0;34m\u001b[0m\u001b[0m\n\u001b[0;32m----> 7\u001b[0;31m \u001b[0mdf2\u001b[0m\u001b[0;34m=\u001b[0m\u001b[0mget_venues\u001b[0m\u001b[0;34m(\u001b[0m\u001b[0mn\u001b[0m\u001b[0;34m,\u001b[0m \u001b[0mn_lat\u001b[0m\u001b[0;34m,\u001b[0m \u001b[0mn_long\u001b[0m\u001b[0;34m,\u001b[0m \u001b[0;36m500\u001b[0m\u001b[0;34m,\u001b[0m \u001b[0;36m100\u001b[0m\u001b[0;34m)\u001b[0m\u001b[0;34m\u001b[0m\u001b[0m\n\u001b[0m\u001b[1;32m      8\u001b[0m \u001b[0mdf2\u001b[0m\u001b[0;34m.\u001b[0m\u001b[0mhead\u001b[0m\u001b[0;34m(\u001b[0m\u001b[0;34m)\u001b[0m\u001b[0;34m\u001b[0m\u001b[0m\n", 
                        "\u001b[0;32m<ipython-input-16-e88d74eeacfb>\u001b[0m in \u001b[0;36mget_venues\u001b[0;34m(nb, la, lo, radius, limit)\u001b[0m\n\u001b[1;32m      8\u001b[0m     \u001b[0;31m#form the request url and request only the items (which are the venues)\u001b[0m\u001b[0;34m\u001b[0m\u001b[0;34m\u001b[0m\u001b[0m\n\u001b[1;32m      9\u001b[0m     \u001b[0murl\u001b[0m \u001b[0;34m=\u001b[0m \u001b[0;34m'https://api.foursquare.com/v2/venues/explore?client_id={}&client_secret={}&ll={},{}&v={}&limit={}'\u001b[0m\u001b[0;34m.\u001b[0m\u001b[0mformat\u001b[0m\u001b[0;34m(\u001b[0m\u001b[0mCLIENT_ID\u001b[0m\u001b[0;34m,\u001b[0m \u001b[0mCLIENT_SECRET\u001b[0m\u001b[0;34m,\u001b[0m \u001b[0mla\u001b[0m\u001b[0;34m,\u001b[0m \u001b[0mlo\u001b[0m\u001b[0;34m,\u001b[0m \u001b[0mVERSION\u001b[0m\u001b[0;34m,\u001b[0m \u001b[0mlimit\u001b[0m\u001b[0;34m)\u001b[0m\u001b[0;34m\u001b[0m\u001b[0m\n\u001b[0;32m---> 10\u001b[0;31m     \u001b[0mitems\u001b[0m \u001b[0;34m=\u001b[0m \u001b[0mrequests\u001b[0m\u001b[0;34m.\u001b[0m\u001b[0mget\u001b[0m\u001b[0;34m(\u001b[0m\u001b[0murl\u001b[0m\u001b[0;34m)\u001b[0m\u001b[0;34m.\u001b[0m\u001b[0mjson\u001b[0m\u001b[0;34m(\u001b[0m\u001b[0;34m)\u001b[0m\u001b[0;34m[\u001b[0m\u001b[0;34m\"response\"\u001b[0m\u001b[0;34m]\u001b[0m\u001b[0;34m[\u001b[0m\u001b[0;34m'groups'\u001b[0m\u001b[0;34m]\u001b[0m\u001b[0;34m[\u001b[0m\u001b[0;36m0\u001b[0m\u001b[0;34m]\u001b[0m\u001b[0;34m[\u001b[0m\u001b[0;34m'items'\u001b[0m\u001b[0;34m]\u001b[0m\u001b[0;34m\u001b[0m\u001b[0m\n\u001b[0m\u001b[1;32m     11\u001b[0m \u001b[0;34m\u001b[0m\u001b[0m\n\u001b[1;32m     12\u001b[0m     \u001b[0;31m#include exception handling where Foursquare request fails for a particular Neighbourhood\u001b[0m\u001b[0;34m\u001b[0m\u001b[0;34m\u001b[0m\u001b[0m\n", 
                        "\u001b[0;32m/opt/conda/envs/DSX-Python35/lib/python3.5/site-packages/requests/api.py\u001b[0m in \u001b[0;36mget\u001b[0;34m(url, params, **kwargs)\u001b[0m\n", 
                        "\u001b[0;32m/opt/conda/envs/DSX-Python35/lib/python3.5/site-packages/requests/api.py\u001b[0m in \u001b[0;36mrequest\u001b[0;34m(method, url, **kwargs)\u001b[0m\n", 
                        "\u001b[0;32m/opt/conda/envs/DSX-Python35/lib/python3.5/site-packages/requests/sessions.py\u001b[0m in \u001b[0;36mrequest\u001b[0;34m(self, method, url, params, data, headers, cookies, files, auth, timeout, allow_redirects, proxies, hooks, stream, verify, cert, json)\u001b[0m\n", 
                        "\u001b[0;32m/opt/conda/envs/DSX-Python35/lib/python3.5/site-packages/requests/sessions.py\u001b[0m in \u001b[0;36msend\u001b[0;34m(self, request, **kwargs)\u001b[0m\n", 
                        "\u001b[0;32m/opt/conda/envs/DSX-Python35/lib/python3.5/site-packages/requests/adapters.py\u001b[0m in \u001b[0;36msend\u001b[0;34m(self, request, stream, timeout, verify, cert, proxies)\u001b[0m\n", 
                        "\u001b[0;32m/opt/conda/envs/DSX-Python35/lib/python3.5/site-packages/requests/adapters.py\u001b[0m in \u001b[0;36mcert_verify\u001b[0;34m(self, conn, url, verify, cert)\u001b[0m\n", 
                        "\u001b[0;31mOSError\u001b[0m: Could not find a suitable TLS CA certificate bundle, invalid path: /opt/conda/envs/DSX-Python35/lib/python3.5/site-packages/certifi/cacert.pem"
                    ], 
                    "ename": "OSError"
                }
            ], 
            "execution_count": 17
        }, 
        {
            "source": "#Iterate thorough all the suburbs of the dataframe df, adding each set of venues to the df_suburb_venues dataframe\ndf=melb_postcodes\ndf_suburb_venues=pd.DataFrame()\nradius = 500\nlimit = 100\nprint(\"Getting venue recommendations, please wait......\")\nfor i, row in enumerate(df['suburb']):\n        df_suburb_venues=df_suburb_venues.append(get_venues(df.iloc[i]['suburb'], df.iloc[i]['lat'], df.iloc[i]['lon'], radius, limit),ignore_index=True)\nprint(\"...... Complete\")", 
            "cell_type": "code", 
            "metadata": {}, 
            "outputs": [
                {
                    "output_type": "stream", 
                    "name": "stdout", 
                    "text": "Getting venue recommendations, please wait......\n"
                }, 
                {
                    "output_type": "error", 
                    "evalue": "Could not find a suitable TLS CA certificate bundle, invalid path: /opt/conda/envs/DSX-Python35/lib/python3.5/site-packages/certifi/cacert.pem", 
                    "traceback": [
                        "\u001b[0;31m---------------------------------------------------------------------------\u001b[0m", 
                        "\u001b[0;31mOSError\u001b[0m                                   Traceback (most recent call last)", 
                        "\u001b[0;32m<ipython-input-20-1579a37679a5>\u001b[0m in \u001b[0;36m<module>\u001b[0;34m()\u001b[0m\n\u001b[1;32m      6\u001b[0m \u001b[0mprint\u001b[0m\u001b[0;34m(\u001b[0m\u001b[0;34m\"Getting venue recommendations, please wait......\"\u001b[0m\u001b[0;34m)\u001b[0m\u001b[0;34m\u001b[0m\u001b[0m\n\u001b[1;32m      7\u001b[0m \u001b[0;32mfor\u001b[0m \u001b[0mi\u001b[0m\u001b[0;34m,\u001b[0m \u001b[0mrow\u001b[0m \u001b[0;32min\u001b[0m \u001b[0menumerate\u001b[0m\u001b[0;34m(\u001b[0m\u001b[0mdf\u001b[0m\u001b[0;34m[\u001b[0m\u001b[0;34m'suburb'\u001b[0m\u001b[0;34m]\u001b[0m\u001b[0;34m)\u001b[0m\u001b[0;34m:\u001b[0m\u001b[0;34m\u001b[0m\u001b[0m\n\u001b[0;32m----> 8\u001b[0;31m         \u001b[0mdf_suburb_venues\u001b[0m\u001b[0;34m=\u001b[0m\u001b[0mdf_suburb_venues\u001b[0m\u001b[0;34m.\u001b[0m\u001b[0mappend\u001b[0m\u001b[0;34m(\u001b[0m\u001b[0mget_venues\u001b[0m\u001b[0;34m(\u001b[0m\u001b[0mdf\u001b[0m\u001b[0;34m.\u001b[0m\u001b[0miloc\u001b[0m\u001b[0;34m[\u001b[0m\u001b[0mi\u001b[0m\u001b[0;34m]\u001b[0m\u001b[0;34m[\u001b[0m\u001b[0;34m'suburb'\u001b[0m\u001b[0;34m]\u001b[0m\u001b[0;34m,\u001b[0m \u001b[0mdf\u001b[0m\u001b[0;34m.\u001b[0m\u001b[0miloc\u001b[0m\u001b[0;34m[\u001b[0m\u001b[0mi\u001b[0m\u001b[0;34m]\u001b[0m\u001b[0;34m[\u001b[0m\u001b[0;34m'lat'\u001b[0m\u001b[0;34m]\u001b[0m\u001b[0;34m,\u001b[0m \u001b[0mdf\u001b[0m\u001b[0;34m.\u001b[0m\u001b[0miloc\u001b[0m\u001b[0;34m[\u001b[0m\u001b[0mi\u001b[0m\u001b[0;34m]\u001b[0m\u001b[0;34m[\u001b[0m\u001b[0;34m'lon'\u001b[0m\u001b[0;34m]\u001b[0m\u001b[0;34m,\u001b[0m \u001b[0mradius\u001b[0m\u001b[0;34m,\u001b[0m \u001b[0mlimit\u001b[0m\u001b[0;34m)\u001b[0m\u001b[0;34m,\u001b[0m\u001b[0mignore_index\u001b[0m\u001b[0;34m=\u001b[0m\u001b[0;32mTrue\u001b[0m\u001b[0;34m)\u001b[0m\u001b[0;34m\u001b[0m\u001b[0m\n\u001b[0m\u001b[1;32m      9\u001b[0m \u001b[0mprint\u001b[0m\u001b[0;34m(\u001b[0m\u001b[0;34m\"...... Complete\"\u001b[0m\u001b[0;34m)\u001b[0m\u001b[0;34m\u001b[0m\u001b[0m\n", 
                        "\u001b[0;32m<ipython-input-18-e88d74eeacfb>\u001b[0m in \u001b[0;36mget_venues\u001b[0;34m(nb, la, lo, radius, limit)\u001b[0m\n\u001b[1;32m      8\u001b[0m     \u001b[0;31m#form the request url and request only the items (which are the venues)\u001b[0m\u001b[0;34m\u001b[0m\u001b[0;34m\u001b[0m\u001b[0m\n\u001b[1;32m      9\u001b[0m     \u001b[0murl\u001b[0m \u001b[0;34m=\u001b[0m \u001b[0;34m'https://api.foursquare.com/v2/venues/explore?client_id={}&client_secret={}&ll={},{}&v={}&limit={}'\u001b[0m\u001b[0;34m.\u001b[0m\u001b[0mformat\u001b[0m\u001b[0;34m(\u001b[0m\u001b[0mCLIENT_ID\u001b[0m\u001b[0;34m,\u001b[0m \u001b[0mCLIENT_SECRET\u001b[0m\u001b[0;34m,\u001b[0m \u001b[0mla\u001b[0m\u001b[0;34m,\u001b[0m \u001b[0mlo\u001b[0m\u001b[0;34m,\u001b[0m \u001b[0mVERSION\u001b[0m\u001b[0;34m,\u001b[0m \u001b[0mlimit\u001b[0m\u001b[0;34m)\u001b[0m\u001b[0;34m\u001b[0m\u001b[0m\n\u001b[0;32m---> 10\u001b[0;31m     \u001b[0mitems\u001b[0m \u001b[0;34m=\u001b[0m \u001b[0mrequests\u001b[0m\u001b[0;34m.\u001b[0m\u001b[0mget\u001b[0m\u001b[0;34m(\u001b[0m\u001b[0murl\u001b[0m\u001b[0;34m)\u001b[0m\u001b[0;34m.\u001b[0m\u001b[0mjson\u001b[0m\u001b[0;34m(\u001b[0m\u001b[0;34m)\u001b[0m\u001b[0;34m[\u001b[0m\u001b[0;34m\"response\"\u001b[0m\u001b[0;34m]\u001b[0m\u001b[0;34m[\u001b[0m\u001b[0;34m'groups'\u001b[0m\u001b[0;34m]\u001b[0m\u001b[0;34m[\u001b[0m\u001b[0;36m0\u001b[0m\u001b[0;34m]\u001b[0m\u001b[0;34m[\u001b[0m\u001b[0;34m'items'\u001b[0m\u001b[0;34m]\u001b[0m\u001b[0;34m\u001b[0m\u001b[0m\n\u001b[0m\u001b[1;32m     11\u001b[0m \u001b[0;34m\u001b[0m\u001b[0m\n\u001b[1;32m     12\u001b[0m     \u001b[0;31m#include exception handling where Foursquare request fails for a particular Neighbourhood\u001b[0m\u001b[0;34m\u001b[0m\u001b[0;34m\u001b[0m\u001b[0m\n", 
                        "\u001b[0;32m/opt/conda/envs/DSX-Python35/lib/python3.5/site-packages/requests/api.py\u001b[0m in \u001b[0;36mget\u001b[0;34m(url, params, **kwargs)\u001b[0m\n", 
                        "\u001b[0;32m/opt/conda/envs/DSX-Python35/lib/python3.5/site-packages/requests/api.py\u001b[0m in \u001b[0;36mrequest\u001b[0;34m(method, url, **kwargs)\u001b[0m\n", 
                        "\u001b[0;32m/opt/conda/envs/DSX-Python35/lib/python3.5/site-packages/requests/sessions.py\u001b[0m in \u001b[0;36mrequest\u001b[0;34m(self, method, url, params, data, headers, cookies, files, auth, timeout, allow_redirects, proxies, hooks, stream, verify, cert, json)\u001b[0m\n", 
                        "\u001b[0;32m/opt/conda/envs/DSX-Python35/lib/python3.5/site-packages/requests/sessions.py\u001b[0m in \u001b[0;36msend\u001b[0;34m(self, request, **kwargs)\u001b[0m\n", 
                        "\u001b[0;32m/opt/conda/envs/DSX-Python35/lib/python3.5/site-packages/requests/adapters.py\u001b[0m in \u001b[0;36msend\u001b[0;34m(self, request, stream, timeout, verify, cert, proxies)\u001b[0m\n", 
                        "\u001b[0;32m/opt/conda/envs/DSX-Python35/lib/python3.5/site-packages/requests/adapters.py\u001b[0m in \u001b[0;36mcert_verify\u001b[0;34m(self, conn, url, verify, cert)\u001b[0m\n", 
                        "\u001b[0;31mOSError\u001b[0m: Could not find a suitable TLS CA certificate bundle, invalid path: /opt/conda/envs/DSX-Python35/lib/python3.5/site-packages/certifi/cacert.pem"
                    ], 
                    "ename": "OSError"
                }
            ], 
            "execution_count": 20
        }, 
        {
            "source": "df_suburb_venues.head()", 
            "cell_type": "code", 
            "metadata": {}, 
            "outputs": [
                {
                    "output_type": "execute_result", 
                    "data": {
                        "text/plain": "      Suburb  Suburb Latitude  Suburb Longitude                  Venue  \\\n0  MELBOURNE       -37.814563        144.970267             Eau de Vie   \n1  MELBOURNE       -37.814563        144.970267              Chin Chin   \n2  MELBOURNE       -37.814563        144.970267                   Coda   \n3  MELBOURNE       -37.814563        144.970267  Grand Hyatt Melbourne   \n4  MELBOURNE       -37.814563        144.970267                Pastuso   \n\n          Venue Category  Venue Latitude  Venue Longitude  \n0              Speakeasy      -37.815748       144.971542  \n1       Asian Restaurant      -37.815451       144.970189  \n2  Vietnamese Restaurant      -37.815625       144.969906  \n3                  Hotel      -37.815213       144.969658  \n4    Peruvian Restaurant      -37.815354       144.971062  ", 
                        "text/html": "<div>\n<style scoped>\n    .dataframe tbody tr th:only-of-type {\n        vertical-align: middle;\n    }\n\n    .dataframe tbody tr th {\n        vertical-align: top;\n    }\n\n    .dataframe thead th {\n        text-align: right;\n    }\n</style>\n<table border=\"1\" class=\"dataframe\">\n  <thead>\n    <tr style=\"text-align: right;\">\n      <th></th>\n      <th>Suburb</th>\n      <th>Suburb Latitude</th>\n      <th>Suburb Longitude</th>\n      <th>Venue</th>\n      <th>Venue Category</th>\n      <th>Venue Latitude</th>\n      <th>Venue Longitude</th>\n    </tr>\n  </thead>\n  <tbody>\n    <tr>\n      <th>0</th>\n      <td>MELBOURNE</td>\n      <td>-37.814563</td>\n      <td>144.970267</td>\n      <td>Eau de Vie</td>\n      <td>Speakeasy</td>\n      <td>-37.815748</td>\n      <td>144.971542</td>\n    </tr>\n    <tr>\n      <th>1</th>\n      <td>MELBOURNE</td>\n      <td>-37.814563</td>\n      <td>144.970267</td>\n      <td>Chin Chin</td>\n      <td>Asian Restaurant</td>\n      <td>-37.815451</td>\n      <td>144.970189</td>\n    </tr>\n    <tr>\n      <th>2</th>\n      <td>MELBOURNE</td>\n      <td>-37.814563</td>\n      <td>144.970267</td>\n      <td>Coda</td>\n      <td>Vietnamese Restaurant</td>\n      <td>-37.815625</td>\n      <td>144.969906</td>\n    </tr>\n    <tr>\n      <th>3</th>\n      <td>MELBOURNE</td>\n      <td>-37.814563</td>\n      <td>144.970267</td>\n      <td>Grand Hyatt Melbourne</td>\n      <td>Hotel</td>\n      <td>-37.815213</td>\n      <td>144.969658</td>\n    </tr>\n    <tr>\n      <th>4</th>\n      <td>MELBOURNE</td>\n      <td>-37.814563</td>\n      <td>144.970267</td>\n      <td>Pastuso</td>\n      <td>Peruvian Restaurant</td>\n      <td>-37.815354</td>\n      <td>144.971062</td>\n    </tr>\n  </tbody>\n</table>\n</div>"
                    }, 
                    "execution_count": 24, 
                    "metadata": {}
                }
            ], 
            "execution_count": 24
        }, 
        {
            "source": "counts = df_suburb_venues['Venue Category'].value_counts()\ncounts", 
            "cell_type": "code", 
            "metadata": {}, 
            "outputs": [
                {
                    "output_type": "execute_result", 
                    "data": {
                        "text/plain": "Caf\u00e9                            6143\nFast Food Restaurant            1762\nSupermarket                     1424\nGrocery Store                   1421\nSandwich Place                  1024\nCoffee Shop                      914\nPark                             829\nConvenience Store                781\nShopping Mall                    768\nPizza Place                      756\nPub                              725\nGym                              664\nPortuguese Restaurant            645\nBakery                           633\nBar                              591\nBurger Joint                     584\nElectronics Store                581\nVietnamese Restaurant            579\nDepartment Store                 566\nItalian Restaurant               560\nJapanese Restaurant              535\nThai Restaurant                  468\nChinese Restaurant               419\nMalay Restaurant                 408\nTrain Station                    360\nIndian Restaurant                352\nLiquor Store                     346\nMiddle Eastern Restaurant        332\nRestaurant                       330\nGym / Fitness Center             320\n                                ... \nCarpet Store                       1\nWater Park                         1\nSoba Restaurant                    1\nArepa Restaurant                   1\nCollege Cafeteria                  1\nPlatform                           1\nPier                               1\nChaat Place                        1\nAdult Boutique                     1\nMini Golf                          1\nTheme Park                         1\nHealth & Beauty Service            1\nBaseball Stadium                   1\nShipping Store                     1\nFruit & Vegetable Store            1\nGluten-free Restaurant             1\nConstruction & Landscaping         1\nBridge                             1\nMotorcycle Shop                    1\nVolleyball Court                   1\nWomen's Store                      1\nPeruvian Restaurant                1\nTourist Information Center         1\nBadminton Court                    1\nTheme Park Ride / Attraction       1\nMartial Arts Dojo                  1\nPawn Shop                          1\nPaintball Field                    1\nLocksmith                          1\nOpera House                        1\nName: Venue Category, Length: 338, dtype: int64"
                    }, 
                    "execution_count": 25, 
                    "metadata": {}
                }
            ], 
            "execution_count": 25
        }, 
        {
            "source": "Interesting to see 'Portugese Restaurant' feature so highly on the above list. I suspect no Melbournian would have expected that, as we don't really have much of a Portugese community and I've personally never seen a Portugese restaurant. Vietnamese, Italian and Japanese are surely more prevalent! Looking more closely it turns out that this is basically due to the prevalence of Nando's fast food restaurants: ", 
            "cell_type": "markdown", 
            "metadata": {}
        }, 
        {
            "source": "df_suburb_venues[df_suburb_venues['Venue Category']=='Portuguese Restaurant'].head()", 
            "cell_type": "code", 
            "metadata": {}, 
            "outputs": [
                {
                    "output_type": "execute_result", 
                    "data": {
                        "text/plain": "                  Suburb  Suburb Latitude  Suburb Longitude    Venue  \\\n237       WEST MELBOURNE       -37.806255        144.941123  Nando's   \n586            DOCKLANDS       -37.814719        144.948039  Nando's   \n1908  WILLIAMSTOWN NORTH       -37.857681        144.887041  Nando's   \n1999              ALTONA       -37.869275        144.830286  Nando's   \n2015              ALTONA       -37.869275        144.830286  Nando's   \n\n             Venue Category  Venue Latitude  Venue Longitude  \n237   Portuguese Restaurant      -37.812157       144.938183  \n586   Portuguese Restaurant      -37.812157       144.938183  \n1908  Portuguese Restaurant      -37.827833       144.847661  \n1999  Portuguese Restaurant      -37.861810       144.902400  \n2015  Portuguese Restaurant      -37.823350       144.823810  ", 
                        "text/html": "<div>\n<style scoped>\n    .dataframe tbody tr th:only-of-type {\n        vertical-align: middle;\n    }\n\n    .dataframe tbody tr th {\n        vertical-align: top;\n    }\n\n    .dataframe thead th {\n        text-align: right;\n    }\n</style>\n<table border=\"1\" class=\"dataframe\">\n  <thead>\n    <tr style=\"text-align: right;\">\n      <th></th>\n      <th>Suburb</th>\n      <th>Suburb Latitude</th>\n      <th>Suburb Longitude</th>\n      <th>Venue</th>\n      <th>Venue Category</th>\n      <th>Venue Latitude</th>\n      <th>Venue Longitude</th>\n    </tr>\n  </thead>\n  <tbody>\n    <tr>\n      <th>237</th>\n      <td>WEST MELBOURNE</td>\n      <td>-37.806255</td>\n      <td>144.941123</td>\n      <td>Nando's</td>\n      <td>Portuguese Restaurant</td>\n      <td>-37.812157</td>\n      <td>144.938183</td>\n    </tr>\n    <tr>\n      <th>586</th>\n      <td>DOCKLANDS</td>\n      <td>-37.814719</td>\n      <td>144.948039</td>\n      <td>Nando's</td>\n      <td>Portuguese Restaurant</td>\n      <td>-37.812157</td>\n      <td>144.938183</td>\n    </tr>\n    <tr>\n      <th>1908</th>\n      <td>WILLIAMSTOWN NORTH</td>\n      <td>-37.857681</td>\n      <td>144.887041</td>\n      <td>Nando's</td>\n      <td>Portuguese Restaurant</td>\n      <td>-37.827833</td>\n      <td>144.847661</td>\n    </tr>\n    <tr>\n      <th>1999</th>\n      <td>ALTONA</td>\n      <td>-37.869275</td>\n      <td>144.830286</td>\n      <td>Nando's</td>\n      <td>Portuguese Restaurant</td>\n      <td>-37.861810</td>\n      <td>144.902400</td>\n    </tr>\n    <tr>\n      <th>2015</th>\n      <td>ALTONA</td>\n      <td>-37.869275</td>\n      <td>144.830286</td>\n      <td>Nando's</td>\n      <td>Portuguese Restaurant</td>\n      <td>-37.823350</td>\n      <td>144.823810</td>\n    </tr>\n  </tbody>\n</table>\n</div>"
                    }, 
                    "execution_count": 26, 
                    "metadata": {}
                }
            ], 
            "execution_count": 26
        }, 
        {
            "source": "df_onehot = pd.get_dummies(df_suburb_venues['Venue Category'])\n#df_onehot.drop('suburb',axis=1,inplace=True)\n#insert a new column for the Neighbourhood values (note that immediately reusing the 'Neighborhood' name causes as error as you can't add a Neighourhood column that already exists, so renamed the column post the insert)\ndf_onehot.insert(0,\"New\",df_suburb_venues['Suburb'])\ndf_onehot.rename(columns={'New':'Suburb'}, inplace=True)\n\n#get the mean frequency occurance\ndf_onehot = df_onehot.groupby(\"Suburb\").mean().reset_index()\ndf_onehot.head()", 
            "cell_type": "code", 
            "metadata": {}, 
            "outputs": [
                {
                    "output_type": "execute_result", 
                    "data": {
                        "text/plain": "            Suburb  Adult Boutique  Afghan Restaurant  African Restaurant  \\\n0  ABECKETT STREET             0.0           0.000000                 0.0   \n1       ABERFELDIE             0.0           0.000000                 0.0   \n2     AIRPORT WEST             0.0           0.000000                 0.0   \n3        ALBANVALE             0.0           0.010638                 0.0   \n4      ALBERT PARK             0.0           0.000000                 0.0   \n\n    Airport  Airport Lounge  Airport Terminal  American Restaurant  \\\n0  0.000000             0.0               0.0                  0.0   \n1  0.000000             0.0               0.0                  0.0   \n2  0.011765             0.0               0.0                  0.0   \n3  0.000000             0.0               0.0                  0.0   \n4  0.000000             0.0               0.0                  0.0   \n\n   Antique Shop  Aquarium     ...       Whisky Bar  Wine Bar  Wine Shop  \\\n0          0.01       0.0     ...              0.0  0.010000       0.00   \n1          0.00       0.0     ...              0.0  0.000000       0.00   \n2          0.00       0.0     ...              0.0  0.000000       0.00   \n3          0.00       0.0     ...              0.0  0.010638       0.00   \n4          0.00       0.0     ...              0.0  0.010000       0.01   \n\n   Winery  Women's Store  Xinjiang Restaurant  Yoga Studio  Yunnan Restaurant  \\\n0     0.0            0.0                  0.0          0.0                0.0   \n1     0.0            0.0                  0.0          0.0                0.0   \n2     0.0            0.0                  0.0          0.0                0.0   \n3     0.0            0.0                  0.0          0.0                0.0   \n4     0.0            0.0                  0.0          0.0                0.0   \n\n   Zoo  Zoo Exhibit  \n0  0.0          0.0  \n1  0.0          0.0  \n2  0.0          0.0  \n3  0.0          0.0  \n4  0.0          0.0  \n\n[5 rows x 339 columns]", 
                        "text/html": "<div>\n<style scoped>\n    .dataframe tbody tr th:only-of-type {\n        vertical-align: middle;\n    }\n\n    .dataframe tbody tr th {\n        vertical-align: top;\n    }\n\n    .dataframe thead th {\n        text-align: right;\n    }\n</style>\n<table border=\"1\" class=\"dataframe\">\n  <thead>\n    <tr style=\"text-align: right;\">\n      <th></th>\n      <th>Suburb</th>\n      <th>Adult Boutique</th>\n      <th>Afghan Restaurant</th>\n      <th>African Restaurant</th>\n      <th>Airport</th>\n      <th>Airport Lounge</th>\n      <th>Airport Terminal</th>\n      <th>American Restaurant</th>\n      <th>Antique Shop</th>\n      <th>Aquarium</th>\n      <th>...</th>\n      <th>Whisky Bar</th>\n      <th>Wine Bar</th>\n      <th>Wine Shop</th>\n      <th>Winery</th>\n      <th>Women's Store</th>\n      <th>Xinjiang Restaurant</th>\n      <th>Yoga Studio</th>\n      <th>Yunnan Restaurant</th>\n      <th>Zoo</th>\n      <th>Zoo Exhibit</th>\n    </tr>\n  </thead>\n  <tbody>\n    <tr>\n      <th>0</th>\n      <td>ABECKETT STREET</td>\n      <td>0.0</td>\n      <td>0.000000</td>\n      <td>0.0</td>\n      <td>0.000000</td>\n      <td>0.0</td>\n      <td>0.0</td>\n      <td>0.0</td>\n      <td>0.01</td>\n      <td>0.0</td>\n      <td>...</td>\n      <td>0.0</td>\n      <td>0.010000</td>\n      <td>0.00</td>\n      <td>0.0</td>\n      <td>0.0</td>\n      <td>0.0</td>\n      <td>0.0</td>\n      <td>0.0</td>\n      <td>0.0</td>\n      <td>0.0</td>\n    </tr>\n    <tr>\n      <th>1</th>\n      <td>ABERFELDIE</td>\n      <td>0.0</td>\n      <td>0.000000</td>\n      <td>0.0</td>\n      <td>0.000000</td>\n      <td>0.0</td>\n      <td>0.0</td>\n      <td>0.0</td>\n      <td>0.00</td>\n      <td>0.0</td>\n      <td>...</td>\n      <td>0.0</td>\n      <td>0.000000</td>\n      <td>0.00</td>\n      <td>0.0</td>\n      <td>0.0</td>\n      <td>0.0</td>\n      <td>0.0</td>\n      <td>0.0</td>\n      <td>0.0</td>\n      <td>0.0</td>\n    </tr>\n    <tr>\n      <th>2</th>\n      <td>AIRPORT WEST</td>\n      <td>0.0</td>\n      <td>0.000000</td>\n      <td>0.0</td>\n      <td>0.011765</td>\n      <td>0.0</td>\n      <td>0.0</td>\n      <td>0.0</td>\n      <td>0.00</td>\n      <td>0.0</td>\n      <td>...</td>\n      <td>0.0</td>\n      <td>0.000000</td>\n      <td>0.00</td>\n      <td>0.0</td>\n      <td>0.0</td>\n      <td>0.0</td>\n      <td>0.0</td>\n      <td>0.0</td>\n      <td>0.0</td>\n      <td>0.0</td>\n    </tr>\n    <tr>\n      <th>3</th>\n      <td>ALBANVALE</td>\n      <td>0.0</td>\n      <td>0.010638</td>\n      <td>0.0</td>\n      <td>0.000000</td>\n      <td>0.0</td>\n      <td>0.0</td>\n      <td>0.0</td>\n      <td>0.00</td>\n      <td>0.0</td>\n      <td>...</td>\n      <td>0.0</td>\n      <td>0.010638</td>\n      <td>0.00</td>\n      <td>0.0</td>\n      <td>0.0</td>\n      <td>0.0</td>\n      <td>0.0</td>\n      <td>0.0</td>\n      <td>0.0</td>\n      <td>0.0</td>\n    </tr>\n    <tr>\n      <th>4</th>\n      <td>ALBERT PARK</td>\n      <td>0.0</td>\n      <td>0.000000</td>\n      <td>0.0</td>\n      <td>0.000000</td>\n      <td>0.0</td>\n      <td>0.0</td>\n      <td>0.0</td>\n      <td>0.00</td>\n      <td>0.0</td>\n      <td>...</td>\n      <td>0.0</td>\n      <td>0.010000</td>\n      <td>0.01</td>\n      <td>0.0</td>\n      <td>0.0</td>\n      <td>0.0</td>\n      <td>0.0</td>\n      <td>0.0</td>\n      <td>0.0</td>\n      <td>0.0</td>\n    </tr>\n  </tbody>\n</table>\n<p>5 rows \u00d7 339 columns</p>\n</div>"
                    }, 
                    "execution_count": 27, 
                    "metadata": {}
                }
            ], 
            "execution_count": 27
        }, 
        {
            "source": "#put the top10 into a dataframe\ndf_topvenues=pd.DataFrame(columns=['Suburb','#1','#2','#3','#4','#5','#6','#7','#8','#9','#10'])\n\nfor row in range(0,len(df_onehot)):\n    suburb = df_onehot.iloc[row][0]\n    topten = df_onehot.iloc[row][1:].sort_values(ascending=False).head(10)\n    temp=pd.DataFrame([[suburb,topten.index[0],topten.index[1],topten.index[2],topten.index[3],topten.index[4],topten.index[5],topten.index[6],topten.index[7],topten.index[8],topten.index[9]]],columns=['Suburb','#1','#2','#3','#4','#5','#6','#7','#8','#9','#10'])\n    df_topvenues=df_topvenues.append(temp)\ndf_topvenues.reset_index(inplace=True, drop=True)\ndf_topvenues.head()", 
            "cell_type": "code", 
            "metadata": {}, 
            "outputs": [
                {
                    "output_type": "execute_result", 
                    "data": {
                        "text/plain": "            Suburb                    #1                     #2  \\\n0  ABECKETT STREET     Korean Restaurant                   Caf\u00e9   \n1       ABERFELDIE                  Caf\u00e9      Electronics Store   \n2     AIRPORT WEST  Fast Food Restaurant                   Caf\u00e9   \n3        ALBANVALE  Fast Food Restaurant  Portuguese Restaurant   \n4      ALBERT PARK                  Caf\u00e9              Gastropub   \n\n              #3                   #4                   #5  \\\n0    Coffee Shop  Japanese Restaurant         Dessert Shop   \n1  Grocery Store  Japanese Restaurant               Bakery   \n2    Supermarket       Sandwich Place        Grocery Store   \n3           Caf\u00e9        Shopping Mall          Supermarket   \n4    Coffee Shop                  Pub  Japanese Restaurant   \n\n                      #6                     #7                  #8  \\\n0  Indonesian Restaurant        Bubble Tea Shop      Cosmetics Shop   \n1            Pizza Place                    Pub         Coffee Shop   \n2  Portuguese Restaurant          Shopping Mall  Italian Restaurant   \n3          Grocery Store  Vietnamese Restaurant  Chinese Restaurant   \n4           Burger Joint                  Beach      Breakfast Spot   \n\n                  #9                        #10  \n0       Cocktail Bar             Clothing Store  \n1      Shopping Mall                        Gym  \n2  Convenience Store          Electronics Store  \n3     Sandwich Place          Electronics Store  \n4          Pet Store  Middle Eastern Restaurant  ", 
                        "text/html": "<div>\n<style scoped>\n    .dataframe tbody tr th:only-of-type {\n        vertical-align: middle;\n    }\n\n    .dataframe tbody tr th {\n        vertical-align: top;\n    }\n\n    .dataframe thead th {\n        text-align: right;\n    }\n</style>\n<table border=\"1\" class=\"dataframe\">\n  <thead>\n    <tr style=\"text-align: right;\">\n      <th></th>\n      <th>Suburb</th>\n      <th>#1</th>\n      <th>#2</th>\n      <th>#3</th>\n      <th>#4</th>\n      <th>#5</th>\n      <th>#6</th>\n      <th>#7</th>\n      <th>#8</th>\n      <th>#9</th>\n      <th>#10</th>\n    </tr>\n  </thead>\n  <tbody>\n    <tr>\n      <th>0</th>\n      <td>ABECKETT STREET</td>\n      <td>Korean Restaurant</td>\n      <td>Caf\u00e9</td>\n      <td>Coffee Shop</td>\n      <td>Japanese Restaurant</td>\n      <td>Dessert Shop</td>\n      <td>Indonesian Restaurant</td>\n      <td>Bubble Tea Shop</td>\n      <td>Cosmetics Shop</td>\n      <td>Cocktail Bar</td>\n      <td>Clothing Store</td>\n    </tr>\n    <tr>\n      <th>1</th>\n      <td>ABERFELDIE</td>\n      <td>Caf\u00e9</td>\n      <td>Electronics Store</td>\n      <td>Grocery Store</td>\n      <td>Japanese Restaurant</td>\n      <td>Bakery</td>\n      <td>Pizza Place</td>\n      <td>Pub</td>\n      <td>Coffee Shop</td>\n      <td>Shopping Mall</td>\n      <td>Gym</td>\n    </tr>\n    <tr>\n      <th>2</th>\n      <td>AIRPORT WEST</td>\n      <td>Fast Food Restaurant</td>\n      <td>Caf\u00e9</td>\n      <td>Supermarket</td>\n      <td>Sandwich Place</td>\n      <td>Grocery Store</td>\n      <td>Portuguese Restaurant</td>\n      <td>Shopping Mall</td>\n      <td>Italian Restaurant</td>\n      <td>Convenience Store</td>\n      <td>Electronics Store</td>\n    </tr>\n    <tr>\n      <th>3</th>\n      <td>ALBANVALE</td>\n      <td>Fast Food Restaurant</td>\n      <td>Portuguese Restaurant</td>\n      <td>Caf\u00e9</td>\n      <td>Shopping Mall</td>\n      <td>Supermarket</td>\n      <td>Grocery Store</td>\n      <td>Vietnamese Restaurant</td>\n      <td>Chinese Restaurant</td>\n      <td>Sandwich Place</td>\n      <td>Electronics Store</td>\n    </tr>\n    <tr>\n      <th>4</th>\n      <td>ALBERT PARK</td>\n      <td>Caf\u00e9</td>\n      <td>Gastropub</td>\n      <td>Coffee Shop</td>\n      <td>Pub</td>\n      <td>Japanese Restaurant</td>\n      <td>Burger Joint</td>\n      <td>Beach</td>\n      <td>Breakfast Spot</td>\n      <td>Pet Store</td>\n      <td>Middle Eastern Restaurant</td>\n    </tr>\n  </tbody>\n</table>\n</div>"
                    }, 
                    "execution_count": 28, 
                    "metadata": {}
                }
            ], 
            "execution_count": 28
        }, 
        {
            "source": "### Assign a cluster based on the recommendations using the k-means clustering algorithm from Scikit Learn", 
            "cell_type": "markdown", 
            "metadata": {}
        }, 
        {
            "source": "# import k-means\nfrom sklearn.cluster import KMeans\n\ndf_clustering = df_onehot.drop('Suburb',axis=1)\n\n# set number of clusters\nk = 5\n\n# run k-means clustering\nkmeans = KMeans(n_clusters=k, random_state=0).fit(df_clustering)\n\n# check cluster labels generated for each row in the dataframe\nkmeans.labels_[0:100]", 
            "cell_type": "code", 
            "metadata": {}, 
            "outputs": [
                {
                    "output_type": "execute_result", 
                    "data": {
                        "text/plain": "array([0, 3, 4, 4, 3, 4, 3, 1, 3, 3, 2, 3, 4, 3, 3, 1, 3, 3, 1, 1, 2, 4, 3,\n       4, 3, 3, 3, 3, 2, 1, 1, 2, 2, 3, 2, 1, 1, 1, 1, 1, 2, 1, 1, 3, 1, 3,\n       3, 1, 1, 1, 2, 2, 1, 1, 3, 1, 1, 1, 1, 1, 3, 3, 3, 3, 4, 0, 0, 0, 3,\n       0, 0, 1, 1, 3, 3, 4, 4, 1, 4, 4, 3, 3, 3, 3, 2, 0, 0, 1, 4, 2, 2, 3,\n       3, 2, 3, 3, 3, 1, 1, 3], dtype=int32)"
                    }, 
                    "execution_count": 29, 
                    "metadata": {}
                }
            ], 
            "execution_count": 29
        }, 
        {
            "source": "df_topvenues.insert(0,'Venues Cluster',kmeans.labels_)", 
            "cell_type": "code", 
            "metadata": {}, 
            "outputs": [], 
            "execution_count": 30
        }, 
        {
            "source": "df_topvenues[df_topvenues['Venues Cluster']==2]", 
            "cell_type": "code", 
            "metadata": {}, 
            "outputs": [
                {
                    "output_type": "execute_result", 
                    "data": {
                        "text/plain": "     Venues Cluster              Suburb                     #1  \\\n10                2      ALTONA MEADOWS   Fast Food Restaurant   \n20                2   ASPENDALE GARDENS                   Caf\u00e9   \n28                2           BANGHOLME   Fast Food Restaurant   \n31                2           BAYSWATER   Fast Food Restaurant   \n32                2     BAYSWATER NORTH       Malay Restaurant   \n34                2        BEDFORD ROAD                   Caf\u00e9   \n40                2      BELVEDERE PARK                  Beach   \n50                2            BONBEACH                   Caf\u00e9   \n51                2             BORONIA          Grocery Store   \n84                2       CAMPBELLFIELD   Fast Food Restaurant   \n89                2              CARRUM                  Beach   \n90                2        CARRUM DOWNS   Fast Food Restaurant   \n93                2  CAULFIELD JUNCTION                   Caf\u00e9   \n100               2             CHELSEA                   Caf\u00e9   \n101               2     CHELSEA HEIGHTS   Fast Food Restaurant   \n104               2      CHIRNSIDE PARK                   Caf\u00e9   \n105               2            CLARINDA  Vietnamese Restaurant   \n106               2             CLAYTON                   Caf\u00e9   \n107               2       CLAYTON SOUTH  Vietnamese Restaurant   \n112               2             COCOROC                   Caf\u00e9   \n118               2       CROYDON HILLS                   Caf\u00e9   \n120               2       CROYDON SOUTH   Fast Food Restaurant   \n123               2      DANDENONG EAST                  Beach   \n125               2     DANDENONG SOUTH                   Caf\u00e9   \n134               2     DINGLEY VILLAGE  Vietnamese Restaurant   \n138               2      DONCASTER EAST                   Caf\u00e9   \n140               2          DONNYBROOK   Fast Food Restaurant   \n163               2           FRANKSTON                  Beach   \n164               2      FRANKSTON EAST            Supermarket   \n165               2   FRANKSTON HEIGHTS                   Caf\u00e9   \n..              ...                 ...                    ...   \n293               2            NUTFIELD                   Caf\u00e9   \n294               2            OAK PARK   Fast Food Restaurant   \n305               2     PATTERSON LAKES   Fast Food Restaurant   \n306               2        PINES FOREST                   Caf\u00e9   \n309               2          POINT COOK            Supermarket   \n318               2            QUANDONG            Supermarket   \n319               2           RANGEVIEW   Fast Food Restaurant   \n329               2       RINGWOOD EAST                   Caf\u00e9   \n334               2            ROWVILLE   Fast Food Restaurant   \n339               2            SCORESBY          Grocery Store   \n340               2            SEABROOK            Supermarket   \n341               2             SEAFORD                  Beach   \n346               2             SEVILLE                   Farm   \n347               2        SEVILLE EAST                   Farm   \n368               2             TARNEIT            Supermarket   \n375               2          THOMASTOWN   Fast Food Restaurant   \n379               2           TRUGANINA   Fast Food Restaurant   \n384               2             VERMONT                   Caf\u00e9   \n385               2       VERMONT SOUTH                   Caf\u00e9   \n388               2        WANDIN NORTH          Grocery Store   \n389               2            WANTIRNA                   Caf\u00e9   \n390               2      WANTIRNA SOUTH   Fast Food Restaurant   \n392               2    WARRANDYTE SOUTH                   Caf\u00e9   \n393               2          WARRANWOOD   Fast Food Restaurant   \n401               2            WERRIBEE            Supermarket   \n402               2      WERRIBEE SOUTH            Supermarket   \n406               2       WHEELERS HILL   Fast Food Restaurant   \n410               2          WONGA PARK                   Caf\u00e9   \n413               2        WYNDHAM VALE            Supermarket   \n418               2           YELLINGBO                   Farm   \n\n                        #2                    #3                         #4  \\\n10             Supermarket                  Caf\u00e9      Portuguese Restaurant   \n20                   Beach         Grocery Store                Supermarket   \n28             Supermarket                  Caf\u00e9              Grocery Store   \n31        Malay Restaurant      Department Store              Shopping Mall   \n32    Fast Food Restaurant         Grocery Store                Golf Course   \n34           Shopping Mall         Grocery Store           Malay Restaurant   \n40                    Caf\u00e9           Supermarket       Fast Food Restaurant   \n50    Fast Food Restaurant           Supermarket                      Beach   \n51                    Caf\u00e9      Malay Restaurant                        Gym   \n84           Grocery Store                  Caf\u00e9  Middle Eastern Restaurant   \n89             Supermarket                  Caf\u00e9              Grocery Store   \n90                    Caf\u00e9           Supermarket           Department Store   \n93             Supermarket        Sandwich Place              Shopping Mall   \n100                  Beach  Fast Food Restaurant              Grocery Store   \n101                   Caf\u00e9                 Beach                Supermarket   \n104   Fast Food Restaurant         Grocery Store                   Vineyard   \n105                   Caf\u00e9        Sandwich Place                Supermarket   \n106  Vietnamese Restaurant  Fast Food Restaurant                Supermarket   \n107         Sandwich Place                  Caf\u00e9              Grocery Store   \n112         Sandwich Place          Burger Joint       Fast Food Restaurant   \n118   Fast Food Restaurant         Grocery Store                Supermarket   \n120          Grocery Store           Supermarket                Coffee Shop   \n123            Supermarket                  Caf\u00e9                Gas Station   \n125   Fast Food Restaurant         Grocery Store        Fried Chicken Joint   \n134                   Caf\u00e9           Supermarket       Fast Food Restaurant   \n138   Fast Food Restaurant           Supermarket        Japanese Restaurant   \n140                   Caf\u00e9         Shopping Mall                Supermarket   \n163                   Caf\u00e9  Fast Food Restaurant                Supermarket   \n164                   Caf\u00e9  Fast Food Restaurant                Gas Station   \n165                  Beach  Fast Food Restaurant                Supermarket   \n..                     ...                   ...                        ...   \n293            Supermarket  Fast Food Restaurant          Convenience Store   \n294                   Caf\u00e9     Convenience Store                Supermarket   \n305            Supermarket                  Caf\u00e9                      Beach   \n306                  Beach           Supermarket                Gas Station   \n309                   Caf\u00e9  Fast Food Restaurant             Sandwich Place   \n318                   Caf\u00e9     Convenience Store     Furniture / Home Store   \n319                   Caf\u00e9   Japanese Restaurant                       Park   \n329          Shopping Mall   Japanese Restaurant                Coffee Shop   \n334                   Caf\u00e9           Supermarket          Convenience Store   \n339      Convenience Store                  Caf\u00e9           Malay Restaurant   \n340   Fast Food Restaurant                  Caf\u00e9           Department Store   \n341                   Caf\u00e9  Fast Food Restaurant                Supermarket   \n346               Vineyard         Grocery Store             Breakfast Spot   \n347               Vineyard           Pizza Place                       Park   \n368                   Caf\u00e9         Shopping Mall           Department Store   \n375            Supermarket                  Caf\u00e9              Grocery Store   \n379            Supermarket         Grocery Store      Portuguese Restaurant   \n384            Supermarket        Sandwich Place              Shopping Mall   \n385                    Gym         Shopping Mall         Chinese Restaurant   \n388   Fast Food Restaurant              Vineyard                       Caf\u00e9   \n389   Fast Food Restaurant           Supermarket           Malay Restaurant   \n390                   Caf\u00e9        Sandwich Place           Malay Restaurant   \n392   Fast Food Restaurant         Grocery Store                Supermarket   \n393                   Caf\u00e9         Grocery Store                Supermarket   \n401                   Caf\u00e9        Sandwich Place       Fast Food Restaurant   \n402                   Caf\u00e9        Sandwich Place       Fast Food Restaurant   \n406                   Caf\u00e9           Supermarket           Malay Restaurant   \n410   Fast Food Restaurant         Grocery Store                Supermarket   \n413                   Caf\u00e9  Fast Food Restaurant             Sandwich Place   \n418               Vineyard        Farmers Market                       Park   \n\n                        #5                     #6                     #7  \\\n10          Sandwich Place                    Bar                    Gym   \n20    Fast Food Restaurant            Golf Course          Train Station   \n28                   Beach  Portuguese Restaurant      Convenience Store   \n31                     Gym          Grocery Store            Golf Course   \n32     Japanese Restaurant          Shopping Mall     Athletics & Sports   \n34     Japanese Restaurant            Coffee Shop          Movie Theater   \n40       Convenience Store       Department Store            Gas Station   \n50           Grocery Store  Portuguese Restaurant      Convenience Store   \n51       Convenience Store   Fast Food Restaurant            Supermarket   \n84           Shopping Mall            Supermarket                    Gym   \n89   Portuguese Restaurant      Convenience Store   Fast Food Restaurant   \n90       Convenience Store         Sandwich Place          Shopping Mall   \n93           Grocery Store   Fast Food Restaurant  Portuguese Restaurant   \n100            Supermarket          Train Station            Golf Course   \n101          Grocery Store          Train Station      Convenience Store   \n104      Convenience Store                Brewery                 Winery   \n105          Grocery Store          Shopping Mall                 Bakery   \n106          Shopping Mall       Malay Restaurant         Sandwich Place   \n107                 Bakery   Fast Food Restaurant          Shopping Mall   \n112          Grocery Store                    Pub             Restaurant   \n118      Convenience Store          Movie Theater    Japanese Restaurant   \n120                   Caf\u00e9    Japanese Restaurant          Movie Theater   \n123      Convenience Store   Fast Food Restaurant       Department Store   \n125            Supermarket         Sandwich Place      Convenience Store   \n134  Portuguese Restaurant          Grocery Store         Sandwich Place   \n138            Coffee Shop          Shopping Mall         Sandwich Place   \n140          Train Station                Brewery           Liquor Store   \n163            Gas Station      Convenience Store       Department Store   \n164                  Beach       Department Store      Convenience Store   \n165      Convenience Store          Grocery Store       Department Store   \n..                     ...                    ...                    ...   \n293          Grocery Store                    Pub            Flea Market   \n294          Train Station         Sandwich Place          Grocery Store   \n305          Grocery Store      Convenience Store       Department Store   \n306      Convenience Store          Grocery Store       Department Store   \n309       Department Store                    Bar      Convenience Store   \n318          Shopping Mall            Golf Course          Grocery Store   \n319            Coffee Shop            Supermarket      Indian Restaurant   \n329            Supermarket       Malay Restaurant     Mexican Restaurant   \n334                   Park                    Pub          Grocery Store   \n339            Supermarket                    Gym         Sandwich Place   \n340          Grocery Store                    Gym      Convenience Store   \n341       Department Store            Gas Station          Grocery Store   \n346   Fast Food Restaurant                   Caf\u00e9         Sandwich Place   \n347          Shopping Mall                  Trail         Farmers Market   \n368         Sandwich Place     Athletics & Sports                    Gym   \n375         Sandwich Place          Shopping Mall                    Gym   \n379         Sandwich Place                   Caf\u00e9       Department Store   \n384    Japanese Restaurant   Fast Food Restaurant   Gym / Fitness Center   \n385    Japanese Restaurant            Pizza Place   Fast Food Restaurant   \n388                 Winery      Convenience Store                 Garden   \n389          Grocery Store          Shopping Mall         Sandwich Place   \n390            Supermarket                    Gym          Shopping Mall   \n392            Coffee Shop                    Bar          Movie Theater   \n393            Coffee Shop          Movie Theater                    Bar   \n401      Convenience Store       Department Store          Grocery Store   \n402      Convenience Store       Department Store          Grocery Store   \n406  Portuguese Restaurant                   Park         Sandwich Place   \n410  Portuguese Restaurant                    Bar      Convenience Store   \n413      Convenience Store            Pizza Place       Department Store   \n418                    Bar            Supermarket          Grocery Store   \n\n                        #8                     #9                    #10  \n10           Grocery Store            Pizza Place      Electronics Store  \n20       Convenience Store                    Pub           Liquor Store  \n28          Sandwich Place          Train Station            Golf Course  \n31                    Caf\u00e9            Coffee Shop    Japanese Restaurant  \n32        Department Store            Supermarket            Coffee Shop  \n34                     Pub   Fast Food Restaurant            Supermarket  \n40           Grocery Store         Sandwich Place          Shopping Mall  \n50          Sandwich Place            Gas Station            Pizza Place  \n51           Shopping Mall         Sandwich Place           Burger Joint  \n84       Convenience Store         Sandwich Place      Electronics Store  \n89          Sandwich Place      Electronics Store            Gas Station  \n90             Gas Station      Electronics Store          Grocery Store  \n93       Convenience Store      Electronics Store    Fried Chicken Joint  \n100            Gas Station      Convenience Store                   Park  \n101  Portuguese Restaurant            Gas Station                   Park  \n104            Supermarket             Restaurant            Golf Course  \n105      Convenience Store  Indonesian Restaurant           Burger Joint  \n106       Greek Restaurant          Grocery Store                 Bakery  \n107            Supermarket       Malay Restaurant  Indonesian Restaurant  \n112  Performing Arts Venue      Convenience Store                Exhibit  \n118      Electronics Store                 Garden            Golf Course  \n120            Golf Course       Malay Restaurant      Convenience Store  \n123          Shopping Mall           Burger Joint          Grocery Store  \n125  Portuguese Restaurant       Department Store      Electronics Store  \n134                 Bakery            Coffee Shop     Chinese Restaurant  \n138      Indian Restaurant       Asian Restaurant      Electronics Store  \n140           Dessert Shop                  Diner         Sandwich Place  \n163           Burger Joint          Grocery Store         Sandwich Place  \n164          Grocery Store          Shopping Mall         Sandwich Place  \n165            Gas Station         Sandwich Place           Burger Joint  \n..                     ...                    ...                    ...  \n293          Shopping Mall          Train Station            Pizza Place  \n294          Shopping Mall  Portuguese Restaurant      Electronics Store  \n305            Gas Station  Portuguese Restaurant          Train Station  \n306   Fast Food Restaurant         Sandwich Place          Shopping Mall  \n309                    Gym     Italian Restaurant            Pizza Place  \n318          Train Station   Fast Food Restaurant         Sandwich Place  \n319          Grocery Store      Electronics Store          Shopping Mall  \n329          Movie Theater   Fast Food Restaurant   Gym / Fitness Center  \n334  Portuguese Restaurant            Golf Course    Fried Chicken Joint  \n339           Burger Joint          Shopping Mall   Fast Food Restaurant  \n340                    Bar         Sandwich Place            Pizza Place  \n341      Convenience Store            Pizza Place         Sandwich Place  \n346                 Winery             Restaurant                  Trail  \n347         Sandwich Place            Gas Station                   Caf\u00e9  \n368   Fast Food Restaurant               Pharmacy            Pizza Place  \n375            Coffee Shop      Electronics Store  Portuguese Restaurant  \n379            Pizza Place            Gas Station               Pharmacy  \n384                    Gym      Convenience Store      Electronics Store  \n385        Thai Restaurant          Grocery Store            Supermarket  \n388                   Farm             Restaurant                    Pub  \n389      Convenience Store            Coffee Shop  Portuguese Restaurant  \n390          Grocery Store  Portuguese Restaurant      Convenience Store  \n392       Department Store          Big Box Store          Shopping Mall  \n393      Convenience Store    Japanese Restaurant       Department Store  \n401             Restaurant          Shopping Mall  Portuguese Restaurant  \n402             Restaurant          Shopping Mall  Portuguese Restaurant  \n406     Chinese Restaurant      Convenience Store      Electronics Store  \n410            Coffee Shop         Sandwich Place          Movie Theater  \n413          Grocery Store                    Gym  Portuguese Restaurant  \n418                    Gym                  Trail          Shopping Mall  \n\n[91 rows x 12 columns]", 
                        "text/html": "<div>\n<style scoped>\n    .dataframe tbody tr th:only-of-type {\n        vertical-align: middle;\n    }\n\n    .dataframe tbody tr th {\n        vertical-align: top;\n    }\n\n    .dataframe thead th {\n        text-align: right;\n    }\n</style>\n<table border=\"1\" class=\"dataframe\">\n  <thead>\n    <tr style=\"text-align: right;\">\n      <th></th>\n      <th>Venues Cluster</th>\n      <th>Suburb</th>\n      <th>#1</th>\n      <th>#2</th>\n      <th>#3</th>\n      <th>#4</th>\n      <th>#5</th>\n      <th>#6</th>\n      <th>#7</th>\n      <th>#8</th>\n      <th>#9</th>\n      <th>#10</th>\n    </tr>\n  </thead>\n  <tbody>\n    <tr>\n      <th>10</th>\n      <td>2</td>\n      <td>ALTONA MEADOWS</td>\n      <td>Fast Food Restaurant</td>\n      <td>Supermarket</td>\n      <td>Caf\u00e9</td>\n      <td>Portuguese Restaurant</td>\n      <td>Sandwich Place</td>\n      <td>Bar</td>\n      <td>Gym</td>\n      <td>Grocery Store</td>\n      <td>Pizza Place</td>\n      <td>Electronics Store</td>\n    </tr>\n    <tr>\n      <th>20</th>\n      <td>2</td>\n      <td>ASPENDALE GARDENS</td>\n      <td>Caf\u00e9</td>\n      <td>Beach</td>\n      <td>Grocery Store</td>\n      <td>Supermarket</td>\n      <td>Fast Food Restaurant</td>\n      <td>Golf Course</td>\n      <td>Train Station</td>\n      <td>Convenience Store</td>\n      <td>Pub</td>\n      <td>Liquor Store</td>\n    </tr>\n    <tr>\n      <th>28</th>\n      <td>2</td>\n      <td>BANGHOLME</td>\n      <td>Fast Food Restaurant</td>\n      <td>Supermarket</td>\n      <td>Caf\u00e9</td>\n      <td>Grocery Store</td>\n      <td>Beach</td>\n      <td>Portuguese Restaurant</td>\n      <td>Convenience Store</td>\n      <td>Sandwich Place</td>\n      <td>Train Station</td>\n      <td>Golf Course</td>\n    </tr>\n    <tr>\n      <th>31</th>\n      <td>2</td>\n      <td>BAYSWATER</td>\n      <td>Fast Food Restaurant</td>\n      <td>Malay Restaurant</td>\n      <td>Department Store</td>\n      <td>Shopping Mall</td>\n      <td>Gym</td>\n      <td>Grocery Store</td>\n      <td>Golf Course</td>\n      <td>Caf\u00e9</td>\n      <td>Coffee Shop</td>\n      <td>Japanese Restaurant</td>\n    </tr>\n    <tr>\n      <th>32</th>\n      <td>2</td>\n      <td>BAYSWATER NORTH</td>\n      <td>Malay Restaurant</td>\n      <td>Fast Food Restaurant</td>\n      <td>Grocery Store</td>\n      <td>Golf Course</td>\n      <td>Japanese Restaurant</td>\n      <td>Shopping Mall</td>\n      <td>Athletics &amp; Sports</td>\n      <td>Department Store</td>\n      <td>Supermarket</td>\n      <td>Coffee Shop</td>\n    </tr>\n    <tr>\n      <th>34</th>\n      <td>2</td>\n      <td>BEDFORD ROAD</td>\n      <td>Caf\u00e9</td>\n      <td>Shopping Mall</td>\n      <td>Grocery Store</td>\n      <td>Malay Restaurant</td>\n      <td>Japanese Restaurant</td>\n      <td>Coffee Shop</td>\n      <td>Movie Theater</td>\n      <td>Pub</td>\n      <td>Fast Food Restaurant</td>\n      <td>Supermarket</td>\n    </tr>\n    <tr>\n      <th>40</th>\n      <td>2</td>\n      <td>BELVEDERE PARK</td>\n      <td>Beach</td>\n      <td>Caf\u00e9</td>\n      <td>Supermarket</td>\n      <td>Fast Food Restaurant</td>\n      <td>Convenience Store</td>\n      <td>Department Store</td>\n      <td>Gas Station</td>\n      <td>Grocery Store</td>\n      <td>Sandwich Place</td>\n      <td>Shopping Mall</td>\n    </tr>\n    <tr>\n      <th>50</th>\n      <td>2</td>\n      <td>BONBEACH</td>\n      <td>Caf\u00e9</td>\n      <td>Fast Food Restaurant</td>\n      <td>Supermarket</td>\n      <td>Beach</td>\n      <td>Grocery Store</td>\n      <td>Portuguese Restaurant</td>\n      <td>Convenience Store</td>\n      <td>Sandwich Place</td>\n      <td>Gas Station</td>\n      <td>Pizza Place</td>\n    </tr>\n    <tr>\n      <th>51</th>\n      <td>2</td>\n      <td>BORONIA</td>\n      <td>Grocery Store</td>\n      <td>Caf\u00e9</td>\n      <td>Malay Restaurant</td>\n      <td>Gym</td>\n      <td>Convenience Store</td>\n      <td>Fast Food Restaurant</td>\n      <td>Supermarket</td>\n      <td>Shopping Mall</td>\n      <td>Sandwich Place</td>\n      <td>Burger Joint</td>\n    </tr>\n    <tr>\n      <th>84</th>\n      <td>2</td>\n      <td>CAMPBELLFIELD</td>\n      <td>Fast Food Restaurant</td>\n      <td>Grocery Store</td>\n      <td>Caf\u00e9</td>\n      <td>Middle Eastern Restaurant</td>\n      <td>Shopping Mall</td>\n      <td>Supermarket</td>\n      <td>Gym</td>\n      <td>Convenience Store</td>\n      <td>Sandwich Place</td>\n      <td>Electronics Store</td>\n    </tr>\n    <tr>\n      <th>89</th>\n      <td>2</td>\n      <td>CARRUM</td>\n      <td>Beach</td>\n      <td>Supermarket</td>\n      <td>Caf\u00e9</td>\n      <td>Grocery Store</td>\n      <td>Portuguese Restaurant</td>\n      <td>Convenience Store</td>\n      <td>Fast Food Restaurant</td>\n      <td>Sandwich Place</td>\n      <td>Electronics Store</td>\n      <td>Gas Station</td>\n    </tr>\n    <tr>\n      <th>90</th>\n      <td>2</td>\n      <td>CARRUM DOWNS</td>\n      <td>Fast Food Restaurant</td>\n      <td>Caf\u00e9</td>\n      <td>Supermarket</td>\n      <td>Department Store</td>\n      <td>Convenience Store</td>\n      <td>Sandwich Place</td>\n      <td>Shopping Mall</td>\n      <td>Gas Station</td>\n      <td>Electronics Store</td>\n      <td>Grocery Store</td>\n    </tr>\n    <tr>\n      <th>93</th>\n      <td>2</td>\n      <td>CAULFIELD JUNCTION</td>\n      <td>Caf\u00e9</td>\n      <td>Supermarket</td>\n      <td>Sandwich Place</td>\n      <td>Shopping Mall</td>\n      <td>Grocery Store</td>\n      <td>Fast Food Restaurant</td>\n      <td>Portuguese Restaurant</td>\n      <td>Convenience Store</td>\n      <td>Electronics Store</td>\n      <td>Fried Chicken Joint</td>\n    </tr>\n    <tr>\n      <th>100</th>\n      <td>2</td>\n      <td>CHELSEA</td>\n      <td>Caf\u00e9</td>\n      <td>Beach</td>\n      <td>Fast Food Restaurant</td>\n      <td>Grocery Store</td>\n      <td>Supermarket</td>\n      <td>Train Station</td>\n      <td>Golf Course</td>\n      <td>Gas Station</td>\n      <td>Convenience Store</td>\n      <td>Park</td>\n    </tr>\n    <tr>\n      <th>101</th>\n      <td>2</td>\n      <td>CHELSEA HEIGHTS</td>\n      <td>Fast Food Restaurant</td>\n      <td>Caf\u00e9</td>\n      <td>Beach</td>\n      <td>Supermarket</td>\n      <td>Grocery Store</td>\n      <td>Train Station</td>\n      <td>Convenience Store</td>\n      <td>Portuguese Restaurant</td>\n      <td>Gas Station</td>\n      <td>Park</td>\n    </tr>\n    <tr>\n      <th>104</th>\n      <td>2</td>\n      <td>CHIRNSIDE PARK</td>\n      <td>Caf\u00e9</td>\n      <td>Fast Food Restaurant</td>\n      <td>Grocery Store</td>\n      <td>Vineyard</td>\n      <td>Convenience Store</td>\n      <td>Brewery</td>\n      <td>Winery</td>\n      <td>Supermarket</td>\n      <td>Restaurant</td>\n      <td>Golf Course</td>\n    </tr>\n    <tr>\n      <th>105</th>\n      <td>2</td>\n      <td>CLARINDA</td>\n      <td>Vietnamese Restaurant</td>\n      <td>Caf\u00e9</td>\n      <td>Sandwich Place</td>\n      <td>Supermarket</td>\n      <td>Grocery Store</td>\n      <td>Shopping Mall</td>\n      <td>Bakery</td>\n      <td>Convenience Store</td>\n      <td>Indonesian Restaurant</td>\n      <td>Burger Joint</td>\n    </tr>\n    <tr>\n      <th>106</th>\n      <td>2</td>\n      <td>CLAYTON</td>\n      <td>Caf\u00e9</td>\n      <td>Vietnamese Restaurant</td>\n      <td>Fast Food Restaurant</td>\n      <td>Supermarket</td>\n      <td>Shopping Mall</td>\n      <td>Malay Restaurant</td>\n      <td>Sandwich Place</td>\n      <td>Greek Restaurant</td>\n      <td>Grocery Store</td>\n      <td>Bakery</td>\n    </tr>\n    <tr>\n      <th>107</th>\n      <td>2</td>\n      <td>CLAYTON SOUTH</td>\n      <td>Vietnamese Restaurant</td>\n      <td>Sandwich Place</td>\n      <td>Caf\u00e9</td>\n      <td>Grocery Store</td>\n      <td>Bakery</td>\n      <td>Fast Food Restaurant</td>\n      <td>Shopping Mall</td>\n      <td>Supermarket</td>\n      <td>Malay Restaurant</td>\n      <td>Indonesian Restaurant</td>\n    </tr>\n    <tr>\n      <th>112</th>\n      <td>2</td>\n      <td>COCOROC</td>\n      <td>Caf\u00e9</td>\n      <td>Sandwich Place</td>\n      <td>Burger Joint</td>\n      <td>Fast Food Restaurant</td>\n      <td>Grocery Store</td>\n      <td>Pub</td>\n      <td>Restaurant</td>\n      <td>Performing Arts Venue</td>\n      <td>Convenience Store</td>\n      <td>Exhibit</td>\n    </tr>\n    <tr>\n      <th>118</th>\n      <td>2</td>\n      <td>CROYDON HILLS</td>\n      <td>Caf\u00e9</td>\n      <td>Fast Food Restaurant</td>\n      <td>Grocery Store</td>\n      <td>Supermarket</td>\n      <td>Convenience Store</td>\n      <td>Movie Theater</td>\n      <td>Japanese Restaurant</td>\n      <td>Electronics Store</td>\n      <td>Garden</td>\n      <td>Golf Course</td>\n    </tr>\n    <tr>\n      <th>120</th>\n      <td>2</td>\n      <td>CROYDON SOUTH</td>\n      <td>Fast Food Restaurant</td>\n      <td>Grocery Store</td>\n      <td>Supermarket</td>\n      <td>Coffee Shop</td>\n      <td>Caf\u00e9</td>\n      <td>Japanese Restaurant</td>\n      <td>Movie Theater</td>\n      <td>Golf Course</td>\n      <td>Malay Restaurant</td>\n      <td>Convenience Store</td>\n    </tr>\n    <tr>\n      <th>123</th>\n      <td>2</td>\n      <td>DANDENONG EAST</td>\n      <td>Beach</td>\n      <td>Supermarket</td>\n      <td>Caf\u00e9</td>\n      <td>Gas Station</td>\n      <td>Convenience Store</td>\n      <td>Fast Food Restaurant</td>\n      <td>Department Store</td>\n      <td>Shopping Mall</td>\n      <td>Burger Joint</td>\n      <td>Grocery Store</td>\n    </tr>\n    <tr>\n      <th>125</th>\n      <td>2</td>\n      <td>DANDENONG SOUTH</td>\n      <td>Caf\u00e9</td>\n      <td>Fast Food Restaurant</td>\n      <td>Grocery Store</td>\n      <td>Fried Chicken Joint</td>\n      <td>Supermarket</td>\n      <td>Sandwich Place</td>\n      <td>Convenience Store</td>\n      <td>Portuguese Restaurant</td>\n      <td>Department Store</td>\n      <td>Electronics Store</td>\n    </tr>\n    <tr>\n      <th>134</th>\n      <td>2</td>\n      <td>DINGLEY VILLAGE</td>\n      <td>Vietnamese Restaurant</td>\n      <td>Caf\u00e9</td>\n      <td>Supermarket</td>\n      <td>Fast Food Restaurant</td>\n      <td>Portuguese Restaurant</td>\n      <td>Grocery Store</td>\n      <td>Sandwich Place</td>\n      <td>Bakery</td>\n      <td>Coffee Shop</td>\n      <td>Chinese Restaurant</td>\n    </tr>\n    <tr>\n      <th>138</th>\n      <td>2</td>\n      <td>DONCASTER EAST</td>\n      <td>Caf\u00e9</td>\n      <td>Fast Food Restaurant</td>\n      <td>Supermarket</td>\n      <td>Japanese Restaurant</td>\n      <td>Coffee Shop</td>\n      <td>Shopping Mall</td>\n      <td>Sandwich Place</td>\n      <td>Indian Restaurant</td>\n      <td>Asian Restaurant</td>\n      <td>Electronics Store</td>\n    </tr>\n    <tr>\n      <th>140</th>\n      <td>2</td>\n      <td>DONNYBROOK</td>\n      <td>Fast Food Restaurant</td>\n      <td>Caf\u00e9</td>\n      <td>Shopping Mall</td>\n      <td>Supermarket</td>\n      <td>Train Station</td>\n      <td>Brewery</td>\n      <td>Liquor Store</td>\n      <td>Dessert Shop</td>\n      <td>Diner</td>\n      <td>Sandwich Place</td>\n    </tr>\n    <tr>\n      <th>163</th>\n      <td>2</td>\n      <td>FRANKSTON</td>\n      <td>Beach</td>\n      <td>Caf\u00e9</td>\n      <td>Fast Food Restaurant</td>\n      <td>Supermarket</td>\n      <td>Gas Station</td>\n      <td>Convenience Store</td>\n      <td>Department Store</td>\n      <td>Burger Joint</td>\n      <td>Grocery Store</td>\n      <td>Sandwich Place</td>\n    </tr>\n    <tr>\n      <th>164</th>\n      <td>2</td>\n      <td>FRANKSTON EAST</td>\n      <td>Supermarket</td>\n      <td>Caf\u00e9</td>\n      <td>Fast Food Restaurant</td>\n      <td>Gas Station</td>\n      <td>Beach</td>\n      <td>Department Store</td>\n      <td>Convenience Store</td>\n      <td>Grocery Store</td>\n      <td>Shopping Mall</td>\n      <td>Sandwich Place</td>\n    </tr>\n    <tr>\n      <th>165</th>\n      <td>2</td>\n      <td>FRANKSTON HEIGHTS</td>\n      <td>Caf\u00e9</td>\n      <td>Beach</td>\n      <td>Fast Food Restaurant</td>\n      <td>Supermarket</td>\n      <td>Convenience Store</td>\n      <td>Grocery Store</td>\n      <td>Department Store</td>\n      <td>Gas Station</td>\n      <td>Sandwich Place</td>\n      <td>Burger Joint</td>\n    </tr>\n    <tr>\n      <th>...</th>\n      <td>...</td>\n      <td>...</td>\n      <td>...</td>\n      <td>...</td>\n      <td>...</td>\n      <td>...</td>\n      <td>...</td>\n      <td>...</td>\n      <td>...</td>\n      <td>...</td>\n      <td>...</td>\n      <td>...</td>\n    </tr>\n    <tr>\n      <th>293</th>\n      <td>2</td>\n      <td>NUTFIELD</td>\n      <td>Caf\u00e9</td>\n      <td>Supermarket</td>\n      <td>Fast Food Restaurant</td>\n      <td>Convenience Store</td>\n      <td>Grocery Store</td>\n      <td>Pub</td>\n      <td>Flea Market</td>\n      <td>Shopping Mall</td>\n      <td>Train Station</td>\n      <td>Pizza Place</td>\n    </tr>\n    <tr>\n      <th>294</th>\n      <td>2</td>\n      <td>OAK PARK</td>\n      <td>Fast Food Restaurant</td>\n      <td>Caf\u00e9</td>\n      <td>Convenience Store</td>\n      <td>Supermarket</td>\n      <td>Train Station</td>\n      <td>Sandwich Place</td>\n      <td>Grocery Store</td>\n      <td>Shopping Mall</td>\n      <td>Portuguese Restaurant</td>\n      <td>Electronics Store</td>\n    </tr>\n    <tr>\n      <th>305</th>\n      <td>2</td>\n      <td>PATTERSON LAKES</td>\n      <td>Fast Food Restaurant</td>\n      <td>Supermarket</td>\n      <td>Caf\u00e9</td>\n      <td>Beach</td>\n      <td>Grocery Store</td>\n      <td>Convenience Store</td>\n      <td>Department Store</td>\n      <td>Gas Station</td>\n      <td>Portuguese Restaurant</td>\n      <td>Train Station</td>\n    </tr>\n    <tr>\n      <th>306</th>\n      <td>2</td>\n      <td>PINES FOREST</td>\n      <td>Caf\u00e9</td>\n      <td>Beach</td>\n      <td>Supermarket</td>\n      <td>Gas Station</td>\n      <td>Convenience Store</td>\n      <td>Grocery Store</td>\n      <td>Department Store</td>\n      <td>Fast Food Restaurant</td>\n      <td>Sandwich Place</td>\n      <td>Shopping Mall</td>\n    </tr>\n    <tr>\n      <th>309</th>\n      <td>2</td>\n      <td>POINT COOK</td>\n      <td>Supermarket</td>\n      <td>Caf\u00e9</td>\n      <td>Fast Food Restaurant</td>\n      <td>Sandwich Place</td>\n      <td>Department Store</td>\n      <td>Bar</td>\n      <td>Convenience Store</td>\n      <td>Gym</td>\n      <td>Italian Restaurant</td>\n      <td>Pizza Place</td>\n    </tr>\n    <tr>\n      <th>318</th>\n      <td>2</td>\n      <td>QUANDONG</td>\n      <td>Supermarket</td>\n      <td>Caf\u00e9</td>\n      <td>Convenience Store</td>\n      <td>Furniture / Home Store</td>\n      <td>Shopping Mall</td>\n      <td>Golf Course</td>\n      <td>Grocery Store</td>\n      <td>Train Station</td>\n      <td>Fast Food Restaurant</td>\n      <td>Sandwich Place</td>\n    </tr>\n    <tr>\n      <th>319</th>\n      <td>2</td>\n      <td>RANGEVIEW</td>\n      <td>Fast Food Restaurant</td>\n      <td>Caf\u00e9</td>\n      <td>Japanese Restaurant</td>\n      <td>Park</td>\n      <td>Coffee Shop</td>\n      <td>Supermarket</td>\n      <td>Indian Restaurant</td>\n      <td>Grocery Store</td>\n      <td>Electronics Store</td>\n      <td>Shopping Mall</td>\n    </tr>\n    <tr>\n      <th>329</th>\n      <td>2</td>\n      <td>RINGWOOD EAST</td>\n      <td>Caf\u00e9</td>\n      <td>Shopping Mall</td>\n      <td>Japanese Restaurant</td>\n      <td>Coffee Shop</td>\n      <td>Supermarket</td>\n      <td>Malay Restaurant</td>\n      <td>Mexican Restaurant</td>\n      <td>Movie Theater</td>\n      <td>Fast Food Restaurant</td>\n      <td>Gym / Fitness Center</td>\n    </tr>\n    <tr>\n      <th>334</th>\n      <td>2</td>\n      <td>ROWVILLE</td>\n      <td>Fast Food Restaurant</td>\n      <td>Caf\u00e9</td>\n      <td>Supermarket</td>\n      <td>Convenience Store</td>\n      <td>Park</td>\n      <td>Pub</td>\n      <td>Grocery Store</td>\n      <td>Portuguese Restaurant</td>\n      <td>Golf Course</td>\n      <td>Fried Chicken Joint</td>\n    </tr>\n    <tr>\n      <th>339</th>\n      <td>2</td>\n      <td>SCORESBY</td>\n      <td>Grocery Store</td>\n      <td>Convenience Store</td>\n      <td>Caf\u00e9</td>\n      <td>Malay Restaurant</td>\n      <td>Supermarket</td>\n      <td>Gym</td>\n      <td>Sandwich Place</td>\n      <td>Burger Joint</td>\n      <td>Shopping Mall</td>\n      <td>Fast Food Restaurant</td>\n    </tr>\n    <tr>\n      <th>340</th>\n      <td>2</td>\n      <td>SEABROOK</td>\n      <td>Supermarket</td>\n      <td>Fast Food Restaurant</td>\n      <td>Caf\u00e9</td>\n      <td>Department Store</td>\n      <td>Grocery Store</td>\n      <td>Gym</td>\n      <td>Convenience Store</td>\n      <td>Bar</td>\n      <td>Sandwich Place</td>\n      <td>Pizza Place</td>\n    </tr>\n    <tr>\n      <th>341</th>\n      <td>2</td>\n      <td>SEAFORD</td>\n      <td>Beach</td>\n      <td>Caf\u00e9</td>\n      <td>Fast Food Restaurant</td>\n      <td>Supermarket</td>\n      <td>Department Store</td>\n      <td>Gas Station</td>\n      <td>Grocery Store</td>\n      <td>Convenience Store</td>\n      <td>Pizza Place</td>\n      <td>Sandwich Place</td>\n    </tr>\n    <tr>\n      <th>346</th>\n      <td>2</td>\n      <td>SEVILLE</td>\n      <td>Farm</td>\n      <td>Vineyard</td>\n      <td>Grocery Store</td>\n      <td>Breakfast Spot</td>\n      <td>Fast Food Restaurant</td>\n      <td>Caf\u00e9</td>\n      <td>Sandwich Place</td>\n      <td>Winery</td>\n      <td>Restaurant</td>\n      <td>Trail</td>\n    </tr>\n    <tr>\n      <th>347</th>\n      <td>2</td>\n      <td>SEVILLE EAST</td>\n      <td>Farm</td>\n      <td>Vineyard</td>\n      <td>Pizza Place</td>\n      <td>Park</td>\n      <td>Shopping Mall</td>\n      <td>Trail</td>\n      <td>Farmers Market</td>\n      <td>Sandwich Place</td>\n      <td>Gas Station</td>\n      <td>Caf\u00e9</td>\n    </tr>\n    <tr>\n      <th>368</th>\n      <td>2</td>\n      <td>TARNEIT</td>\n      <td>Supermarket</td>\n      <td>Caf\u00e9</td>\n      <td>Shopping Mall</td>\n      <td>Department Store</td>\n      <td>Sandwich Place</td>\n      <td>Athletics &amp; Sports</td>\n      <td>Gym</td>\n      <td>Fast Food Restaurant</td>\n      <td>Pharmacy</td>\n      <td>Pizza Place</td>\n    </tr>\n    <tr>\n      <th>375</th>\n      <td>2</td>\n      <td>THOMASTOWN</td>\n      <td>Fast Food Restaurant</td>\n      <td>Supermarket</td>\n      <td>Caf\u00e9</td>\n      <td>Grocery Store</td>\n      <td>Sandwich Place</td>\n      <td>Shopping Mall</td>\n      <td>Gym</td>\n      <td>Coffee Shop</td>\n      <td>Electronics Store</td>\n      <td>Portuguese Restaurant</td>\n    </tr>\n    <tr>\n      <th>379</th>\n      <td>2</td>\n      <td>TRUGANINA</td>\n      <td>Fast Food Restaurant</td>\n      <td>Supermarket</td>\n      <td>Grocery Store</td>\n      <td>Portuguese Restaurant</td>\n      <td>Sandwich Place</td>\n      <td>Caf\u00e9</td>\n      <td>Department Store</td>\n      <td>Pizza Place</td>\n      <td>Gas Station</td>\n      <td>Pharmacy</td>\n    </tr>\n    <tr>\n      <th>384</th>\n      <td>2</td>\n      <td>VERMONT</td>\n      <td>Caf\u00e9</td>\n      <td>Supermarket</td>\n      <td>Sandwich Place</td>\n      <td>Shopping Mall</td>\n      <td>Japanese Restaurant</td>\n      <td>Fast Food Restaurant</td>\n      <td>Gym / Fitness Center</td>\n      <td>Gym</td>\n      <td>Convenience Store</td>\n      <td>Electronics Store</td>\n    </tr>\n    <tr>\n      <th>385</th>\n      <td>2</td>\n      <td>VERMONT SOUTH</td>\n      <td>Caf\u00e9</td>\n      <td>Gym</td>\n      <td>Shopping Mall</td>\n      <td>Chinese Restaurant</td>\n      <td>Japanese Restaurant</td>\n      <td>Pizza Place</td>\n      <td>Fast Food Restaurant</td>\n      <td>Thai Restaurant</td>\n      <td>Grocery Store</td>\n      <td>Supermarket</td>\n    </tr>\n    <tr>\n      <th>388</th>\n      <td>2</td>\n      <td>WANDIN NORTH</td>\n      <td>Grocery Store</td>\n      <td>Fast Food Restaurant</td>\n      <td>Vineyard</td>\n      <td>Caf\u00e9</td>\n      <td>Winery</td>\n      <td>Convenience Store</td>\n      <td>Garden</td>\n      <td>Farm</td>\n      <td>Restaurant</td>\n      <td>Pub</td>\n    </tr>\n    <tr>\n      <th>389</th>\n      <td>2</td>\n      <td>WANTIRNA</td>\n      <td>Caf\u00e9</td>\n      <td>Fast Food Restaurant</td>\n      <td>Supermarket</td>\n      <td>Malay Restaurant</td>\n      <td>Grocery Store</td>\n      <td>Shopping Mall</td>\n      <td>Sandwich Place</td>\n      <td>Convenience Store</td>\n      <td>Coffee Shop</td>\n      <td>Portuguese Restaurant</td>\n    </tr>\n    <tr>\n      <th>390</th>\n      <td>2</td>\n      <td>WANTIRNA SOUTH</td>\n      <td>Fast Food Restaurant</td>\n      <td>Caf\u00e9</td>\n      <td>Sandwich Place</td>\n      <td>Malay Restaurant</td>\n      <td>Supermarket</td>\n      <td>Gym</td>\n      <td>Shopping Mall</td>\n      <td>Grocery Store</td>\n      <td>Portuguese Restaurant</td>\n      <td>Convenience Store</td>\n    </tr>\n    <tr>\n      <th>392</th>\n      <td>2</td>\n      <td>WARRANDYTE SOUTH</td>\n      <td>Caf\u00e9</td>\n      <td>Fast Food Restaurant</td>\n      <td>Grocery Store</td>\n      <td>Supermarket</td>\n      <td>Coffee Shop</td>\n      <td>Bar</td>\n      <td>Movie Theater</td>\n      <td>Department Store</td>\n      <td>Big Box Store</td>\n      <td>Shopping Mall</td>\n    </tr>\n    <tr>\n      <th>393</th>\n      <td>2</td>\n      <td>WARRANWOOD</td>\n      <td>Fast Food Restaurant</td>\n      <td>Caf\u00e9</td>\n      <td>Grocery Store</td>\n      <td>Supermarket</td>\n      <td>Coffee Shop</td>\n      <td>Movie Theater</td>\n      <td>Bar</td>\n      <td>Convenience Store</td>\n      <td>Japanese Restaurant</td>\n      <td>Department Store</td>\n    </tr>\n    <tr>\n      <th>401</th>\n      <td>2</td>\n      <td>WERRIBEE</td>\n      <td>Supermarket</td>\n      <td>Caf\u00e9</td>\n      <td>Sandwich Place</td>\n      <td>Fast Food Restaurant</td>\n      <td>Convenience Store</td>\n      <td>Department Store</td>\n      <td>Grocery Store</td>\n      <td>Restaurant</td>\n      <td>Shopping Mall</td>\n      <td>Portuguese Restaurant</td>\n    </tr>\n    <tr>\n      <th>402</th>\n      <td>2</td>\n      <td>WERRIBEE SOUTH</td>\n      <td>Supermarket</td>\n      <td>Caf\u00e9</td>\n      <td>Sandwich Place</td>\n      <td>Fast Food Restaurant</td>\n      <td>Convenience Store</td>\n      <td>Department Store</td>\n      <td>Grocery Store</td>\n      <td>Restaurant</td>\n      <td>Shopping Mall</td>\n      <td>Portuguese Restaurant</td>\n    </tr>\n    <tr>\n      <th>406</th>\n      <td>2</td>\n      <td>WHEELERS HILL</td>\n      <td>Fast Food Restaurant</td>\n      <td>Caf\u00e9</td>\n      <td>Supermarket</td>\n      <td>Malay Restaurant</td>\n      <td>Portuguese Restaurant</td>\n      <td>Park</td>\n      <td>Sandwich Place</td>\n      <td>Chinese Restaurant</td>\n      <td>Convenience Store</td>\n      <td>Electronics Store</td>\n    </tr>\n    <tr>\n      <th>410</th>\n      <td>2</td>\n      <td>WONGA PARK</td>\n      <td>Caf\u00e9</td>\n      <td>Fast Food Restaurant</td>\n      <td>Grocery Store</td>\n      <td>Supermarket</td>\n      <td>Portuguese Restaurant</td>\n      <td>Bar</td>\n      <td>Convenience Store</td>\n      <td>Coffee Shop</td>\n      <td>Sandwich Place</td>\n      <td>Movie Theater</td>\n    </tr>\n    <tr>\n      <th>413</th>\n      <td>2</td>\n      <td>WYNDHAM VALE</td>\n      <td>Supermarket</td>\n      <td>Caf\u00e9</td>\n      <td>Fast Food Restaurant</td>\n      <td>Sandwich Place</td>\n      <td>Convenience Store</td>\n      <td>Pizza Place</td>\n      <td>Department Store</td>\n      <td>Grocery Store</td>\n      <td>Gym</td>\n      <td>Portuguese Restaurant</td>\n    </tr>\n    <tr>\n      <th>418</th>\n      <td>2</td>\n      <td>YELLINGBO</td>\n      <td>Farm</td>\n      <td>Vineyard</td>\n      <td>Farmers Market</td>\n      <td>Park</td>\n      <td>Bar</td>\n      <td>Supermarket</td>\n      <td>Grocery Store</td>\n      <td>Gym</td>\n      <td>Trail</td>\n      <td>Shopping Mall</td>\n    </tr>\n  </tbody>\n</table>\n<p>91 rows \u00d7 12 columns</p>\n</div>"
                    }, 
                    "execution_count": 31, 
                    "metadata": {}
                }
            ], 
            "execution_count": 31
        }, 
        {
            "source": "df_topvenues[df_topvenues['Suburb']=='BRUNSWICK WEST']", 
            "cell_type": "code", 
            "metadata": {}, 
            "outputs": [
                {
                    "output_type": "execute_result", 
                    "data": {
                        "text/plain": "    Venues Cluster          Suburb    #1   #2                         #3  \\\n70               0  BRUNSWICK WEST  Caf\u00e9  Bar  Middle Eastern Restaurant   \n\n               #4           #5    #6               #7              #8  \\\n70  Grocery Store  Beer Garden  Park  Thai Restaurant  Ice Cream Shop   \n\n                   #9  #10  \n70  Indian Restaurant  Pub  ", 
                        "text/html": "<div>\n<style scoped>\n    .dataframe tbody tr th:only-of-type {\n        vertical-align: middle;\n    }\n\n    .dataframe tbody tr th {\n        vertical-align: top;\n    }\n\n    .dataframe thead th {\n        text-align: right;\n    }\n</style>\n<table border=\"1\" class=\"dataframe\">\n  <thead>\n    <tr style=\"text-align: right;\">\n      <th></th>\n      <th>Venues Cluster</th>\n      <th>Suburb</th>\n      <th>#1</th>\n      <th>#2</th>\n      <th>#3</th>\n      <th>#4</th>\n      <th>#5</th>\n      <th>#6</th>\n      <th>#7</th>\n      <th>#8</th>\n      <th>#9</th>\n      <th>#10</th>\n    </tr>\n  </thead>\n  <tbody>\n    <tr>\n      <th>70</th>\n      <td>0</td>\n      <td>BRUNSWICK WEST</td>\n      <td>Caf\u00e9</td>\n      <td>Bar</td>\n      <td>Middle Eastern Restaurant</td>\n      <td>Grocery Store</td>\n      <td>Beer Garden</td>\n      <td>Park</td>\n      <td>Thai Restaurant</td>\n      <td>Ice Cream Shop</td>\n      <td>Indian Restaurant</td>\n      <td>Pub</td>\n    </tr>\n  </tbody>\n</table>\n</div>"
                    }, 
                    "execution_count": 32, 
                    "metadata": {}
                }
            ], 
            "execution_count": 32
        }, 
        {
            "source": "df_merged = postcodes\n\ndf_merged = df_merged.join(df_topvenues.set_index('Suburb'), on='suburb')\n\n#drop rows with no clusters\ndf_melbourne_merged = df_merged.dropna(subset=['Venues Cluster'])\ndf_melbourne_merged.head()\n", 
            "cell_type": "code", 
            "metadata": {}, 
            "outputs": [
                {
                    "output_type": "execute_result", 
                    "data": {
                        "text/plain": "      postcode              suburb state        lat         lon  \\\n4901      3000           MELBOURNE   VIC -37.814563  144.970267   \n4902      3002      EAST MELBOURNE   VIC -37.816640  144.987811   \n4903      3003      WEST MELBOURNE   VIC -37.806255  144.941123   \n4904      3005  WORLD TRADE CENTRE   VIC -37.822262  144.954856   \n4905      3006           SOUTHBANK   VIC -37.823258  144.965926   \n\n      Venues Cluster           #1                     #2                  #3  \\\n4901             0.0  Coffee Shop           Cocktail Bar  Italian Restaurant   \n4902             0.0         Caf\u00e9  Vietnamese Restaurant      Cricket Ground   \n4903             0.0         Caf\u00e9      Korean Restaurant                 Bar   \n4904             0.0         Caf\u00e9    Japanese Restaurant         Coffee Shop   \n4905             0.0        Hotel                    Bar             Theater   \n\n                      #4                     #5                     #6  \\\n4901                Caf\u00e9                  Hotel       Asian Restaurant   \n4902                Park         Tennis Stadium                 Bakery   \n4903                 Pub                  Hotel         Sandwich Place   \n4904               Hotel                    Bar  Australian Restaurant   \n4905  Italian Restaurant  Performing Arts Venue                   Park   \n\n                                 #7            #8                #9  \\\n4901            Japanese Restaurant           Bar         BBQ Joint   \n4902  Vegetarian / Vegan Restaurant      Wine Bar  Football Stadium   \n4903                           Park    Restaurant      Burger Joint   \n4904             Italian Restaurant  Burger Joint        Steakhouse   \n4905                    Art Gallery         Plaza              Caf\u00e9   \n\n                     #10  \n4901           Bookstore  \n4902      Breakfast Spot  \n4903  Italian Restaurant  \n4904   French Restaurant  \n4905        Burger Joint  ", 
                        "text/html": "<div>\n<style scoped>\n    .dataframe tbody tr th:only-of-type {\n        vertical-align: middle;\n    }\n\n    .dataframe tbody tr th {\n        vertical-align: top;\n    }\n\n    .dataframe thead th {\n        text-align: right;\n    }\n</style>\n<table border=\"1\" class=\"dataframe\">\n  <thead>\n    <tr style=\"text-align: right;\">\n      <th></th>\n      <th>postcode</th>\n      <th>suburb</th>\n      <th>state</th>\n      <th>lat</th>\n      <th>lon</th>\n      <th>Venues Cluster</th>\n      <th>#1</th>\n      <th>#2</th>\n      <th>#3</th>\n      <th>#4</th>\n      <th>#5</th>\n      <th>#6</th>\n      <th>#7</th>\n      <th>#8</th>\n      <th>#9</th>\n      <th>#10</th>\n    </tr>\n  </thead>\n  <tbody>\n    <tr>\n      <th>4901</th>\n      <td>3000</td>\n      <td>MELBOURNE</td>\n      <td>VIC</td>\n      <td>-37.814563</td>\n      <td>144.970267</td>\n      <td>0.0</td>\n      <td>Coffee Shop</td>\n      <td>Cocktail Bar</td>\n      <td>Italian Restaurant</td>\n      <td>Caf\u00e9</td>\n      <td>Hotel</td>\n      <td>Asian Restaurant</td>\n      <td>Japanese Restaurant</td>\n      <td>Bar</td>\n      <td>BBQ Joint</td>\n      <td>Bookstore</td>\n    </tr>\n    <tr>\n      <th>4902</th>\n      <td>3002</td>\n      <td>EAST MELBOURNE</td>\n      <td>VIC</td>\n      <td>-37.816640</td>\n      <td>144.987811</td>\n      <td>0.0</td>\n      <td>Caf\u00e9</td>\n      <td>Vietnamese Restaurant</td>\n      <td>Cricket Ground</td>\n      <td>Park</td>\n      <td>Tennis Stadium</td>\n      <td>Bakery</td>\n      <td>Vegetarian / Vegan Restaurant</td>\n      <td>Wine Bar</td>\n      <td>Football Stadium</td>\n      <td>Breakfast Spot</td>\n    </tr>\n    <tr>\n      <th>4903</th>\n      <td>3003</td>\n      <td>WEST MELBOURNE</td>\n      <td>VIC</td>\n      <td>-37.806255</td>\n      <td>144.941123</td>\n      <td>0.0</td>\n      <td>Caf\u00e9</td>\n      <td>Korean Restaurant</td>\n      <td>Bar</td>\n      <td>Pub</td>\n      <td>Hotel</td>\n      <td>Sandwich Place</td>\n      <td>Park</td>\n      <td>Restaurant</td>\n      <td>Burger Joint</td>\n      <td>Italian Restaurant</td>\n    </tr>\n    <tr>\n      <th>4904</th>\n      <td>3005</td>\n      <td>WORLD TRADE CENTRE</td>\n      <td>VIC</td>\n      <td>-37.822262</td>\n      <td>144.954856</td>\n      <td>0.0</td>\n      <td>Caf\u00e9</td>\n      <td>Japanese Restaurant</td>\n      <td>Coffee Shop</td>\n      <td>Hotel</td>\n      <td>Bar</td>\n      <td>Australian Restaurant</td>\n      <td>Italian Restaurant</td>\n      <td>Burger Joint</td>\n      <td>Steakhouse</td>\n      <td>French Restaurant</td>\n    </tr>\n    <tr>\n      <th>4905</th>\n      <td>3006</td>\n      <td>SOUTHBANK</td>\n      <td>VIC</td>\n      <td>-37.823258</td>\n      <td>144.965926</td>\n      <td>0.0</td>\n      <td>Hotel</td>\n      <td>Bar</td>\n      <td>Theater</td>\n      <td>Italian Restaurant</td>\n      <td>Performing Arts Venue</td>\n      <td>Park</td>\n      <td>Art Gallery</td>\n      <td>Plaza</td>\n      <td>Caf\u00e9</td>\n      <td>Burger Joint</td>\n    </tr>\n  </tbody>\n</table>\n</div>"
                    }, 
                    "execution_count": 34, 
                    "metadata": {}
                }
            ], 
            "execution_count": 34
        }, 
        {
            "source": "latitude=postcodes[postcodes['suburb']=='MELBOURNE'].lat\nlongitude=postcodes[postcodes['suburb']=='MELBOURNE'].lon\nprint(latitude,longitude)", 
            "cell_type": "code", 
            "metadata": {}, 
            "outputs": [
                {
                    "output_type": "stream", 
                    "name": "stdout", 
                    "text": "4901   -37.814563\nName: lat, dtype: float64 4901    144.970267\nName: lon, dtype: float64\n"
                }
            ], 
            "execution_count": 35
        }, 
        {
            "source": "import matplotlib.cm as cm\nimport matplotlib.colors as colors\n\n# create map\nmap_clusters = folium.Map(location=[latitude, longitude])\n\ncolors_list = ['Red','Blue','Green','Yellow','Purple','Pink','Orange']\n\n# add markers to the map\n#markers_colors = []\n#for lat, lon, poi, cluster in zip(df_melbourne_merged['lat'], df_melbourne_merged['lon'], df_melbourne_merged['suburb'], df_melbourne_merged['Cluster Labels']):\n#    label = folium.Popup(str(poi) + ' Cluster ' + str(cluster), parse_html=True)\n#    folium.CircleMarker(\n#        [lat, lon],\n#        radius=5,\n#        popup=label,\n#        color=colors_list[int(cluster)],\n#        fill=True,\n#       fill_opacity=0.7).add_to(map_clusters)\n\n       \nmap_clusters", 
            "cell_type": "code", 
            "metadata": {
                "scrolled": true
            }, 
            "outputs": [
                {
                    "output_type": "error", 
                    "evalue": "No module named 'distutils.sysconfig'", 
                    "traceback": [
                        "\u001b[0;31m---------------------------------------------------------------------------\u001b[0m", 
                        "\u001b[0;31mImportError\u001b[0m                               Traceback (most recent call last)", 
                        "\u001b[0;32m<ipython-input-36-b1233d6954e1>\u001b[0m in \u001b[0;36m<module>\u001b[0;34m()\u001b[0m\n\u001b[0;32m----> 1\u001b[0;31m \u001b[0;32mimport\u001b[0m \u001b[0mmatplotlib\u001b[0m\u001b[0;34m.\u001b[0m\u001b[0mcm\u001b[0m \u001b[0;32mas\u001b[0m \u001b[0mcm\u001b[0m\u001b[0;34m\u001b[0m\u001b[0m\n\u001b[0m\u001b[1;32m      2\u001b[0m \u001b[0;32mimport\u001b[0m \u001b[0mmatplotlib\u001b[0m\u001b[0;34m.\u001b[0m\u001b[0mcolors\u001b[0m \u001b[0;32mas\u001b[0m \u001b[0mcolors\u001b[0m\u001b[0;34m\u001b[0m\u001b[0m\n\u001b[1;32m      3\u001b[0m \u001b[0;34m\u001b[0m\u001b[0m\n\u001b[1;32m      4\u001b[0m \u001b[0;31m# create map\u001b[0m\u001b[0;34m\u001b[0m\u001b[0;34m\u001b[0m\u001b[0m\n\u001b[1;32m      5\u001b[0m \u001b[0mmap_clusters\u001b[0m \u001b[0;34m=\u001b[0m \u001b[0mfolium\u001b[0m\u001b[0;34m.\u001b[0m\u001b[0mMap\u001b[0m\u001b[0;34m(\u001b[0m\u001b[0mlocation\u001b[0m\u001b[0;34m=\u001b[0m\u001b[0;34m[\u001b[0m\u001b[0mlatitude\u001b[0m\u001b[0;34m,\u001b[0m \u001b[0mlongitude\u001b[0m\u001b[0;34m]\u001b[0m\u001b[0;34m)\u001b[0m\u001b[0;34m\u001b[0m\u001b[0m\n", 
                        "\u001b[0;32m/opt/conda/envs/DSX-Python35/lib/python3.5/site-packages/matplotlib/__init__.py\u001b[0m in \u001b[0;36m<module>\u001b[0;34m()\u001b[0m\n\u001b[1;32m    108\u001b[0m \u001b[0;32mimport\u001b[0m \u001b[0mcontextlib\u001b[0m\u001b[0;34m\u001b[0m\u001b[0m\n\u001b[1;32m    109\u001b[0m \u001b[0;32mimport\u001b[0m \u001b[0mdistutils\u001b[0m\u001b[0;34m.\u001b[0m\u001b[0mversion\u001b[0m\u001b[0;34m\u001b[0m\u001b[0m\n\u001b[0;32m--> 110\u001b[0;31m \u001b[0;32mimport\u001b[0m \u001b[0mdistutils\u001b[0m\u001b[0;34m.\u001b[0m\u001b[0msysconfig\u001b[0m\u001b[0;34m\u001b[0m\u001b[0m\n\u001b[0m\u001b[1;32m    111\u001b[0m \u001b[0;32mimport\u001b[0m \u001b[0mfunctools\u001b[0m\u001b[0;34m\u001b[0m\u001b[0m\n\u001b[1;32m    112\u001b[0m \u001b[0;32mimport\u001b[0m \u001b[0mio\u001b[0m\u001b[0;34m\u001b[0m\u001b[0m\n", 
                        "\u001b[0;31mImportError\u001b[0m: No module named 'distutils.sysconfig'"
                    ], 
                    "ename": "ImportError"
                }
            ], 
            "execution_count": 36
        }, 
        {
            "source": "# Assign cultural clusters\nUse the Australian Beaureu of Statistics API to get a breakdown on the ancestry for the suburb suburb and then use K-means to assign a venue cluster suburbs with similar ancestry", 
            "cell_type": "markdown", 
            "metadata": {}
        }, 
        {
            "source": "mp_url= 'ABS_CENSUS2011_T09/TOT+1+2+3+4+Z.TOT+TOTP+1101+1102+6101+3204+2303+2101+5201+2305+2306+3205+3304+7106+2201+3103+6902+4106+3206+3104+1201+1202+3307+3308+2102+3213+7115+9215+3106+4907+5107+2103+OTH+Z.2.SA2.206031116.A/all?detail=Full&dimensionAtObservation=AllDimensions'\nbw_url= 'ABS_CENSUS2011_T09/TOT+1+2+3+4+Z.TOT+TOTP+1101+1102+6101+3204+2303+2101+5201+2305+2306+3205+3304+7106+2201+3103+6902+4106+3206+3104+1201+1202+3307+3308+2102+3213+7115+9215+3106+4907+5107+2103+OTH+Z.2.SA2.206011105.A/all?detail=Full&dimensionAtObservation=AllDimensions'\nallvic_url='ABS_CENSUS2011_T09/TOT+1+2+3+4+Z.TOT+TOTP+1101+1102+6101+3204+2303+2101+5201+2305+2306+3205+3304+7106+2201+3103+6902+4106+3206+3104+1201+1202+3307+3308+2102+3213+7115+9215+3106+4907+5107+2103+OTH+Z.2.SA2..A/all?detail=Full&dimensionAtObservation=AllDimensions'", 
            "cell_type": "code", 
            "metadata": {}, 
            "outputs": [], 
            "execution_count": 39
        }, 
        {
            "source": "#create request object\nabs = Request('ABS')\nprint(abs,dir(abs))", 
            "cell_type": "code", 
            "metadata": {}, 
            "outputs": [
                {
                    "output_type": "error", 
                    "evalue": "name 'Request' is not defined", 
                    "traceback": [
                        "\u001b[0;31m---------------------------------------------------------------------------\u001b[0m", 
                        "\u001b[0;31mNameError\u001b[0m                                 Traceback (most recent call last)", 
                        "\u001b[0;32m<ipython-input-40-88cc0118b4fb>\u001b[0m in \u001b[0;36m<module>\u001b[0;34m()\u001b[0m\n\u001b[1;32m      1\u001b[0m \u001b[0;31m#create request object\u001b[0m\u001b[0;34m\u001b[0m\u001b[0;34m\u001b[0m\u001b[0m\n\u001b[0;32m----> 2\u001b[0;31m \u001b[0mabs\u001b[0m \u001b[0;34m=\u001b[0m \u001b[0mRequest\u001b[0m\u001b[0;34m(\u001b[0m\u001b[0;34m'ABS'\u001b[0m\u001b[0;34m)\u001b[0m\u001b[0;34m\u001b[0m\u001b[0m\n\u001b[0m\u001b[1;32m      3\u001b[0m \u001b[0mprint\u001b[0m\u001b[0;34m(\u001b[0m\u001b[0mabs\u001b[0m\u001b[0;34m,\u001b[0m\u001b[0mdir\u001b[0m\u001b[0;34m(\u001b[0m\u001b[0mabs\u001b[0m\u001b[0;34m)\u001b[0m\u001b[0;34m)\u001b[0m\u001b[0;34m\u001b[0m\u001b[0m\n", 
                        "\u001b[0;31mNameError\u001b[0m: name 'Request' is not defined"
                    ], 
                    "ename": "NameError"
                }
            ], 
            "execution_count": 40
        }, 
        {
            "source": "#create response object\nresponse = abs.data(allvic_url)\nprint(response,dir(response))", 
            "cell_type": "code", 
            "metadata": {}, 
            "outputs": [], 
            "execution_count": null
        }, 
        {
            "source": "#create dataset object\ndataset=response.data\nprint(dataset, dir(dataset))", 
            "cell_type": "code", 
            "metadata": {}, 
            "outputs": [], 
            "execution_count": null
        }, 
        {
            "source": "##create top level series\ndata=response.write()\nprint(type(data),'\\n',data, dir(data))", 
            "cell_type": "code", 
            "metadata": {}, 
            "outputs": [], 
            "execution_count": null
        }, 
        {
            "source": "The data above is arranged in a single multi index column (with region being the postcode code and ANCP being the ancestry country code), so we need to pull the indexes into columns and then we can access the columns we need more easily:", 
            "cell_type": "markdown", 
            "metadata": {}
        }, 
        {
            "source": "\ndf_ancestry = data.reset_index(name='Value')\nprint(df_ancestry.shape)\ndf_ancestry.head()", 
            "cell_type": "code", 
            "metadata": {}, 
            "outputs": [], 
            "execution_count": null
        }, 
        {
            "source": "#Take only 2011 data\ndf_ancestry = df_ancestry[(df_ancestry['TIME_PERIOD']=='2011')]\n\n#The data includes six different measures of ancestry (father only, mother only, both).\n#in this case the only measure i'm interested in the totals for each ancestry\ndf_ancestry = df_ancestry[(df_ancestry['MEASURE']=='TOT')&(df_ancestry['ANCP']!='TOT')]\n\n#pivot the Ancestry to columns in preparation for k-means analysis\ndf_ancestry = df_ancestry.pivot(index='REGION',columns='ANCP', values='Value')\n\ndf_ancestry.head()", 
            "cell_type": "code", 
            "metadata": {}, 
            "outputs": [], 
            "execution_count": null
        }, 
        {
            "source": "# set number of clusters\nk = 10\n\n# run k-means clustering\nkmeans = KMeans(n_clusters=k, random_state=0).fit(df_ancestry)\n\n# check cluster labels generated for each row in the dataframe\nkmeans.labels_[0:100]", 
            "cell_type": "code", 
            "metadata": {}, 
            "outputs": [], 
            "execution_count": null
        }, 
        {
            "source": "df_ancestry.insert(0,'Ancestry Cluster',kmeans.labels_)\ndf_ancestry.head()", 
            "cell_type": "code", 
            "metadata": {}, 
            "outputs": [], 
            "execution_count": null
        }, 
        {
            "source": "Now to figure out how to get the Countries related to each of the country codes....", 
            "cell_type": "markdown", 
            "metadata": {}
        }, 
        {
            "source": "import xml.etree.ElementTree as ET", 
            "cell_type": "code", 
            "metadata": {}, 
            "outputs": [], 
            "execution_count": null
        }, 
        {
            "source": "user_agent_url = 'http://stat.data.abs.gov.au/restsdmx/sdmx.ashx/GetDataStructure/ABS_CENSUS2011_T09'\nxml_data = requests.get(user_agent_url).content", 
            "cell_type": "code", 
            "metadata": {}, 
            "outputs": [], 
            "execution_count": null
        }, 
        {
            "source": "tree = ET.fromstring(xml_data)\ntree.attrib", 
            "cell_type": "code", 
            "metadata": {}, 
            "outputs": [], 
            "execution_count": null
        }, 
        {
            "source": "#Create a dataframe which will include all the codes\ndf_codes = pd.DataFrame(columns=['code','value'])\n\n#parse the structure xml to get the codes:\nfor child in tree:\n    for lower in child:\n        for codelist in lower:\n            for description in codelist:\n                if(description.attrib.get('{http://www.w3.org/XML/1998/namespace}lang')=='en'):\n                    code = codelist.attrib.get('value')\n                    value = description.text\n                    temp_df = pd.DataFrame([[code,value]],columns=['code','value'])\n                    df_codes=pd.concat([df_codes,temp_df])\n\n#set the code as the index of the table\ndf_codes.set_index('code', inplace=True)\n\n#strip whitespaces from the values column\ndf_codes['value'] = df_codes['value'].str.strip()\ndf_codes.head()", 
            "cell_type": "code", 
            "metadata": {}, 
            "outputs": [], 
            "execution_count": null
        }, 
        {
            "source": "df_codes.loc['1102']", 
            "cell_type": "code", 
            "metadata": {}, 
            "outputs": [], 
            "execution_count": null
        }, 
        {
            "source": "df_codes[df_codes['value']=='Vietnamese']", 
            "cell_type": "code", 
            "metadata": {}, 
            "outputs": [], 
            "execution_count": null
        }, 
        {
            "source": "df_ancestry.head()", 
            "cell_type": "code", 
            "metadata": {}, 
            "outputs": [], 
            "execution_count": null
        }, 
        {
            "source": "df_ancestry = df_ancestry.join(df_codes)", 
            "cell_type": "code", 
            "metadata": {}, 
            "outputs": [], 
            "execution_count": null
        }, 
        {
            "source": "df_ancestry[df_ancestry['Ancestry Cluster']==8].head()", 
            "cell_type": "code", 
            "metadata": {}, 
            "outputs": [], 
            "execution_count": null
        }, 
        {
            "source": "df_ancestry[df_ancestry['value']=='Footscray'].max(axis=1)", 
            "cell_type": "code", 
            "metadata": {
                "scrolled": true
            }, 
            "outputs": [], 
            "execution_count": null
        }, 
        {
            "source": "# select only the required columns, fix the names and make suburb lowercase for searching\ndf_ancestry = df_ancestry[['value','Ancestry Cluster']]\ndf_ancestry.rename(columns={\"value\":\"suburb\"}, inplace=True)\n", 
            "cell_type": "code", 
            "metadata": {}, 
            "outputs": [], 
            "execution_count": null
        }, 
        {
            "source": "\n#strip out whitespace, change to lowercase\ndf_ancestry['suburb'] = df_ancestry['suburb'].str.lower()\ndf_melbourne_merged['suburb']=df_melbourne_merged['suburb'].str.lower()\n#df_melbourne_merged['suburb']=df_melbourne_merged['suburb'].str.strip()\n#df_melbourne_merged['suburb']=df_melbourne_merged['suburb'].str.replace(\" \", \"_\")\n#df_ancestry['suburb']=df_ancestry['suburb'].str.strip()\n#df_ancestry['suburb']=df_ancestry['suburb'].str.replace(\" \", \"_\")\n\n#merge on suburb\ndf_complete = df_melbourne_merged.merge(df_ancestry, how='left', on='suburb')", 
            "cell_type": "code", 
            "metadata": {}, 
            "outputs": [], 
            "execution_count": null
        }, 
        {
            "source": "#merge on suburb? only matches about half the suburbs!\ndf_complete = df_melbourne_merged.merge(df_ancestry, how='left', on='suburb')\ndf_complete", 
            "cell_type": "code", 
            "metadata": {}, 
            "outputs": [], 
            "execution_count": null
        }, 
        {
            "source": "df_complete[pd.isnull(df_complete['Ancestry Cluster'])]\n    ", 
            "cell_type": "code", 
            "metadata": {}, 
            "outputs": [], 
            "execution_count": null
        }, 
        {
            "source": "for suburb in df_complete[pd.isnull(df_complete['Ancestry Cluster'])]['suburb']:\n    print(df_ancestry.loc[df_ancestry['suburb'].str.contains(suburb)]['Ancestry Cluster'])", 
            "cell_type": "code", 
            "metadata": {}, 
            "outputs": [], 
            "execution_count": null
        }, 
        {
            "source": "for suburb in df_complete[pd.isnull(df_complete['Ancestry Cluster'])]['suburb']:\n    if(len(df_ancestry.loc[df_ancestry['suburb'].str.contains(suburb)]['Ancestry Cluster'])>0):\n        print(df_ancestry.loc[df_ancestry['suburb'].str.contains(suburb)]['Ancestry Cluster'][0])", 
            "cell_type": "code", 
            "metadata": {}, 
            "outputs": [], 
            "execution_count": null
        }, 
        {
            "source": "for suburb in df_complete[pd.isnull(df_complete['Ancestry Cluster'])]['suburb']:\n    if(len(df_ancestry.loc[df_ancestry['suburb'].str.contains(suburb)]['Ancestry Cluster'])>0):\n        print(df_complete[df_complete['suburb']==suburb]['Ancestry Cluster'])\n        print(\"will get cluster:\",df_ancestry.loc[df_ancestry['suburb'].str.contains(suburb)]['Ancestry Cluster'][0])\n        df_complete[df_complete['suburb']==suburb]['Ancestry Cluster']=df_ancestry.loc[df_ancestry['suburb'].str.contains(suburb)]['Ancestry Cluster'][0]", 
            "cell_type": "code", 
            "metadata": {}, 
            "outputs": [], 
            "execution_count": null
        }, 
        {
            "source": "df_complete", 
            "cell_type": "code", 
            "metadata": {}, 
            "outputs": [], 
            "execution_count": null
        }, 
        {
            "source": "suburb = 'seddon'\ndf_ancestry[df_ancestry['suburb'].str.contains(suburb)]", 
            "cell_type": "code", 
            "metadata": {}, 
            "outputs": [], 
            "execution_count": null
        }, 
        {
            "source": "", 
            "cell_type": "code", 
            "metadata": {}, 
            "outputs": [], 
            "execution_count": null
        }, 
        {
            "source": "", 
            "cell_type": "code", 
            "metadata": {}, 
            "outputs": [], 
            "execution_count": null
        }, 
        {
            "source": "df_ancestry[df_ancestry['suburb'].str.contains('melbourne')]['Ancestry Cluster']\n                                                                        ", 
            "cell_type": "code", 
            "metadata": {}, 
            "outputs": [], 
            "execution_count": null
        }, 
        {
            "source": "#fuzzy match??\nimport difflib\ndf_ancestry2=df_ancestry\ndf_melbourne_merged2=df_melbourne_merged\n\ndf_ancestry2['suburb'] = df_ancestry2['suburb'].apply(lambda x: difflib.get_close_matches(x, df_melbourne_merged2['suburb'])[0])\ndf_melbourne_merged2.merge(df_ancestry2)", 
            "cell_type": "code", 
            "metadata": {}, 
            "outputs": [], 
            "execution_count": null
        }, 
        {
            "source": "# Assign age and income brackets\n", 
            "cell_type": "markdown", 
            "metadata": {}
        }, 
        {
            "source": "#define a function which takes a suburb name and scrapes the web for median age and household income statistics\ndef get_age_income(state,suburb):\n    \n    #Format the url\n    url='https://propertydata.realestateview.com.au/propertydata/suburb-profile/'+state+'/'\n    suburb = suburb.split()\n    i=0\n    for i in suburb:\n        url=url+i+\"+\"\n\n    #get the page text for the suburb\n    page = requests.get(url).text\n    soup = BeautifulSoup(page, 'lxml')\n    \n    #find all the important elements\n    sp = soup.find_all('b')\n    \n    #get the median age and income for the suburb\n    for element in sp:\n        if element.text=='Median Age':\n            age = element.next_sibling.next_sibling.translate({ord(i): None for i in '\\n\\t'})\n        if element.text=='Weekly Household Income':\n            income = element.next_sibling.next_sibling.translate({ord(i): None for i in '\\n\\t'})\n        \n    return age, income", 
            "cell_type": "code", 
            "metadata": {}, 
            "outputs": [], 
            "execution_count": null
        }, 
        {
            "source": "get_age_income('victoria','bright')", 
            "cell_type": "code", 
            "metadata": {}, 
            "outputs": [], 
            "execution_count": null
        }, 
        {
            "source": "", 
            "cell_type": "code", 
            "metadata": {}, 
            "outputs": [], 
            "execution_count": null
        }
    ], 
    "metadata": {
        "kernelspec": {
            "display_name": "Python 3.5", 
            "name": "python3", 
            "language": "python"
        }, 
        "language_info": {
            "mimetype": "text/x-python", 
            "nbconvert_exporter": "python", 
            "version": "3.5.5", 
            "name": "python", 
            "file_extension": ".py", 
            "pygments_lexer": "ipython3", 
            "codemirror_mode": {
                "version": 3, 
                "name": "ipython"
            }
        }
    }, 
    "nbformat": 4
}